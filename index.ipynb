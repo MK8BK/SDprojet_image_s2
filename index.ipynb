{
 "cells": [
  {
   "cell_type": "markdown",
   "id": "c0bafd3f",
   "metadata": {
    "deletable": false,
    "editable": false,
    "nbgrader": {
     "cell_type": "markdown",
     "checksum": "f6c8728c41191e222c533bab4bd2e89f",
     "grade": false,
     "grade_id": "cell-4911a792a82448d7",
     "locked": true,
     "schema_version": 3,
     "solution": false
    }
   },
   "source": [
    "# Semaine 5"
   ]
  },
  {
   "cell_type": "markdown",
   "id": "5a10a2ac",
   "metadata": {
    "deletable": false,
    "editable": false,
    "nbgrader": {
     "cell_type": "markdown",
     "checksum": "dfb82db384cb593e909ba7ab81c241a5",
     "grade": false,
     "grade_id": "cell-4911a792a82448d8",
     "locked": true,
     "schema_version": 3,
     "solution": false
    }
   },
   "source": [
    "## Consignes\n",
    "\n",
    "Avant mardi 1er mars à 22h:\n",
    "- Relire les [diapos du cours 5](CM5.md)\n",
    "- Rendu final du mini-projet 1. Vous devrez avoir déposé votre version\n",
    "  finale du dossier `Semaine5` sur GitLab. Pour les binômes, chaque\n",
    "  membre devra faire un dépôt séparé, même si les deux soumissions\n",
    "  sont identiques."
   ]
  },
  {
   "cell_type": "markdown",
   "id": "9fbe4ad5",
   "metadata": {
    "deletable": false,
    "editable": false,
    "nbgrader": {
     "cell_type": "markdown",
     "checksum": "e0c3a34bc4de1bb2f691a60706b3af12",
     "grade": false,
     "grade_id": "cell-4911a792a82448d9",
     "locked": true,
     "schema_version": 3,
     "solution": false
    }
   },
   "source": [
    "## TP: fin du mini-projet 1\n",
    "\n",
    "La semaine précédente, vous avez appliqué le schéma VI-ME-RÉ-BAR --\n",
    "[VI]sualisation, [MÉ]trique, [Ré]férence, [BAR]res d'erreur -- pour la\n",
    "classification de votre propre jeu de données. Vous avez:\n",
    "\n",
    "- Fait quelques essais avec un des jeux de données fournis\n",
    "- Déroulé l'analyse de données avec des attributs simples (par exemple\n",
    "  rougeur et élongation) ainsi qu'un premier classifieur, afin\n",
    "  d'obtenir votre référence: sans chercher à optimiser, quelle\n",
    "  performance de classification obtient-on?\n",
    "- Implémenté d'autres attributs et déroulé à nouveau l'analyse pour\n",
    "  obtenir une meilleure performance.\n",
    "\n",
    "### Objectifs\n",
    "\n",
    "L'objectif de cette deuxième semaine de mini-projet est de mettre en\n",
    "application le [cours de cette semaine](CM5.md) en explorant d'autres\n",
    "classificateurs. Vous pouvez au choix:\n",
    "\n",
    "- Implémenter l'un des classificateurs décrits dans le cours:\n",
    "  - OneR(**)\n",
    "  - KNN: k-plus proches voisins (*)\n",
    "  - Arbre de décision (*)\n",
    "  - Fenêtre de Parzen (*)\n",
    "  - Perceptron (**)\n",
    "- Essayer plusieurs autres [classificateurs fournis par Scikit-Learn](https://scikit-learn.org/stable/auto_examples/classification/plot_classifier_comparison.html) comme par exemple:\n",
    "  - Autre méthode de noyau (****)\n",
    "  - Perceptron multi-couche (****)"
   ]
  },
  {
   "cell_type": "markdown",
   "id": "06738902",
   "metadata": {
    "deletable": false,
    "editable": false,
    "nbgrader": {
     "cell_type": "markdown",
     "checksum": "1f057cf3b9aeeb6586f22994d26f6597",
     "grade": false,
     "grade_id": "cell-4911a792a82448dD",
     "locked": true,
     "schema_version": 3,
     "solution": false
    }
   },
   "source": [
    "### Au travail!\n",
    "\n",
    "- [ ] Vérifiez votre inscription avec votre binôme pour le projet 1\n",
    "     dans le [document\n",
    "     partagé](https://codimd.math.cnrs.fr/3f98v4-YT4CN2ktM6_g5lw?both).\n",
    "     Inscrivez-vous aussi si vous n'avez pas encore de binôme!\n",
    "- [ ] Téléchargez le sujet de TP `Semaine5` (rappel des\n",
    "     [instructions](http://nicolas.thiery.name/Enseignement/IntroScienceDonnees/Devoirs/Semaine1/index.html#telechargement-et-depot-des-tps))\n",
    "- [ ] Recopiez dans `Semaine5` vos feuilles de travail de la semaine 4:\n",
    "\n",
    "        cd ~/IntroScienceDonnees/Semaine5\n",
    "        cp ../Semaine4/?_*.md .\n",
    "\n",
    "- [ ] Ouvrez la feuille [index](index.md) pour retrouver ces consignes.\n",
    "- [ ] Consultez la section « Rapport » en fin de feuille.\n",
    "- [ ] Révisez les [bonnes pratiques](../Semaine3/1_bonnes_pratiques.md)\n",
    "\t vues en semaine 3.\n",
    "- [ ] Partez à la découverte des [classificateurs](5_classificateurs.md).\n",
    "- [ ] Reprenez votre analyse de la semaine dernière dans la feuille\n",
    "     [analyse de donnees](4_analyse_de_donnees.md) avec vos propres\n",
    "     classificateurs.\n",
    "\n",
    "\n",
    "- [ ] Si nécessaire, relisez les\n",
    "     [instructions](http://nicolas.thiery.name/Enseignement/IntroScienceDonnees/Students/Semaine1/index.html#telechargement-et-depot-des-tps)\n",
    "     pour le téléchargement et le dépôt des TPs, ainsi que les \n",
    "\t [bonnes pratiques](http://nicolas.thiery.name/Enseignement/IntroScienceDonnees/Students/Semaine1/index.html#bonnes-pratiques)."
   ]
  },
  {
   "cell_type": "markdown",
   "id": "2e56eeea",
   "metadata": {
    "deletable": false,
    "editable": false,
    "nbgrader": {
     "cell_type": "markdown",
     "checksum": "ec6c6b6156fb00ec8024441b2fabc1bf",
     "grade": false,
     "grade_id": "cell-4911a792a82448dE",
     "locked": true,
     "schema_version": 3,
     "solution": false
    }
   },
   "source": [
    "### Rapport\n",
    "\n",
    "Cette feuille joue le rôle de mini-rapport ci-dessous. Elle vous\n",
    "permettra à vous et votre enseignant ou enseignante d'évaluer rapidement votre\n",
    "avancement sur cette première partie du projet. \n",
    "\n",
    "Au fur et à mesure, vous cocherez ci-dessus les actions que vous aurez\n",
    "effectuées; pour cela, double-cliquez sur la cellule pour l'éditer, et\n",
    "remplacez `- [ ]` par `- [x]`. Vous prendrez aussi des notes\n",
    "ci-dessous. Enfin, vous consulterez la section « Revue de code »\n",
    "ci-dessous pour vérifier la qualité de votre code."
   ]
  },
  {
   "cell_type": "markdown",
   "id": "11544d81",
   "metadata": {
    "deletable": false,
    "nbgrader": {
     "cell_type": "markdown",
     "checksum": "9de4c98836a55c9dbd666c730e4b7b3a",
     "grade": true,
     "grade_id": "cell-4911a792a82448dF",
     "locked": false,
     "points": 1,
     "schema_version": 3,
     "solution": true,
     "task": false
    }
   },
   "source": [
    "- [x] Vérifiez votre inscription avec votre binôme pour le projet 1\n",
    "     dans le [document\n",
    "     partagé](https://codimd.math.cnrs.fr/3f98v4-YT4CN2ktM6_g5lw?both).\n",
    "     Inscrivez-vous aussi si vous n'avez pas encore de binôme!\n",
    "- [x] Téléchargez le sujet de TP `Semaine5` (rappel des\n",
    "     [instructions](http://nicolas.thiery.name/Enseignement/IntroScienceDonnees/Devoirs/Semaine1/index.html#telechargement-et-depot-des-tps))\n",
    "- [x] Recopiez dans `Semaine5` vos feuilles de travail de la semaine 4:\n",
    "\n",
    "        cd ~/IntroScienceDonnees/Semaine5\n",
    "        cp ../Semaine4/?_*.md .\n",
    "\n",
    "- [x] Ouvrez la feuille [index](index.md) pour retrouver ces consignes.\n",
    "- [x] Consultez la section « Rapport » en fin de feuille.\n",
    "- [x] Révisez les [bonnes pratiques](../Semaine3/1_bonnes_pratiques.md)\n",
    "\t vues en semaine 3.\n",
    "- [ ] Partez à la découverte des [classificateurs](5_classificateurs.md).\n",
    "- [ ] Reprenez votre analyse de la semaine dernière dans la feuille\n",
    "     [analyse de donnees](4_analyse_de_donnees.md) avec vos propres\n",
    "     classificateurs.\n",
    "\n",
    "\n",
    "- [ ] Si nécessaire, relisez les\n",
    "     [instructions](http://nicolas.thiery.name/Enseignement/IntroScienceDonnees/Students/Semaine1/index.html#telechargement-et-depot-des-tps)\n",
    "     pour le téléchargement et le dépôt des TPs, ainsi que les \n",
    "\t [bonnes pratiques](http://nicolas.thiery.name/Enseignement/IntroScienceDonnees/Students/Semaine1/index.html#bonnes-pratiques)."
   ]
  },
  {
   "cell_type": "markdown",
   "id": "36abcdbf",
   "metadata": {
    "deletable": false,
    "editable": false,
    "nbgrader": {
     "cell_type": "markdown",
     "checksum": "db64aca779ecc9f6030d7442c300f254",
     "grade": false,
     "grade_id": "cell-4911a792a82448dG",
     "locked": true,
     "schema_version": 3,
     "solution": false,
     "task": false
    }
   },
   "source": [
    "#### Revue du code\n",
    "\n",
    "##### Affichage du code des principales fonctions"
   ]
  },
  {
   "cell_type": "code",
   "execution_count": 1,
   "id": "4549bfab",
   "metadata": {
    "deletable": false,
    "editable": false,
    "nbgrader": {
     "cell_type": "code",
     "checksum": "6744175f54caf5f72be76a7ffb88cc9d",
     "grade": false,
     "grade_id": "cell-006fb180e6a86e73",
     "locked": true,
     "schema_version": 3,
     "solution": false,
     "task": false
    }
   },
   "outputs": [
    {
     "data": {
      "text/html": [
       "<style>pre { line-height: 125%; }\n",
       "td.linenos .normal { color: inherit; background-color: transparent; padding-left: 5px; padding-right: 5px; }\n",
       "span.linenos { color: inherit; background-color: transparent; padding-left: 5px; padding-right: 5px; }\n",
       "td.linenos .special { color: #000000; background-color: #ffffc0; padding-left: 5px; padding-right: 5px; }\n",
       "span.linenos.special { color: #000000; background-color: #ffffc0; padding-left: 5px; padding-right: 5px; }\n",
       ".pygments .hll { background-color: #ffffcc }\n",
       ".pygments { background: #f8f8f8; }\n",
       ".pygments .c { color: #408080; font-style: italic } /* Comment */\n",
       ".pygments .err { border: 1px solid #FF0000 } /* Error */\n",
       ".pygments .k { color: #008000; font-weight: bold } /* Keyword */\n",
       ".pygments .o { color: #666666 } /* Operator */\n",
       ".pygments .ch { color: #408080; font-style: italic } /* Comment.Hashbang */\n",
       ".pygments .cm { color: #408080; font-style: italic } /* Comment.Multiline */\n",
       ".pygments .cp { color: #BC7A00 } /* Comment.Preproc */\n",
       ".pygments .cpf { color: #408080; font-style: italic } /* Comment.PreprocFile */\n",
       ".pygments .c1 { color: #408080; font-style: italic } /* Comment.Single */\n",
       ".pygments .cs { color: #408080; font-style: italic } /* Comment.Special */\n",
       ".pygments .gd { color: #A00000 } /* Generic.Deleted */\n",
       ".pygments .ge { font-style: italic } /* Generic.Emph */\n",
       ".pygments .gr { color: #FF0000 } /* Generic.Error */\n",
       ".pygments .gh { color: #000080; font-weight: bold } /* Generic.Heading */\n",
       ".pygments .gi { color: #00A000 } /* Generic.Inserted */\n",
       ".pygments .go { color: #888888 } /* Generic.Output */\n",
       ".pygments .gp { color: #000080; font-weight: bold } /* Generic.Prompt */\n",
       ".pygments .gs { font-weight: bold } /* Generic.Strong */\n",
       ".pygments .gu { color: #800080; font-weight: bold } /* Generic.Subheading */\n",
       ".pygments .gt { color: #0044DD } /* Generic.Traceback */\n",
       ".pygments .kc { color: #008000; font-weight: bold } /* Keyword.Constant */\n",
       ".pygments .kd { color: #008000; font-weight: bold } /* Keyword.Declaration */\n",
       ".pygments .kn { color: #008000; font-weight: bold } /* Keyword.Namespace */\n",
       ".pygments .kp { color: #008000 } /* Keyword.Pseudo */\n",
       ".pygments .kr { color: #008000; font-weight: bold } /* Keyword.Reserved */\n",
       ".pygments .kt { color: #B00040 } /* Keyword.Type */\n",
       ".pygments .m { color: #666666 } /* Literal.Number */\n",
       ".pygments .s { color: #BA2121 } /* Literal.String */\n",
       ".pygments .na { color: #7D9029 } /* Name.Attribute */\n",
       ".pygments .nb { color: #008000 } /* Name.Builtin */\n",
       ".pygments .nc { color: #0000FF; font-weight: bold } /* Name.Class */\n",
       ".pygments .no { color: #880000 } /* Name.Constant */\n",
       ".pygments .nd { color: #AA22FF } /* Name.Decorator */\n",
       ".pygments .ni { color: #999999; font-weight: bold } /* Name.Entity */\n",
       ".pygments .ne { color: #D2413A; font-weight: bold } /* Name.Exception */\n",
       ".pygments .nf { color: #0000FF } /* Name.Function */\n",
       ".pygments .nl { color: #A0A000 } /* Name.Label */\n",
       ".pygments .nn { color: #0000FF; font-weight: bold } /* Name.Namespace */\n",
       ".pygments .nt { color: #008000; font-weight: bold } /* Name.Tag */\n",
       ".pygments .nv { color: #19177C } /* Name.Variable */\n",
       ".pygments .ow { color: #AA22FF; font-weight: bold } /* Operator.Word */\n",
       ".pygments .w { color: #bbbbbb } /* Text.Whitespace */\n",
       ".pygments .mb { color: #666666 } /* Literal.Number.Bin */\n",
       ".pygments .mf { color: #666666 } /* Literal.Number.Float */\n",
       ".pygments .mh { color: #666666 } /* Literal.Number.Hex */\n",
       ".pygments .mi { color: #666666 } /* Literal.Number.Integer */\n",
       ".pygments .mo { color: #666666 } /* Literal.Number.Oct */\n",
       ".pygments .sa { color: #BA2121 } /* Literal.String.Affix */\n",
       ".pygments .sb { color: #BA2121 } /* Literal.String.Backtick */\n",
       ".pygments .sc { color: #BA2121 } /* Literal.String.Char */\n",
       ".pygments .dl { color: #BA2121 } /* Literal.String.Delimiter */\n",
       ".pygments .sd { color: #BA2121; font-style: italic } /* Literal.String.Doc */\n",
       ".pygments .s2 { color: #BA2121 } /* Literal.String.Double */\n",
       ".pygments .se { color: #BB6622; font-weight: bold } /* Literal.String.Escape */\n",
       ".pygments .sh { color: #BA2121 } /* Literal.String.Heredoc */\n",
       ".pygments .si { color: #BB6688; font-weight: bold } /* Literal.String.Interpol */\n",
       ".pygments .sx { color: #008000 } /* Literal.String.Other */\n",
       ".pygments .sr { color: #BB6688 } /* Literal.String.Regex */\n",
       ".pygments .s1 { color: #BA2121 } /* Literal.String.Single */\n",
       ".pygments .ss { color: #19177C } /* Literal.String.Symbol */\n",
       ".pygments .bp { color: #008000 } /* Name.Builtin.Pseudo */\n",
       ".pygments .fm { color: #0000FF } /* Name.Function.Magic */\n",
       ".pygments .vc { color: #19177C } /* Name.Variable.Class */\n",
       ".pygments .vg { color: #19177C } /* Name.Variable.Global */\n",
       ".pygments .vi { color: #19177C } /* Name.Variable.Instance */\n",
       ".pygments .vm { color: #19177C } /* Name.Variable.Magic */\n",
       ".pygments .il { color: #666666 } /* Literal.Number.Integer.Long */</style><div class=\"pygments\"><pre><span></span><span class=\"k\">def</span> <span class=\"nf\">show_color_channels</span><span class=\"p\">(</span><span class=\"n\">img</span><span class=\"p\">:</span> <span class=\"n\">Image</span><span class=\"o\">.</span><span class=\"n\">Image</span><span class=\"p\">)</span> <span class=\"o\">-&gt;</span> <span class=\"n\">Figure</span><span class=\"p\">:</span>\n",
       "    <span class=\"sd\">&quot;&quot;&quot;</span>\n",
       "<span class=\"sd\">    Return a figure displaying the image together with its red, green, and blue layers</span>\n",
       "<span class=\"sd\">    &quot;&quot;&quot;</span>\n",
       "    <span class=\"n\">black_red_cmap</span>   <span class=\"o\">=</span> <span class=\"n\">LinearSegmentedColormap</span><span class=\"o\">.</span><span class=\"n\">from_list</span><span class=\"p\">(</span><span class=\"s1\">&#39;black_red_cmap&#39;</span><span class=\"p\">,</span>   <span class=\"p\">[</span><span class=\"s2\">&quot;black&quot;</span><span class=\"p\">,</span> <span class=\"s2\">&quot;red&quot;</span><span class=\"p\">])</span>\n",
       "    <span class=\"n\">black_green_cmap</span> <span class=\"o\">=</span> <span class=\"n\">LinearSegmentedColormap</span><span class=\"o\">.</span><span class=\"n\">from_list</span><span class=\"p\">(</span><span class=\"s1\">&#39;black_green_cmap&#39;</span><span class=\"p\">,</span> <span class=\"p\">[</span><span class=\"s2\">&quot;black&quot;</span><span class=\"p\">,</span> <span class=\"s2\">&quot;green&quot;</span><span class=\"p\">])</span>\n",
       "    <span class=\"n\">black_blue_cmap</span>  <span class=\"o\">=</span> <span class=\"n\">LinearSegmentedColormap</span><span class=\"o\">.</span><span class=\"n\">from_list</span><span class=\"p\">(</span><span class=\"s1\">&#39;black_blue_cmap&#39;</span><span class=\"p\">,</span>  <span class=\"p\">[</span><span class=\"s2\">&quot;black&quot;</span><span class=\"p\">,</span> <span class=\"s2\">&quot;blue&quot;</span><span class=\"p\">])</span>\n",
       "    <span class=\"n\">m</span> <span class=\"o\">=</span> <span class=\"n\">np</span><span class=\"o\">.</span><span class=\"n\">array</span><span class=\"p\">(</span><span class=\"n\">img</span><span class=\"p\">)</span>\n",
       "    <span class=\"n\">fig</span> <span class=\"o\">=</span> <span class=\"n\">Figure</span><span class=\"p\">(</span><span class=\"n\">figsize</span><span class=\"o\">=</span><span class=\"p\">(</span><span class=\"mi\">30</span><span class=\"p\">,</span><span class=\"mi\">5</span><span class=\"p\">));</span>\n",
       "    <span class=\"p\">(</span><span class=\"n\">subplot</span><span class=\"p\">,</span> <span class=\"n\">subplotr</span><span class=\"p\">,</span> <span class=\"n\">subplotg</span><span class=\"p\">,</span> <span class=\"n\">subplotb</span><span class=\"p\">)</span> <span class=\"o\">=</span> <span class=\"n\">fig</span><span class=\"o\">.</span><span class=\"n\">subplots</span><span class=\"p\">(</span><span class=\"mi\">1</span><span class=\"p\">,</span> <span class=\"mi\">4</span><span class=\"p\">)</span>  <span class=\"c1\"># Quatre zones de dessin</span>\n",
       "    <span class=\"c1\"># Dessin de l&#39;image et de ses trois couches</span>\n",
       "    <span class=\"n\">subplot</span><span class=\"o\">.</span><span class=\"n\">imshow</span><span class=\"p\">(</span><span class=\"n\">m</span><span class=\"p\">)</span>\n",
       "    <span class=\"n\">imgr</span> <span class=\"o\">=</span> <span class=\"n\">subplotr</span><span class=\"o\">.</span><span class=\"n\">imshow</span><span class=\"p\">(</span><span class=\"n\">m</span><span class=\"p\">[:,:,</span><span class=\"mi\">0</span><span class=\"p\">],</span> <span class=\"n\">cmap</span><span class=\"o\">=</span><span class=\"n\">black_red_cmap</span><span class=\"p\">,</span>   <span class=\"n\">vmin</span><span class=\"o\">=</span><span class=\"mi\">0</span><span class=\"p\">,</span> <span class=\"n\">vmax</span><span class=\"o\">=</span><span class=\"mi\">255</span><span class=\"p\">)</span>\n",
       "    <span class=\"n\">imgg</span> <span class=\"o\">=</span> <span class=\"n\">subplotg</span><span class=\"o\">.</span><span class=\"n\">imshow</span><span class=\"p\">(</span><span class=\"n\">m</span><span class=\"p\">[:,:,</span><span class=\"mi\">1</span><span class=\"p\">],</span> <span class=\"n\">cmap</span><span class=\"o\">=</span><span class=\"n\">black_green_cmap</span><span class=\"p\">,</span> <span class=\"n\">vmin</span><span class=\"o\">=</span><span class=\"mi\">0</span><span class=\"p\">,</span> <span class=\"n\">vmax</span><span class=\"o\">=</span><span class=\"mi\">255</span><span class=\"p\">)</span>\n",
       "    <span class=\"n\">imgb</span> <span class=\"o\">=</span> <span class=\"n\">subplotb</span><span class=\"o\">.</span><span class=\"n\">imshow</span><span class=\"p\">(</span><span class=\"n\">m</span><span class=\"p\">[:,:,</span><span class=\"mi\">2</span><span class=\"p\">],</span> <span class=\"n\">cmap</span><span class=\"o\">=</span><span class=\"n\">black_blue_cmap</span><span class=\"p\">,</span>  <span class=\"n\">vmin</span><span class=\"o\">=</span><span class=\"mi\">0</span><span class=\"p\">,</span> <span class=\"n\">vmax</span><span class=\"o\">=</span><span class=\"mi\">255</span><span class=\"p\">)</span>\n",
       "    <span class=\"c1\"># Ajout des barres d&#39;échelle de couleur aux images</span>\n",
       "    <span class=\"n\">fig</span><span class=\"o\">.</span><span class=\"n\">colorbar</span><span class=\"p\">(</span><span class=\"n\">imgr</span><span class=\"p\">,</span> <span class=\"n\">ax</span><span class=\"o\">=</span><span class=\"n\">subplotr</span><span class=\"p\">);</span>\n",
       "    <span class=\"n\">fig</span><span class=\"o\">.</span><span class=\"n\">colorbar</span><span class=\"p\">(</span><span class=\"n\">imgg</span><span class=\"p\">,</span> <span class=\"n\">ax</span><span class=\"o\">=</span><span class=\"n\">subplotg</span><span class=\"p\">);</span>\n",
       "    <span class=\"n\">fig</span><span class=\"o\">.</span><span class=\"n\">colorbar</span><span class=\"p\">(</span><span class=\"n\">imgb</span><span class=\"p\">,</span> <span class=\"n\">ax</span><span class=\"o\">=</span><span class=\"n\">subplotb</span><span class=\"p\">);</span>\n",
       "    <span class=\"k\">return</span> <span class=\"n\">fig</span>\n",
       "</pre></div>\n"
      ],
      "text/plain": [
       "<IPython.core.display.HTML object>"
      ]
     },
     "metadata": {},
     "output_type": "display_data"
    }
   ],
   "source": [
    "from utilities import *\n",
    "# Feuille 2_images.md\n",
    "show_source(show_color_channels)"
   ]
  },
  {
   "cell_type": "markdown",
   "id": "73773a17",
   "metadata": {
    "deletable": false,
    "editable": false,
    "nbgrader": {
     "cell_type": "markdown",
     "checksum": "abdfb5a24c36ae9a2cd982e3bcd4dba8",
     "grade": false,
     "grade_id": "cell-d21a1d7d40d56302",
     "locked": true,
     "schema_version": 3,
     "solution": false,
     "task": false
    }
   },
   "source": [
    "##### Conventions de codage\n",
    "\n",
    "L'outil `flake8` permet de vérifier que votre code respecte les\n",
    "conventions de codage usuelles de Python, telles que définies\n",
    "notamment par le document [PEP\n",
    "8](https://www.python.org/dev/peps/pep-0008/). Si la cellule suivante\n",
    "affiche des avertissements, suivez les indications données pour\n",
    "peaufiner votre code."
   ]
  },
  {
   "cell_type": "code",
   "execution_count": 2,
   "id": "69a05fae",
   "metadata": {
    "deletable": false,
    "editable": false,
    "nbgrader": {
     "cell_type": "code",
     "checksum": "698d7f2038bc259e761d6835254b4b13",
     "grade": true,
     "grade_id": "cell-ce5cf24a9e83ff0e",
     "locked": true,
     "points": 2,
     "schema_version": 3,
     "solution": false,
     "task": false
    }
   },
   "outputs": [
    {
     "ename": "NameError",
     "evalue": "name 'run_without_error' is not defined",
     "output_type": "error",
     "traceback": [
      "\u001b[1;31m---------------------------------------------------------------------------\u001b[0m",
      "\u001b[1;31mNameError\u001b[0m                                 Traceback (most recent call last)",
      "\u001b[1;32m~\\AppData\\Local\\Temp/ipykernel_15412/3929026667.py\u001b[0m in \u001b[0;36m<module>\u001b[1;34m\u001b[0m\n\u001b[1;32m----> 1\u001b[1;33m \u001b[1;32massert\u001b[0m \u001b[0mrun_without_error\u001b[0m\u001b[1;33m(\u001b[0m\u001b[1;34m\"flake8 utilities.py\"\u001b[0m\u001b[1;33m)\u001b[0m\u001b[1;33m\u001b[0m\u001b[1;33m\u001b[0m\u001b[0m\n\u001b[0m",
      "\u001b[1;31mNameError\u001b[0m: name 'run_without_error' is not defined"
     ]
    }
   ],
   "source": [
    "assert run_without_error(\"flake8 utilities.py\")"
   ]
  },
  {
   "cell_type": "markdown",
   "id": "bf1a9953",
   "metadata": {},
   "source": [
    "### Barême indicatif /20\n",
    "\n",
    "* 1_tableaux.md : 1,5 points \n",
    "* 2_images.md : 2 points \n",
    "* 3_features.md : 1 point\n",
    "* 4_analyse_de_données.md : 10 points \n",
    "* 5_classificateur.md : 4 points (+ 3 points bonus pour le OneR)\n",
    "* index (semaine 4 et 5) : 1,5 points"
   ]
  },
  {
   "cell_type": "code",
   "execution_count": null,
   "id": "f32c6fcf",
   "metadata": {},
   "outputs": [],
   "source": []
  }
 ],
 "metadata": {
  "jupytext": {
   "text_representation": {
    "extension": ".md",
    "format_name": "myst",
    "format_version": 0.13,
    "jupytext_version": "1.13.1"
   }
  },
  "kernelspec": {
   "display_name": "Python 3 (ipykernel)",
   "language": "python",
   "name": "python3"
  },
  "language_info": {
   "codemirror_mode": {
    "name": "ipython",
    "version": 3
   },
   "file_extension": ".py",
   "mimetype": "text/x-python",
   "name": "python",
   "nbconvert_exporter": "python",
   "pygments_lexer": "ipython3",
   "version": "3.9.7"
  }
 },
 "nbformat": 4,
 "nbformat_minor": 5
}
