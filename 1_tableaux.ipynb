{
 "cells": [
  {
   "cell_type": "markdown",
   "id": "35af2f87",
   "metadata": {
    "deletable": false,
    "editable": false,
    "nbgrader": {
     "cell_type": "markdown",
     "checksum": "9cbb94a197161f9a51004766ab6ee0ab",
     "grade": false,
     "grade_id": "cell-63247b06949c9806",
     "locked": true,
     "schema_version": 3,
     "solution": false
    }
   },
   "source": [
    "# Manipuler des tableaux\n",
    "\n",
    "Dans cette feuille, vous allez apprendre à effectuer quelques\n",
    "manipulations simples sur les tableaux, comme nous l'avions fait au\n",
    "premier semestre avec les `vector` de C++. En Python, de tels tableaux\n",
    "peuvent être représentés par les `array` de la bibliothèque `NumPy`\n",
    "(usuellement abrégée en `np`):"
   ]
  },
  {
   "cell_type": "code",
   "execution_count": 1,
   "id": "1ad491ba",
   "metadata": {
    "deletable": false,
    "editable": false,
    "nbgrader": {
     "cell_type": "code",
     "checksum": "9c3f5d5cb593afc848b35bc23508bf55",
     "grade": false,
     "grade_id": "cell-8c751ead7518dfea",
     "locked": true,
     "schema_version": 3,
     "solution": false
    }
   },
   "outputs": [],
   "source": [
    "import numpy as np"
   ]
  },
  {
   "cell_type": "markdown",
   "id": "036288b2",
   "metadata": {
    "deletable": false,
    "editable": false,
    "nbgrader": {
     "cell_type": "markdown",
     "checksum": "4fd5cbde5429f2982ac9751f22b2c960",
     "grade": false,
     "grade_id": "cell-1063495ca725c5db",
     "locked": true,
     "schema_version": 3,
     "solution": false,
     "task": false
    }
   },
   "source": [
    "## Tableaux à deux dimensions"
   ]
  },
  {
   "cell_type": "markdown",
   "id": "e11c306c",
   "metadata": {
    "deletable": false,
    "editable": false,
    "nbgrader": {
     "cell_type": "markdown",
     "checksum": "dfac298c8c6c4f205299b6cf310a5a53",
     "grade": false,
     "grade_id": "cell-9a29dafa51e1a013",
     "locked": true,
     "schema_version": 3,
     "solution": false
    }
   },
   "source": [
    "Voilà un tableau à deux dimensions avec deux lignes et quatre\n",
    "colonnes:"
   ]
  },
  {
   "cell_type": "code",
   "execution_count": 2,
   "id": "28bd332f",
   "metadata": {
    "deletable": false,
    "editable": false,
    "nbgrader": {
     "cell_type": "code",
     "checksum": "7cb43c2d929cc16a479bb323b5797149",
     "grade": false,
     "grade_id": "cell-67fbacbcf94193b3",
     "locked": true,
     "schema_version": 3,
     "solution": false
    }
   },
   "outputs": [],
   "source": [
    "T = np.array([[1, 2, 3, 4], \n",
    "              [5, 6, 7, 8]])"
   ]
  },
  {
   "cell_type": "code",
   "execution_count": 3,
   "id": "d21ccaab",
   "metadata": {
    "deletable": false,
    "editable": false,
    "nbgrader": {
     "cell_type": "code",
     "checksum": "722eb1481c7f22f0a26b7b3a9b865113",
     "grade": false,
     "grade_id": "cell-845dffdd69e40937",
     "locked": true,
     "schema_version": 3,
     "solution": false
    }
   },
   "outputs": [
    {
     "data": {
      "text/plain": [
       "array([[1, 2, 3, 4],\n",
       "       [5, 6, 7, 8]])"
      ]
     },
     "execution_count": 3,
     "metadata": {},
     "output_type": "execute_result"
    }
   ],
   "source": [
    "T"
   ]
  },
  {
   "cell_type": "markdown",
   "id": "a7c1de15",
   "metadata": {
    "deletable": false,
    "editable": false,
    "nbgrader": {
     "cell_type": "markdown",
     "checksum": "e4b026ff926e4239ba5644d1dcd6dc9b",
     "grade": false,
     "grade_id": "cell-47cf516abf13b964",
     "locked": true,
     "schema_version": 3,
     "solution": false
    }
   },
   "source": [
    "On peut retrouver les tailles de ce tableau avec:"
   ]
  },
  {
   "cell_type": "code",
   "execution_count": 4,
   "id": "500b5223",
   "metadata": {
    "deletable": false,
    "editable": false,
    "nbgrader": {
     "cell_type": "code",
     "checksum": "a1ab35b251b03547c95bf160ea2bcdd1",
     "grade": false,
     "grade_id": "cell-3cfd6fa0623e6f98",
     "locked": true,
     "schema_version": 3,
     "solution": false
    }
   },
   "outputs": [
    {
     "data": {
      "text/plain": [
       "(2, 4)"
      ]
     },
     "execution_count": 4,
     "metadata": {},
     "output_type": "execute_result"
    }
   ],
   "source": [
    "T.shape"
   ]
  },
  {
   "cell_type": "markdown",
   "id": "6bb75832",
   "metadata": {
    "deletable": false,
    "editable": false,
    "nbgrader": {
     "cell_type": "markdown",
     "checksum": "e305214dc702325e2f921792f8b094cc",
     "grade": false,
     "grade_id": "cell-c8f6590b61b5b276",
     "locked": true,
     "schema_version": 3,
     "solution": false,
     "task": false
    }
   },
   "source": [
    "Vous vous rappellez que les `vector` de C++ sont intrinsèquement des\n",
    "tableaux à une dimension, et que l'on émule des tableaux à deux\n",
    "dimensions avec des tableaux de tableaux. Ici, en revanche, les\n",
    "tableaux `array` de numpy permettent de construire explicitement des\n",
    "tableaux à deux dimensions."
   ]
  },
  {
   "cell_type": "markdown",
   "id": "6cd9ce1f",
   "metadata": {
    "deletable": false,
    "editable": false,
    "nbgrader": {
     "cell_type": "markdown",
     "checksum": "d58be99019c2400301bd7469b039b712",
     "grade": false,
     "grade_id": "cell-3080232c4e2fb2df",
     "locked": true,
     "schema_version": 3,
     "solution": false
    }
   },
   "source": [
    "### Exercice\n",
    "\n",
    "1. Construire un tableau à trois lignes et trois colonnes, contenant\n",
    "   les entiers de 1 à 9 de gauche à droite et de haut en bas comme\n",
    "   dans la figure suivante:\n",
    "\n",
    "       1 2 3\n",
    "       4 5 6\n",
    "       7 8 9"
   ]
  },
  {
   "cell_type": "code",
   "execution_count": 5,
   "id": "94e08a47",
   "metadata": {
    "deletable": false,
    "nbgrader": {
     "cell_type": "code",
     "checksum": "8ed57697c3cddd5cac3ecce91d6a370a",
     "grade": false,
     "grade_id": "cell-1b95ffffb22a38df",
     "locked": false,
     "schema_version": 3,
     "solution": true,
     "task": false
    }
   },
   "outputs": [
    {
     "data": {
      "text/plain": [
       "array([[1, 2, 3],\n",
       "       [4, 5, 6],\n",
       "       [7, 8, 9]])"
      ]
     },
     "execution_count": 5,
     "metadata": {},
     "output_type": "execute_result"
    }
   ],
   "source": [
    "# YOUR CODE HERE\n",
    "T2 = np.array([[1,2,3],[4,5,6],[7,8,9]])\n",
    "T2"
   ]
  },
  {
   "cell_type": "markdown",
   "id": "6c1ff792",
   "metadata": {
    "deletable": false,
    "editable": false,
    "nbgrader": {
     "cell_type": "markdown",
     "checksum": "ff72beaf7319a2e76325912258108167",
     "grade": false,
     "grade_id": "cell-f23c45dc4abb2118",
     "locked": true,
     "schema_version": 3,
     "solution": false
    }
   },
   "source": [
    "Nous testons la forme du tableau:"
   ]
  },
  {
   "cell_type": "code",
   "execution_count": 6,
   "id": "61cadb5e",
   "metadata": {
    "deletable": false,
    "editable": false,
    "nbgrader": {
     "cell_type": "code",
     "checksum": "b192f2c627830d51a9eb10a8c6129145",
     "grade": true,
     "grade_id": "cell-3dcbc34e7cdb8449",
     "locked": true,
     "points": 1,
     "schema_version": 3,
     "solution": false,
     "task": false
    }
   },
   "outputs": [],
   "source": [
    "assert T2.shape == (3,3)"
   ]
  },
  {
   "cell_type": "markdown",
   "id": "64a04568",
   "metadata": {
    "deletable": false,
    "editable": false,
    "nbgrader": {
     "cell_type": "markdown",
     "checksum": "473b88c0c5b7366dc6b1e1e94fbccb3c",
     "grade": false,
     "grade_id": "cell-96fc71e105b68b41",
     "locked": true,
     "schema_version": 3,
     "solution": false,
     "task": false
    }
   },
   "source": [
    "ainsi que son contenu :"
   ]
  },
  {
   "cell_type": "code",
   "execution_count": 7,
   "id": "658bc166",
   "metadata": {
    "deletable": false,
    "editable": false,
    "nbgrader": {
     "cell_type": "code",
     "checksum": "63a383e3e61ecdd20d9bd680c6e7da1f",
     "grade": true,
     "grade_id": "cell-b2598336ebcb56a2",
     "locked": true,
     "points": 1,
     "schema_version": 3,
     "solution": false,
     "task": false
    }
   },
   "outputs": [],
   "source": [
    "assert [ T2[i,j] for i in range(3) for j in range(3) ] == [1, 2, 3, 4, 5, 6, 7, 8, 9]"
   ]
  },
  {
   "cell_type": "markdown",
   "id": "027aea77",
   "metadata": {
    "deletable": false,
    "editable": false,
    "nbgrader": {
     "cell_type": "markdown",
     "checksum": "49c89155418473f66a056b5b7adb683e",
     "grade": false,
     "grade_id": "cell-21d9a01c8d293ab4",
     "locked": true,
     "schema_version": 3,
     "solution": false
    }
   },
   "source": [
    "Voici comment accéder au contenu d'une case individuelle du tableau :"
   ]
  },
  {
   "cell_type": "code",
   "execution_count": 8,
   "id": "b0cdfbfc",
   "metadata": {
    "deletable": false,
    "editable": false,
    "nbgrader": {
     "cell_type": "code",
     "checksum": "2e3a1fee5a81d040573266cd4298f663",
     "grade": false,
     "grade_id": "cell-9ca4451347ad1cf3",
     "locked": true,
     "schema_version": 3,
     "solution": false
    }
   },
   "outputs": [
    {
     "data": {
      "text/plain": [
       "6"
      ]
     },
     "execution_count": 8,
     "metadata": {},
     "output_type": "execute_result"
    }
   ],
   "source": [
    "T2[1,2]"
   ]
  },
  {
   "cell_type": "markdown",
   "id": "77620d06",
   "metadata": {
    "deletable": false,
    "editable": false,
    "nbgrader": {
     "cell_type": "markdown",
     "checksum": "9c20aba9730f7d17da5db1b67008e594",
     "grade": false,
     "grade_id": "cell-0c42459abbd31832",
     "locked": true,
     "schema_version": 3,
     "solution": false
    }
   },
   "source": [
    "Cette case est en deuxième ligne et troisième colonne: en effet, comme\n",
    "en C++, les lignes et colonnes sont numérotées à partir de 0."
   ]
  },
  {
   "cell_type": "markdown",
   "id": "207112b2",
   "metadata": {
    "deletable": false,
    "editable": false,
    "nbgrader": {
     "cell_type": "markdown",
     "checksum": "24865da222354aead7858ac2ff96a31f",
     "grade": false,
     "grade_id": "cell-4aaf4afc9dab0881",
     "locked": true,
     "schema_version": 3,
     "solution": false
    }
   },
   "source": [
    "Si l'on veut extraire toute une ligne, ou toute une colonne, on\n",
    "remplace la coordonnée que l'on ne veut pas spécifier par `:`.\n",
    "\n",
    "Voici donc la deuxième colonne :"
   ]
  },
  {
   "cell_type": "code",
   "execution_count": 9,
   "id": "9181502a",
   "metadata": {
    "deletable": false,
    "editable": false,
    "nbgrader": {
     "cell_type": "code",
     "checksum": "f4c04730adc08ef40ade35dbf4e632c9",
     "grade": false,
     "grade_id": "cell-6c91767340cf600d",
     "locked": true,
     "schema_version": 3,
     "solution": false
    }
   },
   "outputs": [
    {
     "data": {
      "text/plain": [
       "array([2, 5, 8])"
      ]
     },
     "execution_count": 9,
     "metadata": {},
     "output_type": "execute_result"
    }
   ],
   "source": [
    "T2[:,1]"
   ]
  },
  {
   "cell_type": "markdown",
   "id": "3b14a9aa",
   "metadata": {
    "deletable": false,
    "editable": false,
    "nbgrader": {
     "cell_type": "markdown",
     "checksum": "bff2ec07ae9c81df7e5b84bac7f317cf",
     "grade": false,
     "grade_id": "cell-7d229a134ec6e867",
     "locked": true,
     "schema_version": 3,
     "solution": false,
     "task": false
    }
   },
   "source": [
    "Extraire la deuxième ligne du tableau, et affectez-la à la variable\n",
    "`l` dont vous afficherez le contenu :"
   ]
  },
  {
   "cell_type": "code",
   "execution_count": 10,
   "id": "4587511a",
   "metadata": {
    "deletable": false,
    "nbgrader": {
     "cell_type": "code",
     "checksum": "c69473e41959ae187e48af2a540d285f",
     "grade": false,
     "grade_id": "cell-0abb1396ab91dd95",
     "locked": false,
     "schema_version": 3,
     "solution": true,
     "task": false
    }
   },
   "outputs": [
    {
     "data": {
      "text/plain": [
       "array([4, 5, 6])"
      ]
     },
     "execution_count": 10,
     "metadata": {},
     "output_type": "execute_result"
    }
   ],
   "source": [
    "l = T2[1,:]\n",
    "l"
   ]
  },
  {
   "cell_type": "code",
   "execution_count": 11,
   "id": "57b66257",
   "metadata": {
    "deletable": false,
    "editable": false,
    "nbgrader": {
     "cell_type": "code",
     "checksum": "6f60100f11745ca7e99600bce44d4093",
     "grade": true,
     "grade_id": "cell-e22d3374bf68c443",
     "locked": true,
     "points": 1,
     "schema_version": 3,
     "solution": false,
     "task": false
    }
   },
   "outputs": [],
   "source": [
    "assert isinstance(l, np.ndarray)\n",
    "assert l.shape == (3,)\n",
    "assert list(l) == [4,5,6]"
   ]
  },
  {
   "cell_type": "markdown",
   "id": "bfa6cfd5",
   "metadata": {
    "deletable": false,
    "editable": false,
    "nbgrader": {
     "cell_type": "markdown",
     "checksum": "efe72d3af5c1d8c82950b20179f3219d",
     "grade": false,
     "grade_id": "cell-990adcd36c40f8df",
     "locked": true,
     "schema_version": 3,
     "solution": false
    }
   },
   "source": [
    "## Tableaux à trois dimensions et plus\n",
    "\n",
    "Pour le moment, nous avons utilisé des tableaux à deux dimensions.\n",
    "Ultérieurement, notamment pour représenter des images, nous aurons\n",
    "besoin de tableaux de plus grande dimension: un seul nombre ne suffit\n",
    "en effet pas pour représenter un pixel.\n",
    "\n",
    "`Numpy` permet de représenter des tableaux de toute dimension. Voici\n",
    "un tableau de dimension 3 :"
   ]
  },
  {
   "cell_type": "code",
   "execution_count": 12,
   "id": "21980a96",
   "metadata": {
    "deletable": false,
    "editable": false,
    "nbgrader": {
     "cell_type": "code",
     "checksum": "70013da6dfca06661b1d7226a04b209b",
     "grade": false,
     "grade_id": "cell-34c03e0c6027d356",
     "locked": true,
     "schema_version": 3,
     "solution": false
    }
   },
   "outputs": [],
   "source": [
    "T3D = np.array([[[ 1, 2, 3], [ 4, 5, 6], [ 7, 8, 9]],\n",
    "                [[10,11,12], [13,14,15], [16,17,18]],\n",
    "                [[19,20,21], [22,23,24], [25,26,27]]\n",
    "                ])"
   ]
  },
  {
   "cell_type": "markdown",
   "id": "ceccb579",
   "metadata": {
    "deletable": false,
    "editable": false,
    "nbgrader": {
     "cell_type": "markdown",
     "checksum": "8cd120c43caead46c5035b87c0991792",
     "grade": false,
     "grade_id": "cell-796c1a5acbab1a2b",
     "locked": true,
     "schema_version": 3,
     "solution": false
    }
   },
   "source": [
    "On peut le voir comme un tableau à trois couches :"
   ]
  },
  {
   "cell_type": "code",
   "execution_count": 13,
   "id": "60797b00",
   "metadata": {
    "deletable": false,
    "editable": false,
    "nbgrader": {
     "cell_type": "code",
     "checksum": "eca7db301fc9a95c1223a90acbc9b073",
     "grade": false,
     "grade_id": "cell-574e34b7ddc4509d",
     "locked": true,
     "schema_version": 3,
     "solution": false
    }
   },
   "outputs": [
    {
     "data": {
      "text/plain": [
       "array([[ 1,  4,  7],\n",
       "       [10, 13, 16],\n",
       "       [19, 22, 25]])"
      ]
     },
     "execution_count": 13,
     "metadata": {},
     "output_type": "execute_result"
    }
   ],
   "source": [
    "T3D[:,:,0]"
   ]
  },
  {
   "cell_type": "code",
   "execution_count": 14,
   "id": "ddbc656a",
   "metadata": {
    "deletable": false,
    "editable": false,
    "nbgrader": {
     "cell_type": "code",
     "checksum": "f527ab4e84f78ff2b0df65dd2ac0ea79",
     "grade": false,
     "grade_id": "cell-dd11d154ece1aef6",
     "locked": true,
     "schema_version": 3,
     "solution": false
    }
   },
   "outputs": [
    {
     "data": {
      "text/plain": [
       "array([[ 2,  5,  8],\n",
       "       [11, 14, 17],\n",
       "       [20, 23, 26]])"
      ]
     },
     "execution_count": 14,
     "metadata": {},
     "output_type": "execute_result"
    }
   ],
   "source": [
    "T3D[:,:,1]"
   ]
  },
  {
   "cell_type": "code",
   "execution_count": 15,
   "id": "9163506c",
   "metadata": {
    "deletable": false,
    "editable": false,
    "nbgrader": {
     "cell_type": "code",
     "checksum": "c47db6d04707bcb3049d977cde2178c5",
     "grade": false,
     "grade_id": "cell-a96fbf7480f42e12",
     "locked": true,
     "schema_version": 3,
     "solution": false
    }
   },
   "outputs": [
    {
     "data": {
      "text/plain": [
       "array([[ 3,  6,  9],\n",
       "       [12, 15, 18],\n",
       "       [21, 24, 27]])"
      ]
     },
     "execution_count": 15,
     "metadata": {},
     "output_type": "execute_result"
    }
   ],
   "source": [
    "T3D[:,:,2]"
   ]
  },
  {
   "cell_type": "markdown",
   "id": "d3974228",
   "metadata": {
    "deletable": false,
    "editable": false,
    "nbgrader": {
     "cell_type": "markdown",
     "checksum": "3f92c7990d33b386dc695fcf865ad270",
     "grade": false,
     "grade_id": "cell-414edd834755639f",
     "locked": true,
     "schema_version": 3,
     "solution": false
    }
   },
   "source": [
    "### Exercices\n",
    "\n",
    "Extraire la première colonne de la deuxième couche de `T3D` et\n",
    "stockez-la dans la variable `C`:"
   ]
  },
  {
   "cell_type": "code",
   "execution_count": 16,
   "id": "bdd29910",
   "metadata": {
    "deletable": false,
    "nbgrader": {
     "cell_type": "code",
     "checksum": "588ab8239bf53c088fad1f6f1c7dbc87",
     "grade": false,
     "grade_id": "cell-81c4d71ee7b1a54d",
     "locked": false,
     "schema_version": 3,
     "solution": true,
     "task": false
    }
   },
   "outputs": [
    {
     "data": {
      "text/plain": [
       "array([ 2, 11, 20])"
      ]
     },
     "execution_count": 16,
     "metadata": {},
     "output_type": "execute_result"
    }
   ],
   "source": [
    "C = T3D[:,0,1]\n",
    "C"
   ]
  },
  {
   "cell_type": "markdown",
   "id": "18c6ab64",
   "metadata": {
    "deletable": false,
    "editable": false,
    "nbgrader": {
     "cell_type": "markdown",
     "checksum": "863f9bb7af6a9d13186db7a08a232f59",
     "grade": false,
     "grade_id": "cell-868c3302aea64357",
     "locked": true,
     "schema_version": 3,
     "solution": false,
     "task": false
    }
   },
   "source": [
    "Notez que c'est un tableau à une dimension, donc noté en ligne !"
   ]
  },
  {
   "cell_type": "code",
   "execution_count": 17,
   "id": "7f6697a9",
   "metadata": {
    "deletable": false,
    "editable": false,
    "nbgrader": {
     "cell_type": "code",
     "checksum": "48f39bf8c72b94c70a2e41d6a073957f",
     "grade": true,
     "grade_id": "cell-995993eb1b58947e",
     "locked": true,
     "points": 1,
     "schema_version": 3,
     "solution": false,
     "task": false
    }
   },
   "outputs": [],
   "source": [
    "assert list(C) == [2, 11, 20]"
   ]
  },
  {
   "cell_type": "markdown",
   "id": "0af3ac94",
   "metadata": {
    "deletable": false,
    "editable": false,
    "nbgrader": {
     "cell_type": "markdown",
     "checksum": "f6d4c02a55709c4c215b696b97a1bc82",
     "grade": false,
     "grade_id": "cell-414edd834755639g",
     "locked": true,
     "schema_version": 3,
     "solution": false
    }
   },
   "source": [
    "Extraire un tableau contenant la première colonne de chacune des trois\n",
    "couches de `T3D` et stockez le dans la variable `C`. Notez que l'on\n",
    "souhaite que ces colonnes soient bien représentées par des colonnes\n",
    "dans `C` !"
   ]
  },
  {
   "cell_type": "code",
   "execution_count": 18,
   "id": "a5a63c83",
   "metadata": {
    "deletable": false,
    "nbgrader": {
     "cell_type": "code",
     "checksum": "37264be666306f606e8fd1e158bd6bd2",
     "grade": false,
     "grade_id": "cell-abdcb2e9f73d6dfe",
     "locked": false,
     "schema_version": 3,
     "solution": true,
     "task": false
    }
   },
   "outputs": [
    {
     "data": {
      "text/plain": [
       "array([[ 1,  2,  3],\n",
       "       [10, 11, 12],\n",
       "       [19, 20, 21]])"
      ]
     },
     "execution_count": 18,
     "metadata": {},
     "output_type": "execute_result"
    }
   ],
   "source": [
    "C = np.array(T3D[:,0,:])\n",
    "C"
   ]
  },
  {
   "cell_type": "code",
   "execution_count": 19,
   "id": "79b7e778",
   "metadata": {
    "deletable": false,
    "editable": false,
    "nbgrader": {
     "cell_type": "code",
     "checksum": "e262f80868e4db8544ea173aa973639d",
     "grade": true,
     "grade_id": "cell-3227c3665bd8802d",
     "locked": true,
     "points": 1,
     "schema_version": 3,
     "solution": false,
     "task": false
    }
   },
   "outputs": [],
   "source": [
    "for i in range(3):\n",
    "    assert np.array_equal(T3D[:,0,i], C[:,i])"
   ]
  },
  {
   "cell_type": "markdown",
   "id": "adeab6ce",
   "metadata": {
    "deletable": false,
    "editable": false,
    "nbgrader": {
     "cell_type": "markdown",
     "checksum": "1ffe30a723d426e49c74c47beaf4a081",
     "grade": false,
     "grade_id": "cell-72625c162aacdd71",
     "locked": true,
     "schema_version": 3,
     "solution": false
    }
   },
   "source": [
    "## Statistiques simples sur les tableaux"
   ]
  },
  {
   "cell_type": "markdown",
   "id": "8c577b2a",
   "metadata": {
    "deletable": false,
    "editable": false,
    "nbgrader": {
     "cell_type": "markdown",
     "checksum": "8793482aa66bacbd22022602cc17dc9a",
     "grade": false,
     "grade_id": "cell-202df26286a5b3a0",
     "locked": true,
     "schema_version": 3,
     "solution": false
    }
   },
   "source": [
    "Numpy permet de faire des statistiques simples sur les\n",
    "tableaux. Revenons à notre tableau `T` :"
   ]
  },
  {
   "cell_type": "code",
   "execution_count": 20,
   "id": "daba8735",
   "metadata": {
    "deletable": false,
    "editable": false,
    "nbgrader": {
     "cell_type": "code",
     "checksum": "ecaceef2f7991bf4795869507af9995c",
     "grade": false,
     "grade_id": "cell-e979baa940e6f47e",
     "locked": true,
     "schema_version": 3,
     "solution": false
    }
   },
   "outputs": [
    {
     "data": {
      "text/plain": [
       "array([[1, 2, 3, 4],\n",
       "       [5, 6, 7, 8]])"
      ]
     },
     "execution_count": 20,
     "metadata": {},
     "output_type": "execute_result"
    }
   ],
   "source": [
    "T"
   ]
  },
  {
   "cell_type": "markdown",
   "id": "6830bc4e",
   "metadata": {
    "deletable": false,
    "editable": false,
    "nbgrader": {
     "cell_type": "markdown",
     "checksum": "f6b580f520d20d84d004d9c7f40527f3",
     "grade": false,
     "grade_id": "cell-29729cfe62afb790",
     "locked": true,
     "schema_version": 3,
     "solution": false,
     "task": false
    }
   },
   "source": [
    "Calculez à la main :\n",
    "- la moyenne de chaque colonne de `T`;\n",
    "- la moyenne de chaque ligne de `T`;\n",
    "- la moyenne de tous les éléments du tableau `T`."
   ]
  },
  {
   "cell_type": "code",
   "execution_count": 21,
   "id": "e809b0d4",
   "metadata": {},
   "outputs": [
    {
     "data": {
      "text/plain": [
       "([3.0, 4.0, 5.0, 6.0], [2.5, 6.5], 4.5)"
      ]
     },
     "execution_count": 21,
     "metadata": {},
     "output_type": "execute_result"
    }
   ],
   "source": [
    "def moyennecol(i : int,Tab):\n",
    "    return sum(Tab[:,i])/len(Tab[:,i])\n",
    "def moyennelig(i: int,Tab):\n",
    "    return sum(Tab[i,:])/len(Tab[i,:])\n",
    "def moy(Tab):\n",
    "    return sum(sum(Tab))/(len(Tab)*len(Tab[0,:]))\n",
    "moyscol = [moyennecol(i,T) for i in range(0,len(T[0,:]))]\n",
    "moyslig = [moyennelig(i,T) for i in range(0,len(T))]\n",
    "moyenne = moy(T)\n",
    "moyscol,moyslig,moyenne"
   ]
  },
  {
   "cell_type": "markdown",
   "id": "ea419394",
   "metadata": {
    "deletable": false,
    "editable": false,
    "nbgrader": {
     "cell_type": "markdown",
     "checksum": "52927cdcb4847deffc8bf21a6c363541",
     "grade": false,
     "grade_id": "cell-00194d77bb863b7b",
     "locked": true,
     "schema_version": 3,
     "solution": false,
     "task": false
    }
   },
   "source": [
    "Comparez vos résultats avec ceux des calculs suivants :"
   ]
  },
  {
   "cell_type": "code",
   "execution_count": 22,
   "id": "fc3f9393",
   "metadata": {
    "deletable": false,
    "editable": false,
    "nbgrader": {
     "cell_type": "code",
     "checksum": "89b3d8b2479b327aa146156f95a8b494",
     "grade": false,
     "grade_id": "cell-1d9fbab6c508d984",
     "locked": true,
     "schema_version": 3,
     "solution": false
    }
   },
   "outputs": [
    {
     "data": {
      "text/plain": [
       "array([3., 4., 5., 6.])"
      ]
     },
     "execution_count": 22,
     "metadata": {},
     "output_type": "execute_result"
    }
   ],
   "source": [
    "T.mean(axis=0)"
   ]
  },
  {
   "cell_type": "code",
   "execution_count": 23,
   "id": "ea57e218",
   "metadata": {
    "deletable": false,
    "editable": false,
    "nbgrader": {
     "cell_type": "code",
     "checksum": "d827b580b4fba02c8bee40488cc9b296",
     "grade": false,
     "grade_id": "cell-899594980a692e52",
     "locked": true,
     "schema_version": 3,
     "solution": false
    }
   },
   "outputs": [
    {
     "data": {
      "text/plain": [
       "array([2.5, 6.5])"
      ]
     },
     "execution_count": 23,
     "metadata": {},
     "output_type": "execute_result"
    }
   ],
   "source": [
    "T.mean(axis=1)"
   ]
  },
  {
   "cell_type": "code",
   "execution_count": 24,
   "id": "ba9c468e",
   "metadata": {
    "deletable": false,
    "editable": false,
    "nbgrader": {
     "cell_type": "code",
     "checksum": "33c3909e4504c6f5be8c28f7b79e6e5a",
     "grade": false,
     "grade_id": "cell-e979baa940e6f47d",
     "locked": true,
     "schema_version": 3,
     "solution": false
    }
   },
   "outputs": [
    {
     "data": {
      "text/plain": [
       "4.5"
      ]
     },
     "execution_count": 24,
     "metadata": {},
     "output_type": "execute_result"
    }
   ],
   "source": [
    "T.mean()"
   ]
  },
  {
   "cell_type": "markdown",
   "id": "7a2a92f2",
   "metadata": {
    "deletable": false,
    "editable": false,
    "nbgrader": {
     "cell_type": "markdown",
     "checksum": "4912757b09b55f784ea8777f5ceb0f76",
     "grade": false,
     "grade_id": "cell-7fc37d52040f3366",
     "locked": true,
     "schema_version": 3,
     "solution": false,
     "task": false
    }
   },
   "source": [
    "## Conclusion\n",
    "\n",
    "Voilà vous avez vu tous les éléments de manipulation des tableaux\n",
    "`NumPy` dont nous aurons besoin aujourd'hui."
   ]
  }
 ],
 "metadata": {
  "jupytext": {
   "text_representation": {
    "extension": ".md",
    "format_name": "myst",
    "format_version": 0.13,
    "jupytext_version": "1.11.5"
   }
  },
  "kernelspec": {
   "display_name": "Python 3 (ipykernel)",
   "language": "python",
   "name": "python3"
  },
  "language_info": {
   "codemirror_mode": {
    "name": "ipython",
    "version": 3
   },
   "file_extension": ".py",
   "mimetype": "text/x-python",
   "name": "python",
   "nbconvert_exporter": "python",
   "pygments_lexer": "ipython3",
   "version": "3.9.7"
  }
 },
 "nbformat": 4,
 "nbformat_minor": 5
}
