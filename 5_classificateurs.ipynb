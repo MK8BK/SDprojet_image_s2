{
 "cells": [
  {
   "cell_type": "markdown",
   "id": "bfe9e095",
   "metadata": {
    "deletable": false,
    "editable": false,
    "nbgrader": {
     "cell_type": "markdown",
     "checksum": "afbf34e64e7471cefc07d9483063e7a8",
     "grade": false,
     "grade_id": "cell-3876f910a24fe8a7",
     "locked": true,
     "schema_version": 3,
     "solution": false
    }
   },
   "source": [
    "# Classificateurs"
   ]
  },
  {
   "cell_type": "markdown",
   "id": "74c40342",
   "metadata": {
    "deletable": false,
    "editable": false,
    "nbgrader": {
     "cell_type": "markdown",
     "checksum": "f1092a8183464dd2e0b498c1337d6626",
     "grade": false,
     "grade_id": "cell-65c63f4be1820d2e",
     "locked": true,
     "schema_version": 3,
     "solution": false,
     "task": false
    }
   },
   "source": [
    "Dans cette feuille, nous allons explorer l'utilisation de plusieurs\n",
    "classificateurs sur l'exemple des pommes et des bananes. Vous pourrez\n",
    "ensuite les essayer sur votre jeu de données.\n",
    "\n",
    "Commencons par charger les utilitaires et autres librairies:"
   ]
  },
  {
   "cell_type": "code",
   "execution_count": null,
   "id": "b89a5c30",
   "metadata": {
    "deletable": false,
    "editable": false,
    "nbgrader": {
     "cell_type": "code",
     "checksum": "b2e17e47ccdae1d5732b95b0d7416e66",
     "grade": false,
     "grade_id": "cell-a2ccd1e13b05762c",
     "locked": true,
     "schema_version": 3,
     "solution": false,
     "task": false
    }
   },
   "outputs": [],
   "source": [
    "import os, re\n",
    "from glob import glob as ls\n",
    "import numpy as np                    # Matrix algebra library\n",
    "import pandas as pd                   # Data table (DataFrame) library\n",
    "import seaborn as sns; sns.set()      # Graphs and visualization library\n",
    "from PIL import Image                 # Image processing library\n",
    "import matplotlib.pyplot as plt       # Library to make graphs \n",
    "# Configuration intégration dans Jupyter\n",
    "%matplotlib inline\n",
    "\n",
    "## les utilitaires\n",
    "%load_ext autoreload\n",
    "%autoreload 2\n",
    "from utilities import *\n",
    "\n",
    "## les jeux de données\n",
    "from intro_science_donnees import data"
   ]
  },
  {
   "cell_type": "markdown",
   "id": "37ffd6b0",
   "metadata": {
    "deletable": false,
    "editable": false,
    "nbgrader": {
     "cell_type": "markdown",
     "checksum": "d880dfccac7e7bb362d70f774bf09ebb",
     "grade": false,
     "grade_id": "cell-875bebae978f4f5a",
     "locked": true,
     "schema_version": 3,
     "solution": false,
     "task": false
    }
   },
   "source": [
    "## Chargement et préparation des données"
   ]
  },
  {
   "cell_type": "markdown",
   "id": "a3e81ca2",
   "metadata": {
    "deletable": false,
    "editable": false,
    "nbgrader": {
     "cell_type": "markdown",
     "checksum": "b65b91941f8d669592af300673a8c5e9",
     "grade": false,
     "grade_id": "cell-ce0810dd4273ea24",
     "locked": true,
     "schema_version": 3,
     "solution": false,
     "task": false
    }
   },
   "source": [
    "On charge le jeu de données prétraité (attributs rougeur et élongation\n",
    "et classes des fruits), tel que fournis en semaine 3:"
   ]
  },
  {
   "cell_type": "code",
   "execution_count": null,
   "id": "f960958f",
   "metadata": {
    "deletable": false,
    "editable": false,
    "nbgrader": {
     "cell_type": "code",
     "checksum": "769fa816745ea2782f19614eb432c19e",
     "grade": false,
     "grade_id": "cell-e6d48e8b35c2d42a",
     "locked": true,
     "schema_version": 3,
     "solution": false,
     "task": false
    }
   },
   "outputs": [],
   "source": [
    "df = pd.read_csv(\"../Semaine3/attributs.csv\", index_col=0)\n",
    "# standardisation\n",
    "dfstd =  (df - df.mean()) / df.std()\n",
    "dfstd['class'] = df['class']"
   ]
  },
  {
   "cell_type": "markdown",
   "id": "879a59ec",
   "metadata": {
    "deletable": false,
    "editable": false,
    "nbgrader": {
     "cell_type": "markdown",
     "checksum": "5e412381817b3618b8a7a7ca91094d61",
     "grade": false,
     "grade_id": "cell-24210bafac4b3490",
     "locked": true,
     "schema_version": 3,
     "solution": false,
     "task": false
    }
   },
   "source": [
    "On partitionne le jeu de données en ensemble de test et\n",
    "d'entraînement:"
   ]
  },
  {
   "cell_type": "code",
   "execution_count": null,
   "id": "29375aee",
   "metadata": {
    "deletable": false,
    "editable": false,
    "nbgrader": {
     "cell_type": "code",
     "checksum": "5d2b328c09ea561ef6c95a69314be2ba",
     "grade": false,
     "grade_id": "cell-00b3f36097ec9704",
     "locked": true,
     "schema_version": 3,
     "solution": false,
     "task": false
    }
   },
   "outputs": [],
   "source": [
    "X = dfstd[['redness', 'elongation']]\n",
    "Y = dfstd['class']\n",
    "#partition des images\n",
    "train_index, test_index = split_data(X, Y, seed=0)\n",
    "\n",
    "#partition de la table des attributs\n",
    "Xtrain = X.iloc[train_index]\n",
    "Xtest = X.iloc[test_index]\n",
    "#partition de la table des étiquettes\n",
    "Ytrain = Y.iloc[train_index]\n",
    "Ytest = Y.iloc[test_index]"
   ]
  },
  {
   "cell_type": "markdown",
   "id": "e9d20c1c",
   "metadata": {
    "deletable": false,
    "editable": false,
    "nbgrader": {
     "cell_type": "markdown",
     "checksum": "741881738d7829a3b3d62de9cceb02f2",
     "grade": false,
     "grade_id": "cell-9e3cf5dde27fbb00",
     "locked": true,
     "schema_version": 3,
     "solution": false,
     "task": false
    }
   },
   "source": [
    "## Classificateurs basés sur les exemples (*examples-based*)"
   ]
  },
  {
   "cell_type": "markdown",
   "id": "7fae55bf",
   "metadata": {
    "deletable": false,
    "editable": false,
    "nbgrader": {
     "cell_type": "markdown",
     "checksum": "45db778c1166c64282fd7d8e20a03d1b",
     "grade": false,
     "grade_id": "cell-f7f11edbe1e13a7d",
     "locked": true,
     "schema_version": 3,
     "solution": false,
     "task": false
    }
   },
   "source": [
    "Nous allons maintenant voir comment appliquer des classificateurs\n",
    "fournis par la librairie `scikit-learn`.  Commençons par le\n",
    "classificateur plus proche voisin déjà vu en semaines 3 et 4."
   ]
  },
  {
   "cell_type": "markdown",
   "id": "9c98d8ee",
   "metadata": {
    "deletable": false,
    "editable": false,
    "nbgrader": {
     "cell_type": "markdown",
     "checksum": "40979d861a5204582bc97eca2e359c92",
     "grade": false,
     "grade_id": "cell-28f37cb9aba3b0d6",
     "locked": true,
     "schema_version": 3,
     "solution": false,
     "task": false
    }
   },
   "source": [
    "### KNN : $k$-plus proche voisins"
   ]
  },
  {
   "cell_type": "code",
   "execution_count": null,
   "id": "2a463345",
   "metadata": {
    "deletable": false,
    "editable": false,
    "nbgrader": {
     "cell_type": "code",
     "checksum": "c23d3cd77a415c7fceb36d690329ec61",
     "grade": false,
     "grade_id": "cell-786fada559c8c5e0",
     "locked": true,
     "schema_version": 3,
     "solution": false,
     "task": false
    }
   },
   "outputs": [],
   "source": [
    "from sklearn.neighbors import KNeighborsClassifier\n",
    "\n",
    "#définition du classificateur, ici on l'appelle classifier\n",
    "# on choisit k=1\n",
    "classifier = KNeighborsClassifier(n_neighbors=1)\n",
    "# on l'ajuste aux données d'entrsainement\n",
    "classifier.fit(Xtrain, Ytrain) \n",
    "# on calcule ensuite le taux d'erreur lors de l'entrainement et pour le test\n",
    "Ytrain_predicted = classifier.predict(Xtrain)\n",
    "Ytest_predicted = classifier.predict(Xtest)\n",
    "# la fonction error_rate devrait etre présente dans votre utilities.py (TP3), sinon ajoutez-la\n",
    "e_tr = error_rate(Ytrain, Ytrain_predicted)\n",
    "e_te = error_rate(Ytest, Ytest_predicted)\n",
    "\n",
    "print(\"Classificateur: 1 Neighrest Neighbor\")\n",
    "print(\"Training error:\", e_tr)\n",
    "print(\"Test error:\", e_te)"
   ]
  },
  {
   "cell_type": "markdown",
   "id": "7440f67b",
   "metadata": {
    "deletable": false,
    "nbgrader": {
     "cell_type": "markdown",
     "checksum": "7c27b6028c9284dfe4422c81b3f7c658",
     "grade": true,
     "grade_id": "cell-4db77bd51d290099",
     "locked": false,
     "points": 1,
     "schema_version": 3,
     "solution": true,
     "task": false
    }
   },
   "source": [
    "**Exercice :** Quels sont les taux d'erreur pour l'ensemble\n",
    "d'entraînement et l'ensemble de test ?\n",
    "\n",
    "Les taux d'erreurs du classificateur 1 Neighrest Neighboor pour l'ensemble d'entraînement et de test est repsectivement de 0% et 20%.\n",
    "\n",
    "On mémorise ces taux dans une table `error_rates` que l'on complétera\n",
    "au fur et à mesure de cette feuille:"
   ]
  },
  {
   "cell_type": "code",
   "execution_count": null,
   "id": "2cf5fcef",
   "metadata": {
    "deletable": false,
    "editable": false,
    "nbgrader": {
     "cell_type": "code",
     "checksum": "d5bb250cb3310ca7ac9e6af12c58ca2d",
     "grade": false,
     "grade_id": "cell-84331f5cb22a0f87",
     "locked": true,
     "schema_version": 3,
     "solution": false,
     "task": false
    }
   },
   "outputs": [],
   "source": [
    "error_rates = pd.DataFrame([], columns=['entrainement', 'test'])\n",
    "error_rates.loc[\"1 Neighrest Neighbor\",:] = [e_tr, e_te]\n",
    "error_rates"
   ]
  },
  {
   "cell_type": "markdown",
   "id": "b1b07440",
   "metadata": {
    "deletable": false,
    "editable": false,
    "nbgrader": {
     "cell_type": "markdown",
     "checksum": "1dd2e40abcbbaec8ad5dbd190a66d33a",
     "grade": false,
     "grade_id": "cell-2034d3a7e9dbbfad",
     "locked": true,
     "schema_version": 3,
     "solution": false,
     "task": false
    }
   },
   "source": [
    "### Fenêtres de Parzen (*Parzen window* ou *radius neighbors*)\n",
    "\n",
    "Pour ce classificateur, on ne fixe pas le nombre de voisins mais un\n",
    "rayon $r$; la classe d'un élément $e$ est prédite par la classe\n",
    "majoritaire parmi les éléments de l'ensemble d'entraînement dans la\n",
    "sphère de centre $e$ et de rayon $r$.\n",
    "\n",
    "**Exercice :** Complétez le code ci-dessous:"
   ]
  },
  {
   "cell_type": "code",
   "execution_count": null,
   "id": "08f1acd0",
   "metadata": {
    "deletable": false,
    "nbgrader": {
     "cell_type": "code",
     "checksum": "5f1723f468796a617b6b6d013f4f5a0d",
     "grade": false,
     "grade_id": "cell-64dfc640f023f84e",
     "locked": false,
     "schema_version": 3,
     "solution": true,
     "task": false
    }
   },
   "outputs": [],
   "source": [
    "from sklearn.neighbors import RadiusNeighborsClassifier\n",
    "\n",
    "classifier2 = RadiusNeighborsClassifier(radius=1.0)\n",
    "\n",
    "# on l'ajuste aux données d'entrainement\n",
    "classifier2.fit(Xtrain, Ytrain) \n",
    "# on calcule ensuite le taux d'erreur lors de l'entrainement et pour le test\n",
    "Ytrain_predicted = classifier2.predict(Xtrain)\n",
    "Ytest_predicted = classifier2.predict(Xtest)\n",
    "# la fonction error_rate devrait etre présente dans votre utilities.py (TP3), sinon ajoutez-la\n",
    "e_tr2 = error_rate(Ytrain, Ytrain_predicted)\n",
    "e_te2 = error_rate(Ytest, Ytest_predicted)\n",
    "\n",
    "print(\"Classificateur: Parzen Window\")\n",
    "print(\"Training error:\", e_tr2)\n",
    "print(\"Test error:\", e_te2)"
   ]
  },
  {
   "cell_type": "markdown",
   "id": "f4b506ba",
   "metadata": {
    "deletable": false,
    "editable": false,
    "nbgrader": {
     "cell_type": "markdown",
     "checksum": "1e18644108e320442bc0b8634f81b21e",
     "grade": false,
     "grade_id": "cell-540f1e8f9850f69f",
     "locked": true,
     "schema_version": 3,
     "solution": false,
     "task": false
    }
   },
   "source": [
    "**Exercice :** Complétez la table `error_rates` avec ce modèle, en\n",
    "rajoutant une ligne d'index `Parzen Window`.\n",
    "\n",
    "**Indication :** Utiliser `.loc` comme ci-dessus."
   ]
  },
  {
   "cell_type": "code",
   "execution_count": null,
   "id": "61bacb6b",
   "metadata": {
    "deletable": false,
    "nbgrader": {
     "cell_type": "code",
     "checksum": "6f6dbcaff1626d6fa8527a7ad4a00d14",
     "grade": false,
     "grade_id": "cell-4274f47e142d9ed1",
     "locked": false,
     "schema_version": 3,
     "solution": true,
     "task": false
    }
   },
   "outputs": [],
   "source": [
    "error_rates.loc[\"Parzen Window\",:] = [e_tr2, e_te2]\n",
    "error_rates"
   ]
  },
  {
   "cell_type": "code",
   "execution_count": null,
   "id": "0956a06e",
   "metadata": {
    "deletable": false,
    "editable": false,
    "nbgrader": {
     "cell_type": "code",
     "checksum": "da22505d351571e98b45b6f44159e00d",
     "grade": true,
     "grade_id": "cell-6ac30547e91d336f",
     "locked": true,
     "points": 2,
     "schema_version": 3,
     "solution": false,
     "task": false
    }
   },
   "outputs": [],
   "source": [
    "assert isinstance(error_rates, pd.DataFrame)\n",
    "assert list(error_rates.columns) == ['entrainement', 'test']\n",
    "assert list(error_rates.index) == ['1 Neighrest Neighbor', 'Parzen Window']\n",
    "assert (0 <= error_rates).all(axis=None), \"Les taux d'erreurs doivent être positifs\"\n",
    "assert (error_rates <= 1).all(axis=None), \"Les taux d'erreurs doivent être inférieur à 1\""
   ]
  },
  {
   "cell_type": "markdown",
   "id": "75eca7ee",
   "metadata": {
    "deletable": false,
    "nbgrader": {
     "cell_type": "markdown",
     "checksum": "bd250040d987603d47cd207402729cc1",
     "grade": true,
     "grade_id": "cell-7ca6c7b760e2f6d3",
     "locked": false,
     "points": 3,
     "schema_version": 3,
     "solution": true,
     "task": false
    }
   },
   "source": [
    "**Exercice $\\clubsuit$ :** Faites varier le rayon $r$. Comment le taux\n",
    "d'erreur varie-t-il ? Vous pouvez ajouter des modèles à la table\n",
    "`error_rates` s'ils vous semblent pertinents\n",
    "\n",
    "Les taux d'erreurs à l'ensemble d'entraînement et de test augmente lorsqu'on augment le rayon.(pour un rayon r > 2)"
   ]
  },
  {
   "cell_type": "code",
   "execution_count": null,
   "id": "251dfaaa",
   "metadata": {},
   "outputs": [],
   "source": [
    "from sklearn.neighbors import RadiusNeighborsClassifier\n",
    "for rad in range(1,5):\n",
    "    classifier2 = RadiusNeighborsClassifier(radius=rad)\n",
    "    # on l'ajuste aux données d'entrainement\n",
    "    classifier2.fit(Xtrain, Ytrain) \n",
    "    # on calcule ensuite le taux d'erreur lors de l'entrainement et pour le test\n",
    "    Ytrain_predicted = classifier2.predict(Xtrain)\n",
    "    Ytest_predicted = classifier2.predict(Xtest)\n",
    "    # la fonction error_rate devrait etre présente dans votre utilities.py (TP3), sinon ajoutez-la\n",
    "    e_tr2 = error_rate(Ytrain, Ytrain_predicted)\n",
    "    e_te2 = error_rate(Ytest, Ytest_predicted)\n",
    "    error_rates.loc[f\"Parzen Window radius={rad}\",:] = [e_tr2, e_te2]\n",
    "error_rates"
   ]
  },
  {
   "cell_type": "markdown",
   "id": "79e966d3",
   "metadata": {
    "deletable": false,
    "editable": false,
    "nbgrader": {
     "cell_type": "markdown",
     "checksum": "11aa8b1bee7bca0e0941f5be75907e9b",
     "grade": false,
     "grade_id": "cell-7474d5437867f93b",
     "locked": true,
     "schema_version": 3,
     "solution": false,
     "task": false
    }
   },
   "source": [
    "## Classificateurs basés sur les attributs (*feature based*)"
   ]
  },
  {
   "cell_type": "markdown",
   "id": "22f81165",
   "metadata": {
    "deletable": false,
    "editable": false,
    "nbgrader": {
     "cell_type": "markdown",
     "checksum": "7f142dd64f1cac9b6487260ca1cff01d",
     "grade": false,
     "grade_id": "cell-bc351a36f5734e8b",
     "locked": true,
     "schema_version": 3,
     "solution": false,
     "task": false
    }
   },
   "source": [
    "### Régression linéaire"
   ]
  },
  {
   "cell_type": "markdown",
   "id": "fdd1e5ad",
   "metadata": {
    "deletable": false,
    "nbgrader": {
     "cell_type": "markdown",
     "checksum": "b6b80b5d2c6aa80c8a5ad69b4bddf7fb",
     "grade": true,
     "grade_id": "cell-aa0635012d566877",
     "locked": false,
     "points": 1,
     "schema_version": 3,
     "solution": true,
     "task": false
    }
   },
   "source": [
    "**Exercice :** Pourquoi ne peut-on pas appliquer la méthode de\n",
    "régression linéaire pour classer nos pommes et nos bananes.\n",
    "\n",
    "La méthode de régression linéaire n'est pas applicable sur l'ensemble des pommes et bananes car leurs attributs ne sont pas séparables par une droites."
   ]
  },
  {
   "cell_type": "markdown",
   "id": "da05f540",
   "metadata": {
    "deletable": false,
    "editable": false,
    "nbgrader": {
     "cell_type": "markdown",
     "checksum": "6e75b4ffc13642cda57f2610ee0b93dc",
     "grade": false,
     "grade_id": "cell-f3fe417cf16e9bb2",
     "locked": true,
     "schema_version": 3,
     "solution": false,
     "task": false
    }
   },
   "source": [
    "### Arbres de décision"
   ]
  },
  {
   "cell_type": "markdown",
   "id": "a844a119",
   "metadata": {
    "deletable": false,
    "editable": false,
    "nbgrader": {
     "cell_type": "markdown",
     "checksum": "ca97a3e6e5fb381ffa0cf367ac37dd72",
     "grade": false,
     "grade_id": "cell-0c0e203b37439b49",
     "locked": true,
     "schema_version": 3,
     "solution": false,
     "task": false
    }
   },
   "source": [
    "Les arbres de décison correspondent à des modèles avec des décisions\n",
    "imbriquées où chaque noeud teste une condition sur une variable.  Les\n",
    "étiquettes se trouvent aux feuilles."
   ]
  },
  {
   "cell_type": "markdown",
   "id": "6b72b915",
   "metadata": {
    "deletable": false,
    "editable": false,
    "nbgrader": {
     "cell_type": "markdown",
     "checksum": "65228b363cf73812186190baeb789507",
     "grade": false,
     "grade_id": "cell-da133a018c6e8417",
     "locked": true,
     "schema_version": 3,
     "solution": false,
     "task": false
    }
   },
   "source": [
    "**Exercice :** Complétez le code ci-dessous."
   ]
  },
  {
   "cell_type": "code",
   "execution_count": null,
   "id": "a7eca9cf",
   "metadata": {
    "deletable": false,
    "nbgrader": {
     "cell_type": "code",
     "checksum": "b706dd669f71f720a937332056ae3b4e",
     "grade": false,
     "grade_id": "cell-8e19513e3f66e21a",
     "locked": false,
     "schema_version": 3,
     "solution": true,
     "task": false
    }
   },
   "outputs": [],
   "source": [
    "from sklearn import tree\n",
    "\n",
    "classifier = tree.DecisionTreeClassifier()\n",
    "# on l'ajuste aux données d'entrainement\n",
    "\n",
    "# on l'ajuste aux données d'entrainement\n",
    "classifier.fit(Xtrain, Ytrain) \n",
    "# on calcule ensuite le taux d'erreur lors de l'entrainement et pour le test\n",
    "Ytrain_predicted = classifier.predict(Xtrain)\n",
    "Ytest_predicted = classifier.predict(Xtest)\n",
    "# la fonction error_rate devrait etre présente dans votre utilities.py (TP3), sinon ajoutez-la\n",
    "e_tr2 = error_rate(Ytrain, Ytrain_predicted)\n",
    "e_te2 = error_rate(Ytest, Ytest_predicted)\n",
    "\n",
    "\n",
    "print(\"Classificateur: Arbre de decision\")\n",
    "print(\"Training error:\", e_tr2)\n",
    "print(\"Test error:\", e_te2)"
   ]
  },
  {
   "cell_type": "markdown",
   "id": "f5c6ddc2",
   "metadata": {
    "deletable": false,
    "editable": false,
    "nbgrader": {
     "cell_type": "markdown",
     "checksum": "7349afd1535a78ef980d8f6760875d5d",
     "grade": false,
     "grade_id": "cell-d818ab75031ccf3c",
     "locked": true,
     "schema_version": 3,
     "solution": false,
     "task": false
    }
   },
   "source": [
    "**Exercice :** Complétez la table `error_rates` avec ce modèle."
   ]
  },
  {
   "cell_type": "code",
   "execution_count": null,
   "id": "3569a0c9",
   "metadata": {
    "deletable": false,
    "nbgrader": {
     "cell_type": "code",
     "checksum": "c939e2d995ec9bb6ca39f2e93265c069",
     "grade": false,
     "grade_id": "cell-b2218cbf456bd91c",
     "locked": false,
     "schema_version": 3,
     "solution": true,
     "task": false
    }
   },
   "outputs": [],
   "source": [
    "error_rates.loc[\"Tree decision\",:] = [e_tr2, e_te2]\n",
    "print(error_rates)"
   ]
  },
  {
   "cell_type": "code",
   "execution_count": null,
   "id": "464fa62a",
   "metadata": {
    "deletable": false,
    "editable": false,
    "nbgrader": {
     "cell_type": "code",
     "checksum": "263cc1fd48d9747bbe78937fdf9a3472",
     "grade": true,
     "grade_id": "cell-57894376c13e530a",
     "locked": true,
     "points": 1,
     "schema_version": 3,
     "solution": false,
     "task": false
    }
   },
   "outputs": [],
   "source": [
    "assert isinstance(error_rates, pd.DataFrame)\n",
    "assert list(error_rates.columns) == ['entrainement', 'test']\n",
    "assert error_rates.shape[0] >= 3\n",
    "assert (0 <= error_rates).all(axis=None), \"Les taux d'erreurs doivent être positifs\"\n",
    "assert (error_rates <= 1).all(axis=None), \"Les taux d'erreurs doivent être inférieur à 1\""
   ]
  },
  {
   "cell_type": "markdown",
   "id": "522cb141",
   "metadata": {
    "deletable": false,
    "editable": false,
    "nbgrader": {
     "cell_type": "markdown",
     "checksum": "4fa7e91b5a9e8184312ecfe62340a032",
     "grade": false,
     "grade_id": "cell-f1f775a2ccb77c41",
     "locked": true,
     "schema_version": 3,
     "solution": false,
     "task": false
    }
   },
   "source": [
    "**Exercice :** Représentez l'arbre de décision comme vu lors du CM5."
   ]
  },
  {
   "cell_type": "code",
   "execution_count": null,
   "id": "1aa1888a",
   "metadata": {
    "deletable": false,
    "nbgrader": {
     "cell_type": "code",
     "checksum": "7b63b16ea19a3384fae1cf81c25b7b25",
     "grade": false,
     "grade_id": "cell-e4ce3f1406e9fe61",
     "locked": false,
     "schema_version": 3,
     "solution": true,
     "task": false
    }
   },
   "outputs": [],
   "source": [
    "import matplotlib.pyplot as plt\n",
    "\n",
    "plt.figure(figsize=(12,12)) \n",
    "tree.plot_tree(classifier, fontsize=8) \n",
    "plt.show()"
   ]
  },
  {
   "cell_type": "markdown",
   "id": "af524dba",
   "metadata": {
    "deletable": false,
    "nbgrader": {
     "cell_type": "markdown",
     "checksum": "4feff09eb4df25c0948e4e4a799028b6",
     "grade": true,
     "grade_id": "cell-316a87fad1287712",
     "locked": false,
     "points": 2,
     "schema_version": 3,
     "solution": true,
     "task": false
    }
   },
   "source": [
    "**Exercice :** Interprétez cette figure.\n",
    "\n",
    "Cette figure nous montre que 10 images ont été triés grâce à l'arbre de décision,que 5 ont été placés dans une catégorie et 5 dans l'autre catégorie, et donc qu'il n'y a eu aucune erreur effectué par l'algorithme de classification."
   ]
  },
  {
   "cell_type": "markdown",
   "id": "c185c609",
   "metadata": {
    "deletable": false,
    "editable": false,
    "nbgrader": {
     "cell_type": "markdown",
     "checksum": "4d130da1537149b2d938f87bb679c7c1",
     "grade": false,
     "grade_id": "cell-ff5d2dccfd4a6505",
     "locked": true,
     "schema_version": 3,
     "solution": false,
     "task": false
    }
   },
   "source": [
    "### Perceptron"
   ]
  },
  {
   "cell_type": "markdown",
   "id": "076f889a",
   "metadata": {
    "deletable": false,
    "editable": false,
    "nbgrader": {
     "cell_type": "markdown",
     "checksum": "e493f04249e130eb23a4e0d6b7f05a98",
     "grade": false,
     "grade_id": "cell-e4a08d06646c875e",
     "locked": true,
     "schema_version": 3,
     "solution": false,
     "task": false
    }
   },
   "source": [
    "Le perceptron est un réseau de neurones artificiels à une seule couche\n",
    "et donc avec une capacité de modélisation limitée; pour le problème\n",
    "qui nous intéresse cela est suffisant. Pour plus de détails, revenez\n",
    "au [cours](CM5.md)\n",
    "\n",
    "**Exercice :** Complétez le code ci-dessous, où l'on définit un modèle\n",
    "de type `Perceptron` avec comme paramètres $10^{-3}$ pour la tolérence, $36$ pour l'état aléatoire (*random state*) et 100 époques (*max_iter*)"
   ]
  },
  {
   "cell_type": "code",
   "execution_count": null,
   "id": "1f7ba3ea",
   "metadata": {
    "deletable": false,
    "nbgrader": {
     "cell_type": "code",
     "checksum": "5c9287f84d7c30ac9d4d477e2d8959db",
     "grade": false,
     "grade_id": "cell-c6bfeee5a4a966cc",
     "locked": false,
     "schema_version": 3,
     "solution": true,
     "task": false
    }
   },
   "outputs": [],
   "source": [
    "from sklearn.linear_model import Perceptron\n",
    "\n",
    "perceptron_modele = Perceptron(tol=1e-3, random_state=36, max_iter=100)\n",
    "# *tol* est un autre critère d'arret\n",
    "# Si loss <= previous_loss - tol alors on n'améliore pas le modèle\n",
    "# en changeant les poids: on s'arrete.\n",
    "perceptron_modele.fit(Xtrain, Ytrain)\n",
    "\n",
    "#prédictions\n",
    "Ytrain_predicted = perceptron_modele.predict(Xtrain)\n",
    "Ytest_predicted = perceptron_modele.predict(Xtest)\n",
    "\n",
    "# Calcul des erreurs\n",
    "e_tr = error_rate(Ytrain, Ytrain_predicted)\n",
    "e_te = error_rate(Ytest, Ytest_predicted)\n",
    "\n",
    "print(\"Classificateur: Perceptron\")\n",
    "print(\"Training error:\", e_tr)\n",
    "print(\"Test error:\", e_te)"
   ]
  },
  {
   "cell_type": "markdown",
   "id": "1760b6da",
   "metadata": {
    "deletable": false,
    "nbgrader": {
     "cell_type": "markdown",
     "checksum": "9976c26d3d2c1e44c76a11b3d7d6b95a",
     "grade": true,
     "grade_id": "cell-f8994015ecc492d3",
     "locked": false,
     "points": 1,
     "schema_version": 3,
     "solution": true,
     "task": false
    }
   },
   "source": [
    "**Exercice :** Lisez la documentation de `Perceptron`. À quoi\n",
    "correspond le paramètre `random_state` ?\n",
    "\n",
    "Le random_state représente la graine du nombre pseudo-aléatoire généré par le modèle de perceptron. Ce dernier est utilisé pour mélanger les données d'entrainement(si le paramètre shuffle est True)."
   ]
  },
  {
   "cell_type": "code",
   "execution_count": null,
   "id": "75ebc89c",
   "metadata": {
    "deletable": false,
    "nbgrader": {
     "cell_type": "code",
     "checksum": "0600469ba02818badb43e47910bf271e",
     "grade": false,
     "grade_id": "cell-4f0cec434737cda7",
     "locked": false,
     "schema_version": 3,
     "solution": true,
     "task": false
    }
   },
   "outputs": [],
   "source": [
    "help('sklearn.linear_model.Perceptron')"
   ]
  },
  {
   "cell_type": "markdown",
   "id": "f7a279e9",
   "metadata": {
    "deletable": false,
    "editable": false,
    "nbgrader": {
     "cell_type": "markdown",
     "checksum": "4913e916d7d45477247b2487260702b3",
     "grade": false,
     "grade_id": "cell-65470533b4335e5a",
     "locked": true,
     "schema_version": 3,
     "solution": false,
     "task": false
    }
   },
   "source": [
    "**Exercice :** Complétez la table `error_rates` avec ce modèle."
   ]
  },
  {
   "cell_type": "code",
   "execution_count": null,
   "id": "3a7204c1",
   "metadata": {
    "deletable": false,
    "nbgrader": {
     "cell_type": "code",
     "checksum": "b5a8399a63c996a0984792b535fa4065",
     "grade": false,
     "grade_id": "cell-cfe370c6b70f6d27",
     "locked": false,
     "schema_version": 3,
     "solution": true,
     "task": false
    }
   },
   "outputs": [],
   "source": [
    "error_rates.loc[\"Perceptron\",:] = [e_tr, e_te]\n",
    "error_rates"
   ]
  },
  {
   "cell_type": "code",
   "execution_count": null,
   "id": "ad369acc",
   "metadata": {
    "deletable": false,
    "editable": false,
    "nbgrader": {
     "cell_type": "code",
     "checksum": "49ed7a76afdf1c5075ac8514f69c24b5",
     "grade": true,
     "grade_id": "cell-b72fa191a2a82889",
     "locked": true,
     "points": 1,
     "schema_version": 3,
     "solution": false,
     "task": false
    }
   },
   "outputs": [],
   "source": [
    "assert error_rates.shape[0] >= 4\n",
    "assert error_rates.shape[1] == 2"
   ]
  },
  {
   "cell_type": "markdown",
   "id": "c0970069",
   "metadata": {
    "deletable": false,
    "editable": false,
    "nbgrader": {
     "cell_type": "markdown",
     "checksum": "760dec58453dfd0d440baf2c8de3bdc9",
     "grade": false,
     "grade_id": "cell-b546e3375477b608",
     "locked": true,
     "schema_version": 3,
     "solution": false,
     "task": false
    }
   },
   "source": [
    "## $\\clubsuit$ Points bonus : construction du classificateur «une règle» (*One Rule*)\n",
    "\n",
    "Faites cette partie ou bien passez directement à la conclusion.\n",
    "\n",
    "En complétant le code ci-dessous, créez votre premier classificateur\n",
    "qui:\n",
    "* sélectionne le \"bon\" attribut (rougeur ou élongation pour le\n",
    "  problème des pommes/bananes), appelé $G$ (pour *good*). C'est\n",
    "  l'attribut qui est le plus corrélé (en valeur absolue, toujours !)\n",
    "  aux valeurs cibles $y = ± 1$;\n",
    "* détermine une valeur seuil (*threshold*);\n",
    "* utilise l'attribut `G` et le seuil pour prédire la classe des éléments.\n",
    "        \n",
    "Un canevas de la classe `OneRule` est fournit dans la classe\n",
    "`utilities.py`; vous pouvez le compléter ou bien la programmer\n",
    "entièrement vous même.\n",
    "\n",
    "Ce classificateur est-il basé sur les attributs ou sur les exemples?"
   ]
  },
  {
   "cell_type": "code",
   "execution_count": null,
   "id": "9e4a9f45",
   "metadata": {
    "deletable": false,
    "editable": false,
    "nbgrader": {
     "cell_type": "code",
     "checksum": "9f7385d47625cbe5517b632691a023d4",
     "grade": false,
     "grade_id": "cell-b72b2907842cb7fb",
     "locked": true,
     "schema_version": 3,
     "solution": false,
     "task": false
    }
   },
   "outputs": [],
   "source": [
    "# Use this code to test your classifier\n",
    "classifier = OneRule()\n",
    "classifier.fit(Xtrain, Ytrain) \n",
    "Ytrain_predicted = classifier.predict(Xtrain)\n",
    "Ytest_predicted = classifier.predict(Xtest)\n",
    "e_tr = error_rate(Ytrain, Ytrain_predicted)\n",
    "e_te = error_rate(Ytest, Ytest_predicted)\n",
    "print(\"Classificateur: One rule\")\n",
    "print(\"Training error:\", e_tr)\n",
    "print(\"Test error:\", e_te)"
   ]
  },
  {
   "cell_type": "markdown",
   "id": "60d10217",
   "metadata": {
    "deletable": false,
    "editable": false,
    "nbgrader": {
     "cell_type": "markdown",
     "checksum": "63825ae948ab016d3e3be1b480b0c325",
     "grade": false,
     "grade_id": "cell-472a8c23ef803ec9",
     "locked": true,
     "schema_version": 3,
     "solution": false,
     "task": false
    }
   },
   "source": [
    "**Exercice :** Complétez la table `error_rates` avec ce modèle."
   ]
  },
  {
   "cell_type": "code",
   "execution_count": null,
   "id": "749bdc63",
   "metadata": {
    "deletable": false,
    "nbgrader": {
     "cell_type": "code",
     "checksum": "9f9fbca044d9d5ca0de79a289e657a64",
     "grade": false,
     "grade_id": "cell-7b189e436af168e3",
     "locked": false,
     "schema_version": 3,
     "solution": true,
     "task": false
    }
   },
   "outputs": [],
   "source": [
    "# YOUR CODE HERE\n",
    "raise NotImplementedError()\n",
    "print(error_rates)"
   ]
  },
  {
   "cell_type": "code",
   "execution_count": null,
   "id": "e18da394",
   "metadata": {
    "deletable": false,
    "editable": false,
    "nbgrader": {
     "cell_type": "code",
     "checksum": "d9cc4e307aa25ea9db7429b85c63e193",
     "grade": true,
     "grade_id": "cell-14c847f98a88a373",
     "locked": true,
     "points": 0,
     "schema_version": 3,
     "solution": false,
     "task": false
    }
   },
   "outputs": [],
   "source": [
    "assert error_rates.shape[0] >= 5\n",
    "assert error_rates.shape[1] == 2"
   ]
  },
  {
   "cell_type": "code",
   "execution_count": null,
   "id": "acb175a1",
   "metadata": {
    "deletable": false,
    "editable": false,
    "nbgrader": {
     "cell_type": "code",
     "checksum": "9eac0c359d449ad1c0026e38854320af",
     "grade": false,
     "grade_id": "cell-587a9581023e668d",
     "locked": true,
     "schema_version": 3,
     "solution": false,
     "task": false
    }
   },
   "outputs": [],
   "source": [
    "# On charge les images\n",
    "dataset_dir = os.path.join(data.dir, 'ApplesAndBananasSimple')\n",
    "images = load_images(dataset_dir, \"*.png\")\n",
    "# This is what you get as decision boundary.\n",
    "# The training examples are shown as white circles and the test examples are blue squares.\n",
    "make_scatter_plot(X, images.apply(transparent_background_filter),\n",
    "                  [], test_index, \n",
    "                  predicted_labels='GroundTruth',\n",
    "                  feat = classifier.attribute, theta=classifier.theta, axis='square')"
   ]
  },
  {
   "cell_type": "markdown",
   "id": "3a1a5abf",
   "metadata": {
    "deletable": false,
    "editable": false,
    "nbgrader": {
     "cell_type": "markdown",
     "checksum": "e9f6c1a409234b6d29ce5f38de89a7bf",
     "grade": false,
     "grade_id": "cell-1b8779ac28a26c59",
     "locked": true,
     "schema_version": 3,
     "solution": false,
     "task": false
    }
   },
   "source": [
    "Comparez avec ce que vous auriez obtenu en utilisant les 2 attributs avec le même poids lors de la décision de classe."
   ]
  },
  {
   "cell_type": "code",
   "execution_count": null,
   "id": "8644cf42",
   "metadata": {
    "deletable": false,
    "editable": false,
    "nbgrader": {
     "cell_type": "code",
     "checksum": "5f6db3de94731a2fbf4749d55449b82f",
     "grade": false,
     "grade_id": "cell-d0e8bd2a9132fea6",
     "locked": true,
     "schema_version": 3,
     "solution": false,
     "task": false
    }
   },
   "outputs": [],
   "source": [
    "make_scatter_plot(X, images.apply(transparent_background_filter),\n",
    "                  [], test_index, \n",
    "                  predicted_labels='GroundTruth',\n",
    "                  show_diag=True, axis='square')"
   ]
  },
  {
   "cell_type": "markdown",
   "id": "e4c30a92",
   "metadata": {
    "deletable": false,
    "editable": false,
    "nbgrader": {
     "cell_type": "markdown",
     "checksum": "8db48dc81f852cf17c594ed3396acf42",
     "grade": false,
     "grade_id": "cell-28e6ef8e4fa12a3c",
     "locked": true,
     "schema_version": 3,
     "solution": false,
     "task": false
    }
   },
   "source": [
    "### Conclusion"
   ]
  },
  {
   "cell_type": "markdown",
   "id": "e48df849",
   "metadata": {
    "deletable": false,
    "nbgrader": {
     "cell_type": "markdown",
     "checksum": "251fa35c1a5f4e7d3c1c7d27b1c50648",
     "grade": true,
     "grade_id": "cell-1b50f7767c53d39b",
     "locked": false,
     "points": 2,
     "schema_version": 3,
     "solution": true,
     "task": false
    }
   },
   "source": [
    "**Exercice :** Comparez les taux d'erreur et d'entraînement de vos\n",
    "différents classificateurs pour le problème des pommes et des bananes.\n",
    "\n",
    "VOTRE RÉPONSE ICI"
   ]
  },
  {
   "cell_type": "markdown",
   "id": "8d203bb0",
   "metadata": {
    "deletable": false,
    "editable": false,
    "nbgrader": {
     "cell_type": "markdown",
     "checksum": "623cd73082a3b65a692ad8b02da7e0ba",
     "grade": false,
     "grade_id": "cell-466bf7addb6e465a",
     "locked": true,
     "schema_version": 3,
     "solution": false,
     "task": false
    }
   },
   "source": [
    "Dans cette feuille vous avez découvert comment utiliser un certain\n",
    "nombre de classificateurs, voire comment implanter le vôtre, et\n",
    "comment jouer sur les paramètres de ces classificateurs (par exemple\n",
    "la tolérance du perceptron ou le nombre de voisins du KNN) pour\n",
    "essayer d'optimiser leur performance.\n",
    "\n",
    "Mettez à jour votre rapport et déposez votre travail."
   ]
  },
  {
   "cell_type": "markdown",
   "id": "5f711409",
   "metadata": {
    "deletable": false,
    "editable": false,
    "nbgrader": {
     "cell_type": "markdown",
     "checksum": "3e3d916a7c8ce54f4dc14284f4de3fc4",
     "grade": false,
     "grade_id": "cell-466bf7addb6e465b",
     "locked": true,
     "schema_version": 3,
     "solution": false,
     "task": false
    }
   },
   "source": [
    "Vous êtes maintenant prêts pour revenir à votre [analyse de\n",
    "données](4_analyse_de_donnees.md) pour mettre en œuvre ces\n",
    "classificateurs sur votre jeu de données.\n",
    "\n",
    "**Dans le projet 1, on vous demande de choisir un seul classificateur,\n",
    "ainsi que ses paramètres**.  Nous verrons dans la seconde partie de\n",
    "l'UE comment comparer systématiquement les classificateurs."
   ]
  }
 ],
 "metadata": {
  "jupytext": {
   "text_representation": {
    "extension": ".md",
    "format_name": "myst",
    "format_version": 0.13,
    "jupytext_version": "1.11.5"
   }
  },
  "kernelspec": {
   "display_name": "Python 3 (ipykernel)",
   "language": "python",
   "name": "python3"
  }
 },
 "nbformat": 4,
 "nbformat_minor": 5
}
