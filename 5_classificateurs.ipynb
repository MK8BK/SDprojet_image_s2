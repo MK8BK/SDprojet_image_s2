{
 "cells": [
  {
   "cell_type": "markdown",
   "id": "d4b250cc",
   "metadata": {
    "deletable": false,
    "nbgrader": {
     "cell_type": "markdown",
     "checksum": "afbf34e64e7471cefc07d9483063e7a8",
     "grade": false,
     "grade_id": "cell-3876f910a24fe8a7",
     "locked": true,
     "schema_version": 3,
     "solution": false
    }
   },
   "source": [
    "# Classificateurs"
   ]
  },
  {
   "cell_type": "markdown",
   "id": "56423ae3",
   "metadata": {
    "deletable": false,
    "nbgrader": {
     "cell_type": "markdown",
     "checksum": "f1092a8183464dd2e0b498c1337d6626",
     "grade": false,
     "grade_id": "cell-65c63f4be1820d2e",
     "locked": true,
     "schema_version": 3,
     "solution": false,
     "task": false
    }
   },
   "source": [
    "Dans cette feuille, nous allons explorer l'utilisation de plusieurs\n",
    "classificateurs sur l'exemple des pommes et des bananes. Vous pourrez\n",
    "ensuite les essayer sur votre jeu de données.\n",
    "\n",
    "Commencons par charger les utilitaires et autres librairies:"
   ]
  },
  {
   "cell_type": "code",
   "execution_count": 2,
   "id": "478a9f90",
   "metadata": {
    "deletable": false,
    "nbgrader": {
     "cell_type": "code",
     "checksum": "b2e17e47ccdae1d5732b95b0d7416e66",
     "grade": false,
     "grade_id": "cell-a2ccd1e13b05762c",
     "locked": true,
     "schema_version": 3,
     "solution": false,
     "task": false
    }
   },
   "outputs": [],
   "source": [
    "import os, re\n",
    "from glob import glob as ls\n",
    "import numpy as np                    # Matrix algebra library\n",
    "import pandas as pd                   # Data table (DataFrame) library\n",
    "import seaborn as sns; sns.set()      # Graphs and visualization library\n",
    "from PIL import Image                 # Image processing library\n",
    "import matplotlib.pyplot as plt       # Library to make graphs \n",
    "# Configuration intégration dans Jupyter\n",
    "%matplotlib inline\n",
    "\n",
    "## les utilitaires\n",
    "%load_ext autoreload\n",
    "%autoreload 2\n",
    "from utilities import *\n",
    "\n",
    "## les jeux de données\n",
    "#from intro_science_donnees import data"
   ]
  },
  {
   "cell_type": "markdown",
   "id": "01cd1c7d",
   "metadata": {
    "deletable": false,
    "nbgrader": {
     "cell_type": "markdown",
     "checksum": "d880dfccac7e7bb362d70f774bf09ebb",
     "grade": false,
     "grade_id": "cell-875bebae978f4f5a",
     "locked": true,
     "schema_version": 3,
     "solution": false,
     "task": false
    }
   },
   "source": [
    "## Chargement et préparation des données"
   ]
  },
  {
   "cell_type": "markdown",
   "id": "8f82b478",
   "metadata": {
    "deletable": false,
    "nbgrader": {
     "cell_type": "markdown",
     "checksum": "b65b91941f8d669592af300673a8c5e9",
     "grade": false,
     "grade_id": "cell-ce0810dd4273ea24",
     "locked": true,
     "schema_version": 3,
     "solution": false,
     "task": false
    }
   },
   "source": [
    "On charge le jeu de données prétraité (attributs rougeur et élongation\n",
    "et classes des fruits), tel que fournis en semaine 3:"
   ]
  },
  {
   "cell_type": "code",
   "execution_count": 4,
   "id": "13ea76c4",
   "metadata": {
    "deletable": false,
    "nbgrader": {
     "cell_type": "code",
     "checksum": "769fa816745ea2782f19614eb432c19e",
     "grade": false,
     "grade_id": "cell-e6d48e8b35c2d42a",
     "locked": true,
     "schema_version": 3,
     "solution": false,
     "task": false
    }
   },
   "outputs": [],
   "source": [
    "df = pd.read_csv(\"data/attributs.csv\", index_col=0)\n",
    "# standardisation\n",
    "dfstd =  (df - df.mean()) / df.std()\n",
    "dfstd['class'] = df['class']"
   ]
  },
  {
   "cell_type": "markdown",
   "id": "c18c821c",
   "metadata": {
    "deletable": false,
    "nbgrader": {
     "cell_type": "markdown",
     "checksum": "5e412381817b3618b8a7a7ca91094d61",
     "grade": false,
     "grade_id": "cell-24210bafac4b3490",
     "locked": true,
     "schema_version": 3,
     "solution": false,
     "task": false
    }
   },
   "source": [
    "On partitionne le jeu de données en ensemble de test et\n",
    "d'entraînement:"
   ]
  },
  {
   "cell_type": "code",
   "execution_count": 5,
   "id": "25e3723e",
   "metadata": {
    "deletable": false,
    "nbgrader": {
     "cell_type": "code",
     "checksum": "5d2b328c09ea561ef6c95a69314be2ba",
     "grade": false,
     "grade_id": "cell-00b3f36097ec9704",
     "locked": true,
     "schema_version": 3,
     "solution": false,
     "task": false
    }
   },
   "outputs": [
    {
     "name": "stdout",
     "output_type": "stream",
     "text": [
      "TRAIN: [14 19  2 11  3 18 12  5  9  1] TEST: [ 0 17  4 13  6  8  7 16 10 15]\n"
     ]
    }
   ],
   "source": [
    "X = dfstd[['redness', 'elongation']]\n",
    "Y = dfstd['class']\n",
    "#partition des images\n",
    "train_index, test_index = split_data(X, Y, seed=0)\n",
    "\n",
    "#partition de la table des attributs\n",
    "Xtrain = X.iloc[train_index]\n",
    "Xtest = X.iloc[test_index]\n",
    "#partition de la table des étiquettes\n",
    "Ytrain = Y.iloc[train_index]\n",
    "Ytest = Y.iloc[test_index]"
   ]
  },
  {
   "cell_type": "markdown",
   "id": "0e7cc456",
   "metadata": {
    "deletable": false,
    "nbgrader": {
     "cell_type": "markdown",
     "checksum": "741881738d7829a3b3d62de9cceb02f2",
     "grade": false,
     "grade_id": "cell-9e3cf5dde27fbb00",
     "locked": true,
     "schema_version": 3,
     "solution": false,
     "task": false
    }
   },
   "source": [
    "## Classificateurs basés sur les exemples (*examples-based*)"
   ]
  },
  {
   "cell_type": "markdown",
   "id": "09b196aa",
   "metadata": {
    "deletable": false,
    "nbgrader": {
     "cell_type": "markdown",
     "checksum": "45db778c1166c64282fd7d8e20a03d1b",
     "grade": false,
     "grade_id": "cell-f7f11edbe1e13a7d",
     "locked": true,
     "schema_version": 3,
     "solution": false,
     "task": false
    }
   },
   "source": [
    "Nous allons maintenant voir comment appliquer des classificateurs\n",
    "fournis par la librairie `scikit-learn`.  Commençons par le\n",
    "classificateur plus proche voisin déjà vu en semaines 3 et 4."
   ]
  },
  {
   "cell_type": "markdown",
   "id": "c278a46f",
   "metadata": {
    "deletable": false,
    "nbgrader": {
     "cell_type": "markdown",
     "checksum": "40979d861a5204582bc97eca2e359c92",
     "grade": false,
     "grade_id": "cell-28f37cb9aba3b0d6",
     "locked": true,
     "schema_version": 3,
     "solution": false,
     "task": false
    }
   },
   "source": [
    "### KNN : $k$-plus proche voisins"
   ]
  },
  {
   "cell_type": "code",
   "execution_count": 6,
   "id": "b9789cea",
   "metadata": {
    "deletable": false,
    "nbgrader": {
     "cell_type": "code",
     "checksum": "c23d3cd77a415c7fceb36d690329ec61",
     "grade": false,
     "grade_id": "cell-786fada559c8c5e0",
     "locked": true,
     "schema_version": 3,
     "solution": false,
     "task": false
    }
   },
   "outputs": [
    {
     "name": "stdout",
     "output_type": "stream",
     "text": [
      "Classificateur: 1 Neighrest Neighbor\n",
      "Training error: 0.0\n",
      "Test error: 0.2\n"
     ]
    }
   ],
   "source": [
    "from sklearn.neighbors import KNeighborsClassifier\n",
    "\n",
    "#définition du classificateur, ici on l'appelle classifier\n",
    "# on choisit k=1\n",
    "classifier = KNeighborsClassifier(n_neighbors=1)\n",
    "# on l'ajuste aux données d'entrsainement\n",
    "classifier.fit(Xtrain, Ytrain) \n",
    "# on calcule ensuite le taux d'erreur lors de l'entrainement et pour le test\n",
    "Ytrain_predicted = classifier.predict(Xtrain)\n",
    "Ytest_predicted = classifier.predict(Xtest)\n",
    "# la fonction error_rate devrait etre présente dans votre utilities.py (TP3), sinon ajoutez-la\n",
    "e_tr = error_rate(Ytrain, Ytrain_predicted)\n",
    "e_te = error_rate(Ytest, Ytest_predicted)\n",
    "\n",
    "print(\"Classificateur: 1 Neighrest Neighbor\")\n",
    "print(\"Training error:\", e_tr)\n",
    "print(\"Test error:\", e_te)"
   ]
  },
  {
   "cell_type": "markdown",
   "id": "9ae95333",
   "metadata": {
    "deletable": false,
    "nbgrader": {
     "cell_type": "markdown",
     "checksum": "7c27b6028c9284dfe4422c81b3f7c658",
     "grade": true,
     "grade_id": "cell-4db77bd51d290099",
     "locked": false,
     "points": 1,
     "schema_version": 3,
     "solution": true,
     "task": false
    }
   },
   "source": [
    "**Exercice :** Quels sont les taux d'erreur pour l'ensemble\n",
    "d'entraînement et l'ensemble de test ?\n",
    "\n",
    "Les taux d'erreurs pour l'ensemble d'entrainement et de test sont repsectivement O% et 20%\n",
    "\n",
    "On mémorise ces taux dans une table `error_rates` que l'on complétera\n",
    "au fur et à mesure de cette feuille:"
   ]
  },
  {
   "cell_type": "code",
   "execution_count": 7,
   "id": "3187559f",
   "metadata": {
    "deletable": false,
    "nbgrader": {
     "cell_type": "code",
     "checksum": "d5bb250cb3310ca7ac9e6af12c58ca2d",
     "grade": false,
     "grade_id": "cell-84331f5cb22a0f87",
     "locked": true,
     "schema_version": 3,
     "solution": false,
     "task": false
    }
   },
   "outputs": [
    {
     "data": {
      "text/html": [
       "<div>\n",
       "<style scoped>\n",
       "    .dataframe tbody tr th:only-of-type {\n",
       "        vertical-align: middle;\n",
       "    }\n",
       "\n",
       "    .dataframe tbody tr th {\n",
       "        vertical-align: top;\n",
       "    }\n",
       "\n",
       "    .dataframe thead th {\n",
       "        text-align: right;\n",
       "    }\n",
       "</style>\n",
       "<table border=\"1\" class=\"dataframe\">\n",
       "  <thead>\n",
       "    <tr style=\"text-align: right;\">\n",
       "      <th></th>\n",
       "      <th>entrainement</th>\n",
       "      <th>test</th>\n",
       "    </tr>\n",
       "  </thead>\n",
       "  <tbody>\n",
       "    <tr>\n",
       "      <th>1 Neighrest Neighbor</th>\n",
       "      <td>0.0</td>\n",
       "      <td>0.2</td>\n",
       "    </tr>\n",
       "  </tbody>\n",
       "</table>\n",
       "</div>"
      ],
      "text/plain": [
       "                     entrainement test\n",
       "1 Neighrest Neighbor          0.0  0.2"
      ]
     },
     "execution_count": 7,
     "metadata": {},
     "output_type": "execute_result"
    }
   ],
   "source": [
    "error_rates = pd.DataFrame([], columns=['entrainement', 'test'])\n",
    "error_rates.loc[\"1 Neighrest Neighbor\",:] = [e_tr, e_te]\n",
    "error_rates"
   ]
  },
  {
   "cell_type": "markdown",
   "id": "b7541bdf",
   "metadata": {
    "deletable": false,
    "nbgrader": {
     "cell_type": "markdown",
     "checksum": "1dd2e40abcbbaec8ad5dbd190a66d33a",
     "grade": false,
     "grade_id": "cell-2034d3a7e9dbbfad",
     "locked": true,
     "schema_version": 3,
     "solution": false,
     "task": false
    }
   },
   "source": [
    "### Fenêtres de Parzen (*Parzen window* ou *radius neighbors*)\n",
    "\n",
    "Pour ce classificateur, on ne fixe pas le nombre de voisins mais un\n",
    "rayon $r$; la classe d'un élément $e$ est prédite par la classe\n",
    "majoritaire parmi les éléments de l'ensemble d'entraînement dans la\n",
    "sphère de centre $e$ et de rayon $r$.\n",
    "\n",
    "**Exercice :** Complétez le code ci-dessous:"
   ]
  },
  {
   "cell_type": "code",
   "execution_count": 8,
   "id": "ec09978f",
   "metadata": {
    "deletable": false,
    "nbgrader": {
     "cell_type": "code",
     "checksum": "5f1723f468796a617b6b6d013f4f5a0d",
     "grade": false,
     "grade_id": "cell-64dfc640f023f84e",
     "locked": false,
     "schema_version": 3,
     "solution": true,
     "task": false
    }
   },
   "outputs": [
    {
     "name": "stdout",
     "output_type": "stream",
     "text": [
      "Classificateur: Parzen Window\n",
      "Training error: 0.0\n",
      "Test error: 0.2\n"
     ]
    }
   ],
   "source": [
    "from sklearn.neighbors import RadiusNeighborsClassifier\n",
    "classifier = RadiusNeighborsClassifier(radius=1.0)\n",
    "\n",
    "# on l'ajuste aux données d'entrainement\n",
    "\n",
    "classifier.fit(Xtrain,Ytrain)\n",
    "\n",
    "# on calcule ensuite le taux d'erreur lors de l'entrainement et pour le test\n",
    "\n",
    "Ytrain_predicted = classifier.predict(Xtrain)\n",
    "Ytest_predicted = classifier.predict(Xtest)\n",
    "# on calcule les taux d'erreurs\n",
    "\n",
    "e_tr2 = error_rate(Ytrain, Ytrain_predicted)\n",
    "e_te2 = error_rate(Ytest, Ytest_predicted)\n",
    "\n",
    "print(\"Classificateur: Parzen Window\")\n",
    "print(\"Training error:\", e_tr2)\n",
    "print(\"Test error:\", e_te2)"
   ]
  },
  {
   "cell_type": "markdown",
   "id": "3e3714bb",
   "metadata": {
    "deletable": false,
    "nbgrader": {
     "cell_type": "markdown",
     "checksum": "1e18644108e320442bc0b8634f81b21e",
     "grade": false,
     "grade_id": "cell-540f1e8f9850f69f",
     "locked": true,
     "schema_version": 3,
     "solution": false,
     "task": false
    }
   },
   "source": [
    "**Exercice :** Complétez la table `error_rates` avec ce modèle, en\n",
    "rajoutant une ligne d'index `Parzen Window`.\n",
    "\n",
    "**Indication :** Utiliser `.loc` comme ci-dessus."
   ]
  },
  {
   "cell_type": "code",
   "execution_count": 9,
   "id": "8ff90702",
   "metadata": {
    "deletable": false,
    "nbgrader": {
     "cell_type": "code",
     "checksum": "6f6dbcaff1626d6fa8527a7ad4a00d14",
     "grade": false,
     "grade_id": "cell-4274f47e142d9ed1",
     "locked": false,
     "schema_version": 3,
     "solution": true,
     "task": false
    }
   },
   "outputs": [
    {
     "data": {
      "text/html": [
       "<div>\n",
       "<style scoped>\n",
       "    .dataframe tbody tr th:only-of-type {\n",
       "        vertical-align: middle;\n",
       "    }\n",
       "\n",
       "    .dataframe tbody tr th {\n",
       "        vertical-align: top;\n",
       "    }\n",
       "\n",
       "    .dataframe thead th {\n",
       "        text-align: right;\n",
       "    }\n",
       "</style>\n",
       "<table border=\"1\" class=\"dataframe\">\n",
       "  <thead>\n",
       "    <tr style=\"text-align: right;\">\n",
       "      <th></th>\n",
       "      <th>entrainement</th>\n",
       "      <th>test</th>\n",
       "    </tr>\n",
       "  </thead>\n",
       "  <tbody>\n",
       "    <tr>\n",
       "      <th>1 Neighrest Neighbor</th>\n",
       "      <td>0.0</td>\n",
       "      <td>0.2</td>\n",
       "    </tr>\n",
       "    <tr>\n",
       "      <th>Parzen Window</th>\n",
       "      <td>0.0</td>\n",
       "      <td>0.2</td>\n",
       "    </tr>\n",
       "  </tbody>\n",
       "</table>\n",
       "</div>"
      ],
      "text/plain": [
       "                     entrainement test\n",
       "1 Neighrest Neighbor          0.0  0.2\n",
       "Parzen Window                 0.0  0.2"
      ]
     },
     "execution_count": 9,
     "metadata": {},
     "output_type": "execute_result"
    }
   ],
   "source": [
    "# YOUR CODE HERE\n",
    "error_rates.loc[\"Parzen Window\",:] = [e_tr2, e_te2]\n",
    "error_rates"
   ]
  },
  {
   "cell_type": "code",
   "execution_count": 10,
   "id": "a09fc728",
   "metadata": {
    "deletable": false,
    "nbgrader": {
     "cell_type": "code",
     "checksum": "da22505d351571e98b45b6f44159e00d",
     "grade": true,
     "grade_id": "cell-6ac30547e91d336f",
     "locked": true,
     "points": 2,
     "schema_version": 3,
     "solution": false,
     "task": false
    }
   },
   "outputs": [],
   "source": [
    "assert isinstance(error_rates, pd.DataFrame)\n",
    "assert list(error_rates.columns) == ['entrainement', 'test']\n",
    "assert list(error_rates.index) == ['1 Neighrest Neighbor', 'Parzen Window']\n",
    "assert (0 <= error_rates).all(axis=None), \"Les taux d'erreurs doivent être positifs\"\n",
    "assert (error_rates <= 1).all(axis=None), \"Les taux d'erreurs doivent être inférieur à 1\""
   ]
  },
  {
   "cell_type": "markdown",
   "id": "20f5f508",
   "metadata": {
    "deletable": false,
    "nbgrader": {
     "cell_type": "markdown",
     "checksum": "bd250040d987603d47cd207402729cc1",
     "grade": true,
     "grade_id": "cell-7ca6c7b760e2f6d3",
     "locked": false,
     "points": 3,
     "schema_version": 3,
     "solution": true,
     "task": false
    }
   },
   "source": [
    "**Exercice $\\clubsuit$ :** Faites varier le rayon $r$. Comment le taux\n",
    "d'erreur varie-t-il ? Vous pouvez ajouter des modèles à la table\n",
    "`error_rates` s'ils vous semblent pertinents\n",
    "\n",
    "On remarque que le taux d'erreur à l'entrainement et au test augmente lorsqu'on utilise le rayon dans le modèle de Parzen."
   ]
  },
  {
   "cell_type": "code",
   "execution_count": 11,
   "id": "22d8431a",
   "metadata": {},
   "outputs": [],
   "source": [
    "for i in range(2,11):\n",
    "    classifier = RadiusNeighborsClassifier(radius=i)\n",
    "    # on l'ajuste aux données d'entrainement\n",
    "    classifier.fit(Xtrain,Ytrain)\n",
    "    # on calcule ensuite le taux d'erreur lors de l'entrainement et pour le test\n",
    "    Ytrain_predicted = classifier.predict(Xtrain)\n",
    "    Ytest_predicted = classifier.predict(Xtest)\n",
    "    # on calcule les taux d'erreurs\n",
    "    e_tr2 = error_rate(Ytrain, Ytrain_predicted)\n",
    "    e_te2 = error_rate(Ytest, Ytest_predicted)\n",
    "    error_rates.loc[f\"Parzen Window radius={i}\",:] = [e_tr2, e_te2]"
   ]
  },
  {
   "cell_type": "code",
   "execution_count": 12,
   "id": "c78fdc87",
   "metadata": {},
   "outputs": [
    {
     "data": {
      "text/html": [
       "<div>\n",
       "<style scoped>\n",
       "    .dataframe tbody tr th:only-of-type {\n",
       "        vertical-align: middle;\n",
       "    }\n",
       "\n",
       "    .dataframe tbody tr th {\n",
       "        vertical-align: top;\n",
       "    }\n",
       "\n",
       "    .dataframe thead th {\n",
       "        text-align: right;\n",
       "    }\n",
       "</style>\n",
       "<table border=\"1\" class=\"dataframe\">\n",
       "  <thead>\n",
       "    <tr style=\"text-align: right;\">\n",
       "      <th></th>\n",
       "      <th>entrainement</th>\n",
       "      <th>test</th>\n",
       "    </tr>\n",
       "  </thead>\n",
       "  <tbody>\n",
       "    <tr>\n",
       "      <th>1 Neighrest Neighbor</th>\n",
       "      <td>0.0</td>\n",
       "      <td>0.2</td>\n",
       "    </tr>\n",
       "    <tr>\n",
       "      <th>Parzen Window</th>\n",
       "      <td>0.0</td>\n",
       "      <td>0.2</td>\n",
       "    </tr>\n",
       "    <tr>\n",
       "      <th>Parzen Window radius=2</th>\n",
       "      <td>0.0</td>\n",
       "      <td>0.2</td>\n",
       "    </tr>\n",
       "    <tr>\n",
       "      <th>Parzen Window radius=3</th>\n",
       "      <td>0.2</td>\n",
       "      <td>0.4</td>\n",
       "    </tr>\n",
       "    <tr>\n",
       "      <th>Parzen Window radius=4</th>\n",
       "      <td>0.5</td>\n",
       "      <td>0.5</td>\n",
       "    </tr>\n",
       "    <tr>\n",
       "      <th>Parzen Window radius=5</th>\n",
       "      <td>0.5</td>\n",
       "      <td>0.5</td>\n",
       "    </tr>\n",
       "    <tr>\n",
       "      <th>Parzen Window radius=6</th>\n",
       "      <td>0.5</td>\n",
       "      <td>0.5</td>\n",
       "    </tr>\n",
       "    <tr>\n",
       "      <th>Parzen Window radius=7</th>\n",
       "      <td>0.5</td>\n",
       "      <td>0.5</td>\n",
       "    </tr>\n",
       "    <tr>\n",
       "      <th>Parzen Window radius=8</th>\n",
       "      <td>0.5</td>\n",
       "      <td>0.5</td>\n",
       "    </tr>\n",
       "    <tr>\n",
       "      <th>Parzen Window radius=9</th>\n",
       "      <td>0.5</td>\n",
       "      <td>0.5</td>\n",
       "    </tr>\n",
       "    <tr>\n",
       "      <th>Parzen Window radius=10</th>\n",
       "      <td>0.5</td>\n",
       "      <td>0.5</td>\n",
       "    </tr>\n",
       "  </tbody>\n",
       "</table>\n",
       "</div>"
      ],
      "text/plain": [
       "                        entrainement test\n",
       "1 Neighrest Neighbor             0.0  0.2\n",
       "Parzen Window                    0.0  0.2\n",
       "Parzen Window radius=2           0.0  0.2\n",
       "Parzen Window radius=3           0.2  0.4\n",
       "Parzen Window radius=4           0.5  0.5\n",
       "Parzen Window radius=5           0.5  0.5\n",
       "Parzen Window radius=6           0.5  0.5\n",
       "Parzen Window radius=7           0.5  0.5\n",
       "Parzen Window radius=8           0.5  0.5\n",
       "Parzen Window radius=9           0.5  0.5\n",
       "Parzen Window radius=10          0.5  0.5"
      ]
     },
     "execution_count": 12,
     "metadata": {},
     "output_type": "execute_result"
    }
   ],
   "source": [
    "error_rates"
   ]
  },
  {
   "cell_type": "markdown",
   "id": "0d9049fb",
   "metadata": {
    "deletable": false,
    "nbgrader": {
     "cell_type": "markdown",
     "checksum": "11aa8b1bee7bca0e0941f5be75907e9b",
     "grade": false,
     "grade_id": "cell-7474d5437867f93b",
     "locked": true,
     "schema_version": 3,
     "solution": false,
     "task": false
    }
   },
   "source": [
    "## Classificateurs basés sur les attributs (*feature based*)"
   ]
  },
  {
   "cell_type": "markdown",
   "id": "975a220f",
   "metadata": {
    "deletable": false,
    "nbgrader": {
     "cell_type": "markdown",
     "checksum": "7f142dd64f1cac9b6487260ca1cff01d",
     "grade": false,
     "grade_id": "cell-bc351a36f5734e8b",
     "locked": true,
     "schema_version": 3,
     "solution": false,
     "task": false
    }
   },
   "source": [
    "### Régression linéaire"
   ]
  },
  {
   "cell_type": "markdown",
   "id": "2d1471d9",
   "metadata": {
    "deletable": false,
    "nbgrader": {
     "cell_type": "markdown",
     "checksum": "b6b80b5d2c6aa80c8a5ad69b4bddf7fb",
     "grade": true,
     "grade_id": "cell-aa0635012d566877",
     "locked": false,
     "points": 1,
     "schema_version": 3,
     "solution": true,
     "task": false
    }
   },
   "source": [
    "**Exercice :** Pourquoi ne peut-on pas appliquer la méthode de\n",
    "régression linéaire pour classer nos pommes et nos bananes ?\n",
    "\n",
    "Parce que nos pommes et nos bananes ne sont pas séparées par une droite."
   ]
  },
  {
   "cell_type": "markdown",
   "id": "b2054231",
   "metadata": {
    "deletable": false,
    "nbgrader": {
     "cell_type": "markdown",
     "checksum": "6e75b4ffc13642cda57f2610ee0b93dc",
     "grade": false,
     "grade_id": "cell-f3fe417cf16e9bb2",
     "locked": true,
     "schema_version": 3,
     "solution": false,
     "task": false
    }
   },
   "source": [
    "### Arbres de décision"
   ]
  },
  {
   "cell_type": "markdown",
   "id": "07aa9f54",
   "metadata": {
    "deletable": false,
    "nbgrader": {
     "cell_type": "markdown",
     "checksum": "ca97a3e6e5fb381ffa0cf367ac37dd72",
     "grade": false,
     "grade_id": "cell-0c0e203b37439b49",
     "locked": true,
     "schema_version": 3,
     "solution": false,
     "task": false
    }
   },
   "source": [
    "Les arbres de décison correspondent à des modèles avec des décisions\n",
    "imbriquées où chaque noeud teste une condition sur une variable.  Les\n",
    "étiquettes se trouvent aux feuilles."
   ]
  },
  {
   "cell_type": "markdown",
   "id": "5edef1dc",
   "metadata": {
    "deletable": false,
    "nbgrader": {
     "cell_type": "markdown",
     "checksum": "65228b363cf73812186190baeb789507",
     "grade": false,
     "grade_id": "cell-da133a018c6e8417",
     "locked": true,
     "schema_version": 3,
     "solution": false,
     "task": false
    }
   },
   "source": [
    "**Exercice :** Complétez le code ci-dessous."
   ]
  },
  {
   "cell_type": "code",
   "execution_count": 13,
   "id": "27e41d52",
   "metadata": {
    "deletable": false,
    "nbgrader": {
     "cell_type": "code",
     "checksum": "b706dd669f71f720a937332056ae3b4e",
     "grade": false,
     "grade_id": "cell-8e19513e3f66e21a",
     "locked": false,
     "schema_version": 3,
     "solution": true,
     "task": false
    }
   },
   "outputs": [
    {
     "name": "stdout",
     "output_type": "stream",
     "text": [
      "Classificateur: Arbre de decision\n",
      "Training error: 0.0\n",
      "Test error: 0.2\n"
     ]
    }
   ],
   "source": [
    "from sklearn import tree\n",
    "\n",
    "decision_tree = tree.DecisionTreeClassifier()\n",
    "# on l'ajuste aux données d'entrainement\n",
    "\n",
    "decision_tree.fit(Xtrain,Ytrain)\n",
    "# on calcule ensuite le taux d'erreur lors de l'entrainement et pour le test\n",
    "\n",
    "Ytrain_predicted = decision_tree.predict(Xtrain)\n",
    "Ytest_predicted = decision_tree.predict(Xtest)\n",
    "\n",
    "# on calcule les taux d'erreurs\n",
    "\n",
    "e_tr = error_rate(Ytrain, Ytrain_predicted)\n",
    "e_te = error_rate(Ytest, Ytest_predicted)\n",
    "\n",
    "\n",
    "print(\"Classificateur: Arbre de decision\")\n",
    "print(\"Training error:\", e_tr)\n",
    "print(\"Test error:\", e_te)"
   ]
  },
  {
   "cell_type": "markdown",
   "id": "4ee895bd",
   "metadata": {
    "deletable": false,
    "nbgrader": {
     "cell_type": "markdown",
     "checksum": "7349afd1535a78ef980d8f6760875d5d",
     "grade": false,
     "grade_id": "cell-d818ab75031ccf3c",
     "locked": true,
     "schema_version": 3,
     "solution": false,
     "task": false
    }
   },
   "source": [
    "**Exercice :** Complétez la table `error_rates` avec ce modèle."
   ]
  },
  {
   "cell_type": "code",
   "execution_count": 14,
   "id": "b1143439",
   "metadata": {
    "deletable": false,
    "nbgrader": {
     "cell_type": "code",
     "checksum": "c939e2d995ec9bb6ca39f2e93265c069",
     "grade": false,
     "grade_id": "cell-b2218cbf456bd91c",
     "locked": false,
     "schema_version": 3,
     "solution": true,
     "task": false
    }
   },
   "outputs": [
    {
     "name": "stdout",
     "output_type": "stream",
     "text": [
      "                        entrainement test\n",
      "1 Neighrest Neighbor             0.0  0.2\n",
      "Parzen Window                    0.0  0.2\n",
      "Parzen Window radius=2           0.0  0.2\n",
      "Parzen Window radius=3           0.2  0.4\n",
      "Parzen Window radius=4           0.5  0.5\n",
      "Parzen Window radius=5           0.5  0.5\n",
      "Parzen Window radius=6           0.5  0.5\n",
      "Parzen Window radius=7           0.5  0.5\n",
      "Parzen Window radius=8           0.5  0.5\n",
      "Parzen Window radius=9           0.5  0.5\n",
      "Parzen Window radius=10          0.5  0.5\n",
      "Tree decision                    0.0  0.2\n"
     ]
    }
   ],
   "source": [
    "# YOUR CODE HERE\n",
    "error_rates.loc[\"Tree decision\",:] = [e_tr, e_te]\n",
    "error_rates\n",
    "print(error_rates)"
   ]
  },
  {
   "cell_type": "code",
   "execution_count": 15,
   "id": "6b6bd691",
   "metadata": {
    "deletable": false,
    "nbgrader": {
     "cell_type": "code",
     "checksum": "263cc1fd48d9747bbe78937fdf9a3472",
     "grade": true,
     "grade_id": "cell-57894376c13e530a",
     "locked": true,
     "points": 1,
     "schema_version": 3,
     "solution": false,
     "task": false
    }
   },
   "outputs": [],
   "source": [
    "assert isinstance(error_rates, pd.DataFrame)\n",
    "assert list(error_rates.columns) == ['entrainement', 'test']\n",
    "assert error_rates.shape[0] >= 3\n",
    "assert (0 <= error_rates).all(axis=None), \"Les taux d'erreurs doivent être positifs\"\n",
    "assert (error_rates <= 1).all(axis=None), \"Les taux d'erreurs doivent être inférieur à 1\""
   ]
  },
  {
   "cell_type": "markdown",
   "id": "8c2e339f",
   "metadata": {
    "deletable": false,
    "nbgrader": {
     "cell_type": "markdown",
     "checksum": "4fa7e91b5a9e8184312ecfe62340a032",
     "grade": false,
     "grade_id": "cell-f1f775a2ccb77c41",
     "locked": true,
     "schema_version": 3,
     "solution": false,
     "task": false
    }
   },
   "source": [
    "**Exercice :** Représentez l'arbre de décision comme vu lors du CM5."
   ]
  },
  {
   "cell_type": "code",
   "execution_count": 16,
   "id": "50844b06",
   "metadata": {
    "deletable": false,
    "nbgrader": {
     "cell_type": "code",
     "checksum": "7b63b16ea19a3384fae1cf81c25b7b25",
     "grade": false,
     "grade_id": "cell-e4ce3f1406e9fe61",
     "locked": false,
     "schema_version": 3,
     "solution": true,
     "task": false
    }
   },
   "outputs": [
    {
     "data": {
      "image/png": "[encoded data removed]",
      "text/plain": [
       "<Figure size 864x864 with 1 Axes>"
      ]
     },
     "metadata": {},
     "output_type": "display_data"
    }
   ],
   "source": [
    "import matplotlib.pyplot as plt\n",
    "\n",
    "plt.figure(figsize=(12,12)) \n",
    "tree.plot_tree(decision_tree, fontsize=10) \n",
    "plt.show()"
   ]
  },
  {
   "cell_type": "markdown",
   "id": "7c29e03e",
   "metadata": {
    "deletable": false,
    "nbgrader": {
     "cell_type": "markdown",
     "checksum": "4feff09eb4df25c0948e4e4a799028b6",
     "grade": true,
     "grade_id": "cell-316a87fad1287712",
     "locked": false,
     "points": 2,
     "schema_version": 3,
     "solution": true,
     "task": false
    }
   },
   "source": [
    "**Exercice :** Interprétez cette figure.\n",
    "\n",
    "Cette figure représente l'arbre de décision de notre modèle."
   ]
  },
  {
   "cell_type": "markdown",
   "id": "45deded8",
   "metadata": {
    "deletable": false,
    "nbgrader": {
     "cell_type": "markdown",
     "checksum": "4d130da1537149b2d938f87bb679c7c1",
     "grade": false,
     "grade_id": "cell-ff5d2dccfd4a6505",
     "locked": true,
     "schema_version": 3,
     "solution": false,
     "task": false
    }
   },
   "source": [
    "### Perceptron"
   ]
  },
  {
   "cell_type": "markdown",
   "id": "7a3803ea",
   "metadata": {
    "deletable": false,
    "nbgrader": {
     "cell_type": "markdown",
     "checksum": "e493f04249e130eb23a4e0d6b7f05a98",
     "grade": false,
     "grade_id": "cell-e4a08d06646c875e",
     "locked": true,
     "schema_version": 3,
     "solution": false,
     "task": false
    }
   },
   "source": [
    "Le perceptron est un réseau de neurones artificiels à une seule couche\n",
    "et donc avec une capacité de modélisation limitée; pour le problème\n",
    "qui nous intéresse cela est suffisant. Pour plus de détails, revenez\n",
    "au [cours](CM5.md)\n",
    "\n",
    "**Exercice :** Complétez le code ci-dessous, où l'on définit un modèle\n",
    "de type `Perceptron` avec comme paramètres $10^{-3}$ pour la tolérence, $36$ pour l'état aléatoire (*random state*) et 100 époques (*max_iter*)"
   ]
  },
  {
   "cell_type": "code",
   "execution_count": 17,
   "id": "eeb9fd7f",
   "metadata": {
    "deletable": false,
    "nbgrader": {
     "cell_type": "code",
     "checksum": "5c9287f84d7c30ac9d4d477e2d8959db",
     "grade": false,
     "grade_id": "cell-c6bfeee5a4a966cc",
     "locked": false,
     "schema_version": 3,
     "solution": true,
     "task": false
    }
   },
   "outputs": [
    {
     "name": "stdout",
     "output_type": "stream",
     "text": [
      "Classificateur: Perceptron\n",
      "Training error: 0.0\n",
      "Test error: 0.1\n"
     ]
    }
   ],
   "source": [
    "from sklearn.linear_model import Perceptron\n",
    "\n",
    "# définition du modèle de classificateur\n",
    "perceptron = Perceptron(tol=1e-3, random_state=36, max_iter=100)\n",
    "# on l'ajuste aux données d'entrainement\n",
    "\n",
    "perceptron.fit(Xtrain,Ytrain)\n",
    "# on calcule ensuite le taux d'erreur lors de l'entrainement et pour le test\n",
    "\n",
    "Ytrain_predicted = perceptron.predict(Xtrain)\n",
    "Ytest_predicted = perceptron.predict(Xtest)\n",
    "\n",
    "# on calcule les taux d'erreurs\n",
    "\n",
    "e_tr = error_rate(Ytrain, Ytrain_predicted)\n",
    "e_te = error_rate(Ytest, Ytest_predicted)\n",
    "\n",
    "print(\"Classificateur: Perceptron\")\n",
    "print(\"Training error:\", e_tr)\n",
    "print(\"Test error:\", e_te)"
   ]
  },
  {
   "cell_type": "markdown",
   "id": "a8bc962a",
   "metadata": {
    "deletable": false,
    "nbgrader": {
     "cell_type": "markdown",
     "checksum": "9976c26d3d2c1e44c76a11b3d7d6b95a",
     "grade": true,
     "grade_id": "cell-f8994015ecc492d3",
     "locked": false,
     "points": 1,
     "schema_version": 3,
     "solution": true,
     "task": false
    }
   },
   "source": [
    "**Exercice :** Lisez la documentation de `Perceptron`. À quoi\n",
    "correspond le paramètre `random_state` ?\n",
    "\n",
    "Le paramètre random_state correspond au mélange de l'ensemble d'entrainement lorsque l'attribut 'shuffle' est True."
   ]
  },
  {
   "cell_type": "code",
   "execution_count": 18,
   "id": "355c19b6",
   "metadata": {
    "deletable": false,
    "nbgrader": {
     "cell_type": "code",
     "checksum": "0600469ba02818badb43e47910bf271e",
     "grade": false,
     "grade_id": "cell-4f0cec434737cda7",
     "locked": false,
     "schema_version": 3,
     "solution": true,
     "task": false
    }
   },
   "outputs": [
    {
     "name": "stdout",
     "output_type": "stream",
     "text": [
      "Help on class Perceptron in sklearn.linear_model:\n",
      "\n",
      "sklearn.linear_model.Perceptron = class Perceptron(sklearn.linear_model._stochastic_gradient.BaseSGDClassifier)\n",
      " |  sklearn.linear_model.Perceptron(*, penalty=None, alpha=0.0001, l1_ratio=0.15, fit_intercept=True, max_iter=1000, tol=0.001, shuffle=True, verbose=0, eta0=1.0, n_jobs=None, random_state=0, early_stopping=False, validation_fraction=0.1, n_iter_no_change=5, class_weight=None, warm_start=False)\n",
      " |  \n",
      " |  Linear perceptron classifier.\n",
      " |  \n",
      " |  Read more in the :ref:`User Guide <perceptron>`.\n",
      " |  \n",
      " |  Parameters\n",
      " |  ----------\n",
      " |  \n",
      " |  penalty : {'l2','l1','elasticnet'}, default=None\n",
      " |      The penalty (aka regularization term) to be used.\n",
      " |  \n",
      " |  alpha : float, default=0.0001\n",
      " |      Constant that multiplies the regularization term if regularization is\n",
      " |      used.\n",
      " |  \n",
      " |  l1_ratio : float, default=0.15\n",
      " |      The Elastic Net mixing parameter, with `0 <= l1_ratio <= 1`.\n",
      " |      `l1_ratio=0` corresponds to L2 penalty, `l1_ratio=1` to L1.\n",
      " |      Only used if `penalty='elasticnet'`.\n",
      " |  \n",
      " |      .. versionadded:: 0.24\n",
      " |  \n",
      " |  fit_intercept : bool, default=True\n",
      " |      Whether the intercept should be estimated or not. If False, the\n",
      " |      data is assumed to be already centered.\n",
      " |  \n",
      " |  max_iter : int, default=1000\n",
      " |      The maximum number of passes over the training data (aka epochs).\n",
      " |      It only impacts the behavior in the ``fit`` method, and not the\n",
      " |      :meth:`partial_fit` method.\n",
      " |  \n",
      " |      .. versionadded:: 0.19\n",
      " |  \n",
      " |  tol : float, default=1e-3\n",
      " |      The stopping criterion. If it is not None, the iterations will stop\n",
      " |      when (loss > previous_loss - tol).\n",
      " |  \n",
      " |      .. versionadded:: 0.19\n",
      " |  \n",
      " |  shuffle : bool, default=True\n",
      " |      Whether or not the training data should be shuffled after each epoch.\n",
      " |  \n",
      " |  verbose : int, default=0\n",
      " |      The verbosity level.\n",
      " |  \n",
      " |  eta0 : float, default=1\n",
      " |      Constant by which the updates are multiplied.\n",
      " |  \n",
      " |  n_jobs : int, default=None\n",
      " |      The number of CPUs to use to do the OVA (One Versus All, for\n",
      " |      multi-class problems) computation.\n",
      " |      ``None`` means 1 unless in a :obj:`joblib.parallel_backend` context.\n",
      " |      ``-1`` means using all processors. See :term:`Glossary <n_jobs>`\n",
      " |      for more details.\n",
      " |  \n",
      " |  random_state : int, RandomState instance, default=None\n",
      " |      Used to shuffle the training data, when ``shuffle`` is set to\n",
      " |      ``True``. Pass an int for reproducible output across multiple\n",
      " |      function calls.\n",
      " |      See :term:`Glossary <random_state>`.\n",
      " |  \n",
      " |  early_stopping : bool, default=False\n",
      " |      Whether to use early stopping to terminate training when validation.\n",
      " |      score is not improving. If set to True, it will automatically set aside\n",
      " |      a stratified fraction of training data as validation and terminate\n",
      " |      training when validation score is not improving by at least tol for\n",
      " |      n_iter_no_change consecutive epochs.\n",
      " |  \n",
      " |      .. versionadded:: 0.20\n",
      " |  \n",
      " |  validation_fraction : float, default=0.1\n",
      " |      The proportion of training data to set aside as validation set for\n",
      " |      early stopping. Must be between 0 and 1.\n",
      " |      Only used if early_stopping is True.\n",
      " |  \n",
      " |      .. versionadded:: 0.20\n",
      " |  \n",
      " |  n_iter_no_change : int, default=5\n",
      " |      Number of iterations with no improvement to wait before early stopping.\n",
      " |  \n",
      " |      .. versionadded:: 0.20\n",
      " |  \n",
      " |  class_weight : dict, {class_label: weight} or \"balanced\", default=None\n",
      " |      Preset for the class_weight fit parameter.\n",
      " |  \n",
      " |      Weights associated with classes. If not given, all classes\n",
      " |      are supposed to have weight one.\n",
      " |  \n",
      " |      The \"balanced\" mode uses the values of y to automatically adjust\n",
      " |      weights inversely proportional to class frequencies in the input data\n",
      " |      as ``n_samples / (n_classes * np.bincount(y))``.\n",
      " |  \n",
      " |  warm_start : bool, default=False\n",
      " |      When set to True, reuse the solution of the previous call to fit as\n",
      " |      initialization, otherwise, just erase the previous solution. See\n",
      " |      :term:`the Glossary <warm_start>`.\n",
      " |  \n",
      " |  Attributes\n",
      " |  ----------\n",
      " |  classes_ : ndarray of shape (n_classes,)\n",
      " |      The unique classes labels.\n",
      " |  \n",
      " |  coef_ : ndarray of shape (1, n_features) if n_classes == 2 else             (n_classes, n_features)\n",
      " |      Weights assigned to the features.\n",
      " |  \n",
      " |  intercept_ : ndarray of shape (1,) if n_classes == 2 else (n_classes,)\n",
      " |      Constants in decision function.\n",
      " |  \n",
      " |  loss_function_ : concrete LossFunction\n",
      " |      The function that determines the loss, or difference between the\n",
      " |      output of the algorithm and the target values.\n",
      " |  \n",
      " |  n_features_in_ : int\n",
      " |      Number of features seen during :term:`fit`.\n",
      " |  \n",
      " |      .. versionadded:: 0.24\n",
      " |  \n",
      " |  feature_names_in_ : ndarray of shape (`n_features_in_`,)\n",
      " |      Names of features seen during :term:`fit`. Defined only when `X`\n",
      " |      has feature names that are all strings.\n",
      " |  \n",
      " |      .. versionadded:: 1.0\n",
      " |  \n",
      " |  n_iter_ : int\n",
      " |      The actual number of iterations to reach the stopping criterion.\n",
      " |      For multiclass fits, it is the maximum over every binary fit.\n",
      " |  \n",
      " |  t_ : int\n",
      " |      Number of weight updates performed during training.\n",
      " |      Same as ``(n_iter_ * n_samples)``.\n",
      " |  \n",
      " |  See Also\n",
      " |  --------\n",
      " |  sklearn.linear_model.SGDClassifier : Linear classifiers\n",
      " |      (SVM, logistic regression, etc.) with SGD training.\n",
      " |  \n",
      " |  Notes\n",
      " |  -----\n",
      " |  ``Perceptron`` is a classification algorithm which shares the same\n",
      " |  underlying implementation with ``SGDClassifier``. In fact,\n",
      " |  ``Perceptron()`` is equivalent to `SGDClassifier(loss=\"perceptron\",\n",
      " |  eta0=1, learning_rate=\"constant\", penalty=None)`.\n",
      " |  \n",
      " |  References\n",
      " |  ----------\n",
      " |  https://en.wikipedia.org/wiki/Perceptron and references therein.\n",
      " |  \n",
      " |  Examples\n",
      " |  --------\n",
      " |  >>> from sklearn.datasets import load_digits\n",
      " |  >>> from sklearn.linear_model import Perceptron\n",
      " |  >>> X, y = load_digits(return_X_y=True)\n",
      " |  >>> clf = Perceptron(tol=1e-3, random_state=0)\n",
      " |  >>> clf.fit(X, y)\n",
      " |  Perceptron()\n",
      " |  >>> clf.score(X, y)\n",
      " |  0.939...\n",
      " |  \n",
      " |  Method resolution order:\n",
      " |      Perceptron\n",
      " |      sklearn.linear_model._stochastic_gradient.BaseSGDClassifier\n",
      " |      sklearn.linear_model._base.LinearClassifierMixin\n",
      " |      sklearn.base.ClassifierMixin\n",
      " |      sklearn.linear_model._stochastic_gradient.BaseSGD\n",
      " |      sklearn.linear_model._base.SparseCoefMixin\n",
      " |      sklearn.base.BaseEstimator\n",
      " |      builtins.object\n",
      " |  \n",
      " |  Methods defined here:\n",
      " |  \n",
      " |  __init__(self, *, penalty=None, alpha=0.0001, l1_ratio=0.15, fit_intercept=True, max_iter=1000, tol=0.001, shuffle=True, verbose=0, eta0=1.0, n_jobs=None, random_state=0, early_stopping=False, validation_fraction=0.1, n_iter_no_change=5, class_weight=None, warm_start=False)\n",
      " |      Initialize self.  See help(type(self)) for accurate signature.\n",
      " |  \n",
      " |  ----------------------------------------------------------------------\n",
      " |  Data and other attributes defined here:\n",
      " |  \n",
      " |  __abstractmethods__ = frozenset()\n",
      " |  \n",
      " |  ----------------------------------------------------------------------\n",
      " |  Methods inherited from sklearn.linear_model._stochastic_gradient.BaseSGDClassifier:\n",
      " |  \n",
      " |  fit(self, X, y, coef_init=None, intercept_init=None, sample_weight=None)\n",
      " |      Fit linear model with Stochastic Gradient Descent.\n",
      " |      \n",
      " |      Parameters\n",
      " |      ----------\n",
      " |      X : {array-like, sparse matrix}, shape (n_samples, n_features)\n",
      " |          Training data.\n",
      " |      \n",
      " |      y : ndarray of shape (n_samples,)\n",
      " |          Target values.\n",
      " |      \n",
      " |      coef_init : ndarray of shape (n_classes, n_features), default=None\n",
      " |          The initial coefficients to warm-start the optimization.\n",
      " |      \n",
      " |      intercept_init : ndarray of shape (n_classes,), default=None\n",
      " |          The initial intercept to warm-start the optimization.\n",
      " |      \n",
      " |      sample_weight : array-like, shape (n_samples,), default=None\n",
      " |          Weights applied to individual samples.\n",
      " |          If not provided, uniform weights are assumed. These weights will\n",
      " |          be multiplied with class_weight (passed through the\n",
      " |          constructor) if class_weight is specified.\n",
      " |      \n",
      " |      Returns\n",
      " |      -------\n",
      " |      self : object\n",
      " |          Returns an instance of self.\n",
      " |  \n",
      " |  partial_fit(self, X, y, classes=None, sample_weight=None)\n",
      " |      Perform one epoch of stochastic gradient descent on given samples.\n",
      " |      \n",
      " |      Internally, this method uses ``max_iter = 1``. Therefore, it is not\n",
      " |      guaranteed that a minimum of the cost function is reached after calling\n",
      " |      it once. Matters such as objective convergence, early stopping, and\n",
      " |      learning rate adjustments should be handled by the user.\n",
      " |      \n",
      " |      Parameters\n",
      " |      ----------\n",
      " |      X : {array-like, sparse matrix}, shape (n_samples, n_features)\n",
      " |          Subset of the training data.\n",
      " |      \n",
      " |      y : ndarray of shape (n_samples,)\n",
      " |          Subset of the target values.\n",
      " |      \n",
      " |      classes : ndarray of shape (n_classes,), default=None\n",
      " |          Classes across all calls to partial_fit.\n",
      " |          Can be obtained by via `np.unique(y_all)`, where y_all is the\n",
      " |          target vector of the entire dataset.\n",
      " |          This argument is required for the first call to partial_fit\n",
      " |          and can be omitted in the subsequent calls.\n",
      " |          Note that y doesn't need to contain all labels in `classes`.\n",
      " |      \n",
      " |      sample_weight : array-like, shape (n_samples,), default=None\n",
      " |          Weights applied to individual samples.\n",
      " |          If not provided, uniform weights are assumed.\n",
      " |      \n",
      " |      Returns\n",
      " |      -------\n",
      " |      self : object\n",
      " |          Returns an instance of self.\n",
      " |  \n",
      " |  ----------------------------------------------------------------------\n",
      " |  Data and other attributes inherited from sklearn.linear_model._stochastic_gradient.BaseSGDClassifier:\n",
      " |  \n",
      " |  loss_functions = {'epsilon_insensitive': (<class 'sklearn.linear_model...\n",
      " |  \n",
      " |  ----------------------------------------------------------------------\n",
      " |  Methods inherited from sklearn.linear_model._base.LinearClassifierMixin:\n",
      " |  \n",
      " |  decision_function(self, X)\n",
      " |      Predict confidence scores for samples.\n",
      " |      \n",
      " |      The confidence score for a sample is proportional to the signed\n",
      " |      distance of that sample to the hyperplane.\n",
      " |      \n",
      " |      Parameters\n",
      " |      ----------\n",
      " |      X : {array-like, sparse matrix} of shape (n_samples, n_features)\n",
      " |          The data matrix for which we want to get the confidence scores.\n",
      " |      \n",
      " |      Returns\n",
      " |      -------\n",
      " |      scores : ndarray of shape (n_samples,) or (n_samples, n_classes)\n",
      " |          Confidence scores per `(n_samples, n_classes)` combination. In the\n",
      " |          binary case, confidence score for `self.classes_[1]` where >0 means\n",
      " |          this class would be predicted.\n",
      " |  \n",
      " |  predict(self, X)\n",
      " |      Predict class labels for samples in X.\n",
      " |      \n",
      " |      Parameters\n",
      " |      ----------\n",
      " |      X : {array-like, sparse matrix} of shape (n_samples, n_features)\n",
      " |          The data matrix for which we want to get the predictions.\n",
      " |      \n",
      " |      Returns\n",
      " |      -------\n",
      " |      y_pred : ndarray of shape (n_samples,)\n",
      " |          Vector containing the class labels for each sample.\n",
      " |  \n",
      " |  ----------------------------------------------------------------------\n",
      " |  Methods inherited from sklearn.base.ClassifierMixin:\n",
      " |  \n",
      " |  score(self, X, y, sample_weight=None)\n",
      " |      Return the mean accuracy on the given test data and labels.\n",
      " |      \n",
      " |      In multi-label classification, this is the subset accuracy\n",
      " |      which is a harsh metric since you require for each sample that\n",
      " |      each label set be correctly predicted.\n",
      " |      \n",
      " |      Parameters\n",
      " |      ----------\n",
      " |      X : array-like of shape (n_samples, n_features)\n",
      " |          Test samples.\n",
      " |      \n",
      " |      y : array-like of shape (n_samples,) or (n_samples, n_outputs)\n",
      " |          True labels for `X`.\n",
      " |      \n",
      " |      sample_weight : array-like of shape (n_samples,), default=None\n",
      " |          Sample weights.\n",
      " |      \n",
      " |      Returns\n",
      " |      -------\n",
      " |      score : float\n",
      " |          Mean accuracy of ``self.predict(X)`` wrt. `y`.\n",
      " |  \n",
      " |  ----------------------------------------------------------------------\n",
      " |  Data descriptors inherited from sklearn.base.ClassifierMixin:\n",
      " |  \n",
      " |  __dict__\n",
      " |      dictionary for instance variables (if defined)\n",
      " |  \n",
      " |  __weakref__\n",
      " |      list of weak references to the object (if defined)\n",
      " |  \n",
      " |  ----------------------------------------------------------------------\n",
      " |  Methods inherited from sklearn.linear_model._base.SparseCoefMixin:\n",
      " |  \n",
      " |  densify(self)\n",
      " |      Convert coefficient matrix to dense array format.\n",
      " |      \n",
      " |      Converts the ``coef_`` member (back) to a numpy.ndarray. This is the\n",
      " |      default format of ``coef_`` and is required for fitting, so calling\n",
      " |      this method is only required on models that have previously been\n",
      " |      sparsified; otherwise, it is a no-op.\n",
      " |      \n",
      " |      Returns\n",
      " |      -------\n",
      " |      self\n",
      " |          Fitted estimator.\n",
      " |  \n",
      " |  sparsify(self)\n",
      " |      Convert coefficient matrix to sparse format.\n",
      " |      \n",
      " |      Converts the ``coef_`` member to a scipy.sparse matrix, which for\n",
      " |      L1-regularized models can be much more memory- and storage-efficient\n",
      " |      than the usual numpy.ndarray representation.\n",
      " |      \n",
      " |      The ``intercept_`` member is not converted.\n",
      " |      \n",
      " |      Returns\n",
      " |      -------\n",
      " |      self\n",
      " |          Fitted estimator.\n",
      " |      \n",
      " |      Notes\n",
      " |      -----\n",
      " |      For non-sparse models, i.e. when there are not many zeros in ``coef_``,\n",
      " |      this may actually *increase* memory usage, so use this method with\n",
      " |      care. A rule of thumb is that the number of zero elements, which can\n",
      " |      be computed with ``(coef_ == 0).sum()``, must be more than 50% for this\n",
      " |      to provide significant benefits.\n",
      " |      \n",
      " |      After calling this method, further fitting with the partial_fit\n",
      " |      method (if any) will not work until you call densify.\n",
      " |  \n",
      " |  ----------------------------------------------------------------------\n",
      " |  Methods inherited from sklearn.base.BaseEstimator:\n",
      " |  \n",
      " |  __getstate__(self)\n",
      " |  \n",
      " |  __repr__(self, N_CHAR_MAX=700)\n",
      " |      Return repr(self).\n",
      " |  \n",
      " |  __setstate__(self, state)\n",
      " |  \n",
      " |  get_params(self, deep=True)\n",
      " |      Get parameters for this estimator.\n",
      " |      \n",
      " |      Parameters\n",
      " |      ----------\n",
      " |      deep : bool, default=True\n",
      " |          If True, will return the parameters for this estimator and\n",
      " |          contained subobjects that are estimators.\n",
      " |      \n",
      " |      Returns\n",
      " |      -------\n",
      " |      params : dict\n",
      " |          Parameter names mapped to their values.\n",
      " |  \n",
      " |  set_params(self, **params)\n",
      " |      Set the parameters of this estimator.\n",
      " |      \n",
      " |      The method works on simple estimators as well as on nested objects\n",
      " |      (such as :class:`~sklearn.pipeline.Pipeline`). The latter have\n",
      " |      parameters of the form ``<component>__<parameter>`` so that it's\n",
      " |      possible to update each component of a nested object.\n",
      " |      \n",
      " |      Parameters\n",
      " |      ----------\n",
      " |      **params : dict\n",
      " |          Estimator parameters.\n",
      " |      \n",
      " |      Returns\n",
      " |      -------\n",
      " |      self : estimator instance\n",
      " |          Estimator instance.\n",
      "\n"
     ]
    }
   ],
   "source": [
    "help(\"sklearn.linear_model.Perceptron\")"
   ]
  },
  {
   "cell_type": "markdown",
   "id": "36bebb2d",
   "metadata": {
    "deletable": false,
    "nbgrader": {
     "cell_type": "markdown",
     "checksum": "4913e916d7d45477247b2487260702b3",
     "grade": false,
     "grade_id": "cell-65470533b4335e5a",
     "locked": true,
     "schema_version": 3,
     "solution": false,
     "task": false
    }
   },
   "source": [
    "**Exercice :** Complétez la table `error_rates` avec ce modèle."
   ]
  },
  {
   "cell_type": "code",
   "execution_count": 19,
   "id": "0db05f6a",
   "metadata": {
    "deletable": false,
    "nbgrader": {
     "cell_type": "code",
     "checksum": "b5a8399a63c996a0984792b535fa4065",
     "grade": false,
     "grade_id": "cell-cfe370c6b70f6d27",
     "locked": false,
     "schema_version": 3,
     "solution": true,
     "task": false
    }
   },
   "outputs": [
    {
     "data": {
      "text/html": [
       "<div>\n",
       "<style scoped>\n",
       "    .dataframe tbody tr th:only-of-type {\n",
       "        vertical-align: middle;\n",
       "    }\n",
       "\n",
       "    .dataframe tbody tr th {\n",
       "        vertical-align: top;\n",
       "    }\n",
       "\n",
       "    .dataframe thead th {\n",
       "        text-align: right;\n",
       "    }\n",
       "</style>\n",
       "<table border=\"1\" class=\"dataframe\">\n",
       "  <thead>\n",
       "    <tr style=\"text-align: right;\">\n",
       "      <th></th>\n",
       "      <th>entrainement</th>\n",
       "      <th>test</th>\n",
       "    </tr>\n",
       "  </thead>\n",
       "  <tbody>\n",
       "    <tr>\n",
       "      <th>1 Neighrest Neighbor</th>\n",
       "      <td>0.0</td>\n",
       "      <td>0.2</td>\n",
       "    </tr>\n",
       "    <tr>\n",
       "      <th>Parzen Window</th>\n",
       "      <td>0.0</td>\n",
       "      <td>0.2</td>\n",
       "    </tr>\n",
       "    <tr>\n",
       "      <th>Parzen Window radius=2</th>\n",
       "      <td>0.0</td>\n",
       "      <td>0.2</td>\n",
       "    </tr>\n",
       "    <tr>\n",
       "      <th>Parzen Window radius=3</th>\n",
       "      <td>0.2</td>\n",
       "      <td>0.4</td>\n",
       "    </tr>\n",
       "    <tr>\n",
       "      <th>Parzen Window radius=4</th>\n",
       "      <td>0.5</td>\n",
       "      <td>0.5</td>\n",
       "    </tr>\n",
       "    <tr>\n",
       "      <th>Parzen Window radius=5</th>\n",
       "      <td>0.5</td>\n",
       "      <td>0.5</td>\n",
       "    </tr>\n",
       "    <tr>\n",
       "      <th>Parzen Window radius=6</th>\n",
       "      <td>0.5</td>\n",
       "      <td>0.5</td>\n",
       "    </tr>\n",
       "    <tr>\n",
       "      <th>Parzen Window radius=7</th>\n",
       "      <td>0.5</td>\n",
       "      <td>0.5</td>\n",
       "    </tr>\n",
       "    <tr>\n",
       "      <th>Parzen Window radius=8</th>\n",
       "      <td>0.5</td>\n",
       "      <td>0.5</td>\n",
       "    </tr>\n",
       "    <tr>\n",
       "      <th>Parzen Window radius=9</th>\n",
       "      <td>0.5</td>\n",
       "      <td>0.5</td>\n",
       "    </tr>\n",
       "    <tr>\n",
       "      <th>Parzen Window radius=10</th>\n",
       "      <td>0.5</td>\n",
       "      <td>0.5</td>\n",
       "    </tr>\n",
       "    <tr>\n",
       "      <th>Tree decision</th>\n",
       "      <td>0.0</td>\n",
       "      <td>0.2</td>\n",
       "    </tr>\n",
       "    <tr>\n",
       "      <th>Perceptron</th>\n",
       "      <td>0.0</td>\n",
       "      <td>0.1</td>\n",
       "    </tr>\n",
       "  </tbody>\n",
       "</table>\n",
       "</div>"
      ],
      "text/plain": [
       "                        entrainement test\n",
       "1 Neighrest Neighbor             0.0  0.2\n",
       "Parzen Window                    0.0  0.2\n",
       "Parzen Window radius=2           0.0  0.2\n",
       "Parzen Window radius=3           0.2  0.4\n",
       "Parzen Window radius=4           0.5  0.5\n",
       "Parzen Window radius=5           0.5  0.5\n",
       "Parzen Window radius=6           0.5  0.5\n",
       "Parzen Window radius=7           0.5  0.5\n",
       "Parzen Window radius=8           0.5  0.5\n",
       "Parzen Window radius=9           0.5  0.5\n",
       "Parzen Window radius=10          0.5  0.5\n",
       "Tree decision                    0.0  0.2\n",
       "Perceptron                       0.0  0.1"
      ]
     },
     "execution_count": 19,
     "metadata": {},
     "output_type": "execute_result"
    }
   ],
   "source": [
    "# YOUR CODE HERE\n",
    "error_rates.loc[\"Perceptron\",:] = [e_tr, e_te]\n",
    "error_rates"
   ]
  },
  {
   "cell_type": "code",
   "execution_count": 20,
   "id": "82a97d86",
   "metadata": {
    "deletable": false,
    "nbgrader": {
     "cell_type": "code",
     "checksum": "49ed7a76afdf1c5075ac8514f69c24b5",
     "grade": true,
     "grade_id": "cell-b72fa191a2a82889",
     "locked": true,
     "points": 1,
     "schema_version": 3,
     "solution": false,
     "task": false
    }
   },
   "outputs": [],
   "source": [
    "assert error_rates.shape[0] >= 4\n",
    "assert error_rates.shape[1] == 2"
   ]
  },
  {
   "cell_type": "markdown",
   "id": "49a41b1b",
   "metadata": {
    "deletable": false,
    "nbgrader": {
     "cell_type": "markdown",
     "checksum": "760dec58453dfd0d440baf2c8de3bdc9",
     "grade": false,
     "grade_id": "cell-b546e3375477b608",
     "locked": true,
     "schema_version": 3,
     "solution": false,
     "task": false
    }
   },
   "source": [
    "## $\\clubsuit$ Points bonus : construction du classificateur «une règle» (*One Rule*)\n",
    "\n",
    "Faites cette partie ou bien passez directement à la conclusion.\n",
    "\n",
    "En complétant le code ci-dessous, créez votre premier classificateur\n",
    "qui:\n",
    "* sélectionne le \"bon\" attribut (rougeur ou élongation pour le\n",
    "  problème des pommes/bananes), appelé $G$ (pour *good*). C'est\n",
    "  l'attribut qui est le plus corrélé (en valeur absolue, toujours !)\n",
    "  aux valeurs cibles $y = ± 1$;\n",
    "* détermine une valeur seuil (*threshold*);\n",
    "* utilise l'attribut `G` et le seuil pour prédire la classe des éléments.\n",
    "        \n",
    "Un canevas de la classe `OneRule` est fournit dans la classe\n",
    "`utilities.py`; vous pouvez le compléter ou bien la programmer\n",
    "entièrement vous même.\n",
    "\n",
    "Ce classificateur est-il basé sur les attributs ou sur les exemples?"
   ]
  },
  {
   "cell_type": "code",
   "execution_count": 21,
   "id": "416847ae",
   "metadata": {
    "deletable": false,
    "nbgrader": {
     "cell_type": "code",
     "checksum": "9f7385d47625cbe5517b632691a023d4",
     "grade": false,
     "grade_id": "cell-b72b2907842cb7fb",
     "locked": true,
     "schema_version": 3,
     "solution": false,
     "task": false
    }
   },
   "outputs": [
    {
     "ename": "NameError",
     "evalue": "name 'OneRule' is not defined",
     "output_type": "error",
     "traceback": [
      "\u001b[1;31m---------------------------------------------------------------------------\u001b[0m",
      "\u001b[1;31mNameError\u001b[0m                                 Traceback (most recent call last)",
      "\u001b[1;32m~\\AppData\\Local\\Temp/ipykernel_17384/1567031378.py\u001b[0m in \u001b[0;36m<module>\u001b[1;34m\u001b[0m\n\u001b[0;32m      1\u001b[0m \u001b[1;31m# Use this code to test your classifier\u001b[0m\u001b[1;33m\u001b[0m\u001b[1;33m\u001b[0m\u001b[0m\n\u001b[1;32m----> 2\u001b[1;33m \u001b[0mclassifier\u001b[0m \u001b[1;33m=\u001b[0m \u001b[0mOneRule\u001b[0m\u001b[1;33m(\u001b[0m\u001b[1;33m)\u001b[0m\u001b[1;33m\u001b[0m\u001b[1;33m\u001b[0m\u001b[0m\n\u001b[0m\u001b[0;32m      3\u001b[0m \u001b[0mclassifier\u001b[0m\u001b[1;33m.\u001b[0m\u001b[0mfit\u001b[0m\u001b[1;33m(\u001b[0m\u001b[0mXtrain\u001b[0m\u001b[1;33m,\u001b[0m \u001b[0mYtrain\u001b[0m\u001b[1;33m)\u001b[0m\u001b[1;33m\u001b[0m\u001b[1;33m\u001b[0m\u001b[0m\n\u001b[0;32m      4\u001b[0m \u001b[0mYtrain_predicted\u001b[0m \u001b[1;33m=\u001b[0m \u001b[0mclassifier\u001b[0m\u001b[1;33m.\u001b[0m\u001b[0mpredict\u001b[0m\u001b[1;33m(\u001b[0m\u001b[0mXtrain\u001b[0m\u001b[1;33m)\u001b[0m\u001b[1;33m\u001b[0m\u001b[1;33m\u001b[0m\u001b[0m\n\u001b[0;32m      5\u001b[0m \u001b[0mYtest_predicted\u001b[0m \u001b[1;33m=\u001b[0m \u001b[0mclassifier\u001b[0m\u001b[1;33m.\u001b[0m\u001b[0mpredict\u001b[0m\u001b[1;33m(\u001b[0m\u001b[0mXtest\u001b[0m\u001b[1;33m)\u001b[0m\u001b[1;33m\u001b[0m\u001b[1;33m\u001b[0m\u001b[0m\n",
      "\u001b[1;31mNameError\u001b[0m: name 'OneRule' is not defined"
     ]
    }
   ],
   "source": [
    "# Use this code to test your classifier\n",
    "classifier = OneRule()\n",
    "classifier.fit(Xtrain, Ytrain) \n",
    "Ytrain_predicted = classifier.predict(Xtrain)\n",
    "Ytest_predicted = classifier.predict(Xtest)\n",
    "e_tr = error_rate(Ytrain, Ytrain_predicted)\n",
    "e_te = error_rate(Ytest, Ytest_predicted)\n",
    "print(\"Classificateur: One rule\")\n",
    "print(\"Training error:\", e_tr)\n",
    "print(\"Test error:\", e_te)"
   ]
  },
  {
   "cell_type": "markdown",
   "id": "8f487fa4",
   "metadata": {
    "deletable": false,
    "nbgrader": {
     "cell_type": "markdown",
     "checksum": "63825ae948ab016d3e3be1b480b0c325",
     "grade": false,
     "grade_id": "cell-472a8c23ef803ec9",
     "locked": true,
     "schema_version": 3,
     "solution": false,
     "task": false
    }
   },
   "source": [
    "**Exercice :** Complétez la table `error_rates` avec ce modèle."
   ]
  },
  {
   "cell_type": "code",
   "execution_count": null,
   "id": "867ec4d6",
   "metadata": {
    "deletable": false,
    "nbgrader": {
     "cell_type": "code",
     "checksum": "9f9fbca044d9d5ca0de79a289e657a64",
     "grade": false,
     "grade_id": "cell-7b189e436af168e3",
     "locked": false,
     "schema_version": 3,
     "solution": true,
     "task": false
    }
   },
   "outputs": [],
   "source": [
    "# YOUR CODE HERE\n",
    "raise NotImplementedError()\n",
    "print(error_rates)"
   ]
  },
  {
   "cell_type": "code",
   "execution_count": null,
   "id": "6f29ff3f",
   "metadata": {
    "deletable": false,
    "nbgrader": {
     "cell_type": "code",
     "checksum": "d9cc4e307aa25ea9db7429b85c63e193",
     "grade": true,
     "grade_id": "cell-14c847f98a88a373",
     "locked": true,
     "points": 0,
     "schema_version": 3,
     "solution": false,
     "task": false
    }
   },
   "outputs": [],
   "source": [
    "assert error_rates.shape[0] >= 5\n",
    "assert error_rates.shape[1] == 2"
   ]
  },
  {
   "cell_type": "code",
   "execution_count": null,
   "id": "0fd30f6a",
   "metadata": {
    "deletable": false,
    "nbgrader": {
     "cell_type": "code",
     "checksum": "9eac0c359d449ad1c0026e38854320af",
     "grade": false,
     "grade_id": "cell-587a9581023e668d",
     "locked": true,
     "schema_version": 3,
     "solution": false,
     "task": false
    }
   },
   "outputs": [],
   "source": [
    "# On charge les images\n",
    "dataset_dir = os.path.join(data.dir, 'ApplesAndBananasSimple')\n",
    "images = load_images(dataset_dir, \"*.png\")\n",
    "# This is what you get as decision boundary.\n",
    "# The training examples are shown as white circles and the test examples are blue squares.\n",
    "make_scatter_plot(X, images.apply(transparent_background_filter),\n",
    "                  [], test_index, \n",
    "                  predicted_labels='GroundTruth',\n",
    "                  feat = classifier.attribute, theta=classifier.theta, axis='square')"
   ]
  },
  {
   "cell_type": "markdown",
   "id": "0236fc8a",
   "metadata": {
    "deletable": false,
    "nbgrader": {
     "cell_type": "markdown",
     "checksum": "e9f6c1a409234b6d29ce5f38de89a7bf",
     "grade": false,
     "grade_id": "cell-1b8779ac28a26c59",
     "locked": true,
     "schema_version": 3,
     "solution": false,
     "task": false
    }
   },
   "source": [
    "Comparez avec ce que vous auriez obtenu en utilisant les 2 attributs avec le même poids lors de la décision de classe."
   ]
  },
  {
   "cell_type": "code",
   "execution_count": null,
   "id": "9aa69013",
   "metadata": {
    "deletable": false,
    "nbgrader": {
     "cell_type": "code",
     "checksum": "5f6db3de94731a2fbf4749d55449b82f",
     "grade": false,
     "grade_id": "cell-d0e8bd2a9132fea6",
     "locked": true,
     "schema_version": 3,
     "solution": false,
     "task": false
    }
   },
   "outputs": [],
   "source": [
    "make_scatter_plot(X, images.apply(transparent_background_filter),\n",
    "                  [], test_index, \n",
    "                  predicted_labels='GroundTruth',\n",
    "                  show_diag=True, axis='square')"
   ]
  },
  {
   "cell_type": "markdown",
   "id": "713a6963",
   "metadata": {
    "deletable": false,
    "nbgrader": {
     "cell_type": "markdown",
     "checksum": "8db48dc81f852cf17c594ed3396acf42",
     "grade": false,
     "grade_id": "cell-28e6ef8e4fa12a3c",
     "locked": true,
     "schema_version": 3,
     "solution": false,
     "task": false
    }
   },
   "source": [
    "### Conclusion"
   ]
  },
  {
   "cell_type": "markdown",
   "id": "15821b4e",
   "metadata": {
    "deletable": false,
    "nbgrader": {
     "cell_type": "markdown",
     "checksum": "251fa35c1a5f4e7d3c1c7d27b1c50648",
     "grade": true,
     "grade_id": "cell-1b50f7767c53d39b",
     "locked": false,
     "points": 2,
     "schema_version": 3,
     "solution": true,
     "task": false
    }
   },
   "source": [
    "**Exercice :** Comparez les taux d'erreur et d'entraînement de vos\n",
    "différents classificateurs pour le problème des pommes et des bananes.\n",
    "\n",
    "VOTRE RÉPONSE ICI"
   ]
  },
  {
   "cell_type": "markdown",
   "id": "e72f4f0f",
   "metadata": {
    "deletable": false,
    "nbgrader": {
     "cell_type": "markdown",
     "checksum": "623cd73082a3b65a692ad8b02da7e0ba",
     "grade": false,
     "grade_id": "cell-466bf7addb6e465a",
     "locked": true,
     "schema_version": 3,
     "solution": false,
     "task": false
    }
   },
   "source": [
    "Dans cette feuille vous avez découvert comment utiliser un certain\n",
    "nombre de classificateurs, voire comment implanter le vôtre, et\n",
    "comment jouer sur les paramètres de ces classificateurs (par exemple\n",
    "la tolérance du perceptron ou le nombre de voisins du KNN) pour\n",
    "essayer d'optimiser leur performance.\n",
    "\n",
    "Mettez à jour votre rapport et déposez votre travail."
   ]
  },
  {
   "cell_type": "markdown",
   "id": "904f793a",
   "metadata": {
    "deletable": false,
    "nbgrader": {
     "cell_type": "markdown",
     "checksum": "3e3d916a7c8ce54f4dc14284f4de3fc4",
     "grade": false,
     "grade_id": "cell-466bf7addb6e465b",
     "locked": true,
     "schema_version": 3,
     "solution": false,
     "task": false
    }
   },
   "source": [
    "Vous êtes maintenant prêts pour revenir à votre [analyse de\n",
    "données](4_analyse_de_donnees.md) pour mettre en œuvre ces\n",
    "classificateurs sur votre jeu de données.\n",
    "\n",
    "**Dans le projet 1, on vous demande de choisir un seul classificateur,\n",
    "ainsi que ses paramètres**.  Nous verrons dans la seconde partie de\n",
    "l'UE comment comparer systématiquement les classificateurs."
   ]
  }
 ],
 "metadata": {
  "jupytext": {
   "text_representation": {
    "extension": ".md",
    "format_name": "myst",
    "format_version": 0.13,
    "jupytext_version": "1.13.1"
   }
  },
  "kernelspec": {
   "display_name": "Python 3 (ipykernel)",
   "language": "python",
   "name": "python3"
  },
  "language_info": {
   "codemirror_mode": {
    "name": "ipython",
    "version": 3
   },
   "file_extension": ".py",
   "mimetype": "text/x-python",
   "name": "python",
   "nbconvert_exporter": "python",
   "pygments_lexer": "ipython3",
   "version": "3.9.7"
  }
 },
 "nbformat": 4,
 "nbformat_minor": 5
}
