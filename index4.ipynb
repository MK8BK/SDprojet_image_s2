{
 "cells": [
  {
   "cell_type": "markdown",
   "id": "efa1dc12",
   "metadata": {
    "deletable": false,
    "nbgrader": {
     "cell_type": "markdown",
     "checksum": "b0a4740255b8d8b7a6f692e2e0ff4f49",
     "grade": false,
     "grade_id": "cell-4911a792a82448d7",
     "locked": true,
     "schema_version": 3,
     "solution": false
    }
   },
   "source": [
    "# Semaine 4"
   ]
  },
  {
   "cell_type": "markdown",
   "id": "198e7495",
   "metadata": {
    "deletable": false,
    "nbgrader": {
     "cell_type": "markdown",
     "checksum": "786bab265d79ba4842e83768ab3087c6",
     "grade": false,
     "grade_id": "cell-4911a792a82448d8",
     "locked": true,
     "schema_version": 3,
     "solution": false
    }
   },
   "source": [
    "## Consignes\n",
    "\n",
    "Avant le lundi 21 février 22h00:\n",
    "- [x] Relire les [diapos du cours 4](CM4.md)\n",
    "- [x] Rendu d'étape du TP (voir ci-dessous)"
   ]
  },
  {
   "cell_type": "markdown",
   "id": "867ef742",
   "metadata": {},
   "source": [
    "## Cours\n",
    "\n",
    "- [X] [CM4: Construction et sélection d'attributs](CM4.md)"
   ]
  },
  {
   "cell_type": "markdown",
   "id": "ad13aa0b",
   "metadata": {
    "deletable": false,
    "nbgrader": {
     "cell_type": "markdown",
     "checksum": "7551814a42ecca38806aa36e67133d76",
     "grade": false,
     "grade_id": "cell-4911a792a82448d9",
     "locked": true,
     "schema_version": 3,
     "solution": false
    }
   },
   "source": [
    "## TP: VI-ME-RÉ-BAR sur vos propres données\n",
    "\n",
    "### Objectif\n",
    "\n",
    "La semaine dernière, vous vous êtes familiarisé avec le schéma\n",
    "VI-ME-RÉ-BAR -- [VI]sualisation, [ME]sure, [RÉ]férence (*baseline*),\n",
    "[BAR]res d'erreur -- en reproduisant une analyse de données\n",
    "préexistante dont l'objet était de classifier automatiquement des\n",
    "images de pommes et bananes. Maintenant, c'est à vous de jouer! Vous\n",
    "allez effectuer en binôme votre propre analyse de données.\n",
    "\n",
    "La semaine dernière, vous avez choisi l'un des [jeux de données\n",
    "fournis](../Semaine3/3_jeux_de_donnees.md) consistant chacun\n",
    "de vingt images réparties en deux classes: poules et canards,\n",
    "mélanomes cancéreux et bénins, émoticons tristes et gais, paumes et\n",
    "dos de la main, ou chiffres manuscrits zéro et un.\n",
    "\n",
    "Saurez-vous apprendre à l'ordinateur à distinguer automatiquement, par\n",
    "exemple, un mélanome cancéreux d'un mélanome bénin, uniquement à\n",
    "partir de sa photographie? Nous avons veillé à ce que votre défi ne\n",
    "soit ni trop simple, ni trop compliqué.\n",
    "\n",
    "Ce travail sera l'objet du premier projet qui va se\n",
    "dérouler sur les deux semaines qui viennent:\n",
    "\n",
    "Semaine 4: dépôt lundi 21 février 22h\n",
    "- Choix définitif du binôme (voir annonce sur e-Campus et [document partagé](https://codimd.math.cnrs.fr/3f98v4-YT4CN2ktM6_g5lw?both))\n",
    "- Traitement des images numériques pour en extraire des attributs\n",
    "  (*features*) simples.\n",
    "- Utilisation d'un premier classificateur donné par vos enseignantes et\n",
    "  enseignants, afin d'obtenir une performance de [RÉ]férence\n",
    "  (*baseline*) pour ce jeu de données.\n",
    "- Évaluation de la performance.\n",
    "\n",
    "Semaine 5: dépôt mardi 1er mars 22h\n",
    "- Implémentation d'un classificateur.\n",
    "- Évaluation de la performance.\n",
    "\n",
    "Vous déposerez chaque semaine votre travail dans son état\n",
    "d'avancement. Votre version définitive sera évaluée par vos\n",
    "enseignants (20% de la note finale)."
   ]
  },
  {
   "cell_type": "markdown",
   "id": "a9abf050",
   "metadata": {
    "deletable": false,
    "nbgrader": {
     "cell_type": "markdown",
     "checksum": "a38848b52282fec1810b68789dd30709",
     "grade": false,
     "grade_id": "cell-4911a792a82448dA",
     "locked": true,
     "schema_version": 3,
     "solution": false
    }
   },
   "source": [
    "### Consignes\n",
    "\n",
    "Vous documenterez au fur et à mesure votre analyse de données dans le\n",
    "document exécutable [analyse de données](4_analyse_de_donnees.md), en\n",
    "suivant la trame fournie. Gardez notamment une trace des\n",
    "expérimentations intermédiaires («nous avons essayé telle combinaison\n",
    "d'attributs; voici les résultats et la performance obtenue»). Ce\n",
    "document devra rester à tout moment synthétique, suivant notamment les\n",
    "[bonnes pratiques](../Semaine3/1_bonnes_pratiques.md) vues la semaine\n",
    "dernière:\n",
    "- Vous mettrez dans le fichier `utilities.py` les utilitaires du TP3\n",
    "  (`load_images`, ...)  que vous souhaiterez réutiliser, ainsi que vos\n",
    "  nouvelles fonctions.\n",
    "- Complétez régulièrement le rapport ci-dessous, notamment pour qu'il\n",
    "  affiche le code de toutes les fonctions que vous avez\n",
    "  implantées. Vérifiez à chaque fois le résultat des outils de\n",
    "  vérifications (`flake8`, ...).\n",
    "- Lorsque vous aurez besoin de brouillon -- par exemple pour mettre au\n",
    "  point du code -- créez des petites feuilles Jupyter séparées pour ne\n",
    "  pas polluer votre document.\n",
    "\n",
    "La qualité de la rédaction sera l'un des critères d'évaluation du\n",
    "mini-projet."
   ]
  },
  {
   "cell_type": "markdown",
   "id": "930b1342",
   "metadata": {
    "nbgrader": {
     "grade": false,
     "grade_id": "cell-4911a792a82448dB",
     "locked": false,
     "schema_version": 3,
     "solution": false
    }
   },
   "source": [
    "### Au travail!\n",
    "\n",
    "- [X] Vérifiez votre inscription avec votre binôme pour le projet 1\n",
    "     dans le [document\n",
    "     partagé](https://codimd.math.cnrs.fr/3f98v4-YT4CN2ktM6_g5lw?both).\n",
    "     Inscrivez-vous aussi si vous n'avez pas encore de binôme!\n",
    "- [X] Téléchargez le sujet de TP `Semaine4` (rappel des\n",
    "     [instructions](http://nicolas.thiery.name/Enseignement/IntroScienceDonnees/Devoirs/Semaine1/index.html#telechargement-et-depot-des-tps))\n",
    "- [X] Ouvrez la feuille [index](index.md) pour retrouver ces consignes.\n",
    "- [X] Consultez la section « Rapport » en fin de feuille.\n",
    "- [X] Faites un rappel sur la [manipulation des tableaux](1_tableaux.md).\n",
    "- [X] Apprenez à traiter des [images](2_images.md)  ...\n",
    "- [X] et à [extraire des attributs](3_extraction_d_attributs.md) de\n",
    "     votre jeu de données\n",
    "- [X] Effectuez votre [analyse de donnees](4_analyse_de_donnees.md),\n",
    "     en suivant les instructions fournies."
   ]
  },
  {
   "cell_type": "markdown",
   "id": "fdf1ef61",
   "metadata": {
    "deletable": false,
    "nbgrader": {
     "cell_type": "markdown",
     "checksum": "3177d01c29a687657f68d8ca1773f841",
     "grade": false,
     "grade_id": "cell-4911a792a82448dE",
     "locked": true,
     "schema_version": 3,
     "solution": false
    }
   },
   "source": [
    "### Brouillon de rapport\n",
    "\n",
    "Cette feuille joue aussi le rôle de brouillon de mini-rapport qui vous\n",
    "permettra à vous et votre enseignant d'évaluer rapidement votre\n",
    "avancement sur cette première partie du projet. Cela vous donnera une\n",
    "base pour le mini-rapport de projet la semaine prochaine.\n",
    "\n",
    "Au fur et à mesure du TP, vous cocherez ci-dessus les actions que vous\n",
    "aurez effectuées; pour cela, double-cliquez sur la cellule pour\n",
    "l'éditer, et remplacez `- [ ]` par `- [x]`. Vous prendrez aussi des\n",
    "notes ci-dessous. Enfin, vous consulterez la section « Revue de code »\n",
    "ci-dessous pour vérifier la qualité de votre code."
   ]
  },
  {
   "cell_type": "markdown",
   "id": "30c15c08",
   "metadata": {
    "deletable": false,
    "nbgrader": {
     "cell_type": "markdown",
     "checksum": "6563f058f4e26554f094663c22bb3f3c",
     "grade": true,
     "grade_id": "cell-4911a792a82448dF",
     "locked": false,
     "points": 0,
     "schema_version": 3,
     "solution": true,
     "task": false
    }
   },
   "source": [
    "Lien vers le rapport: https://github.com/MK8BK/SDprojet_image_s2"
   ]
  },
  {
   "cell_type": "markdown",
   "id": "11ba2394",
   "metadata": {
    "deletable": false,
    "nbgrader": {
     "cell_type": "markdown",
     "checksum": "db64aca779ecc9f6030d7442c300f254",
     "grade": false,
     "grade_id": "cell-4911a792a82448dG",
     "locked": true,
     "schema_version": 3,
     "solution": false,
     "task": false
    }
   },
   "source": [
    "#### Revue du code\n",
    "\n",
    "##### Affichage du code des principales fonctions"
   ]
  },
  {
   "cell_type": "code",
   "execution_count": null,
   "id": "be963aa5",
   "metadata": {
    "deletable": false,
    "nbgrader": {
     "cell_type": "code",
     "checksum": "6744175f54caf5f72be76a7ffb88cc9d",
     "grade": false,
     "grade_id": "cell-006fb180e6a86e73",
     "locked": true,
     "schema_version": 3,
     "solution": false,
     "task": false
    }
   },
   "outputs": [],
   "source": [
    "from utilities import *\n",
    "# Feuille 2_images.md\n",
    "show_source(show_color_channels)"
   ]
  },
  {
   "cell_type": "markdown",
   "id": "af947367",
   "metadata": {
    "deletable": false,
    "nbgrader": {
     "cell_type": "markdown",
     "checksum": "abdfb5a24c36ae9a2cd982e3bcd4dba8",
     "grade": false,
     "grade_id": "cell-d21a1d7d40d56302",
     "locked": true,
     "schema_version": 3,
     "solution": false,
     "task": false
    }
   },
   "source": [
    "##### Conventions de codage\n",
    "\n",
    "L'outil `flake8` permet de vérifier que votre code respecte les\n",
    "conventions de codage usuelles de Python, telles que définies\n",
    "notamment par le document [PEP\n",
    "8](https://www.python.org/dev/peps/pep-0008/). Si la cellule suivante\n",
    "affiche des avertissements, suivez les indications données pour\n",
    "peaufiner votre code."
   ]
  },
  {
   "cell_type": "code",
   "execution_count": null,
   "id": "733d9511",
   "metadata": {
    "deletable": false,
    "nbgrader": {
     "cell_type": "code",
     "checksum": "698d7f2038bc259e761d6835254b4b13",
     "grade": true,
     "grade_id": "cell-ce5cf24a9e83ff0e",
     "locked": true,
     "points": 2,
     "schema_version": 3,
     "solution": false,
     "task": false
    }
   },
   "outputs": [],
   "source": [
    "assert run_without_error(\"flake8 utilities.py\")"
   ]
  }
 ],
 "metadata": {
  "jupytext": {
   "text_representation": {
    "extension": ".md",
    "format_name": "myst",
    "format_version": 0.13,
    "jupytext_version": "1.11.5"
   }
  },
  "kernelspec": {
   "display_name": "Python 3 (ipykernel)",
   "language": "python",
   "name": "python3"
  },
  "language_info": {
   "codemirror_mode": {
    "name": "ipython",
    "version": 3
   },
   "file_extension": ".py",
   "mimetype": "text/x-python",
   "name": "python",
   "nbconvert_exporter": "python",
   "pygments_lexer": "ipython3",
   "version": "3.9.7"
  }
 },
 "nbformat": 4,
 "nbformat_minor": 5
}
