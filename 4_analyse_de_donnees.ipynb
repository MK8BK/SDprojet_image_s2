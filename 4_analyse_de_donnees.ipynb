{
 "cells": [
  {
   "cell_type": "markdown",
   "id": "536483e7",
   "metadata": {
    "nbgrader": {
     "cell_type": "markdown",
     "checksum": "e877a7f5aa56b85ddc209ecbb2d54445",
     "grade": false,
     "grade_id": "cell-3876f910a24fe8a7",
     "locked": false,
     "schema_version": 3,
     "solution": false
    }
   },
   "source": [
    "# VI-ME-RÉ-BAR sur vos propres données!"
   ]
  },
  {
   "cell_type": "markdown",
   "id": "cee93ca6",
   "metadata": {
    "nbgrader": {
     "cell_type": "markdown",
     "checksum": "22fb72602440facdad988182f9c6695d",
     "grade": true,
     "grade_id": "cell-3b25fe1716dd8293",
     "locked": false,
     "points": 3,
     "schema_version": 3,
     "solution": true,
     "task": false
    }
   },
   "source": [
    "**Instructions**:\n",
    "\n",
    "- Vous effacerez les instructions au fur et à mesure que vous les\n",
    "  aurez suivies. Commencez par effacer celle-ci!\n",
    "- Mettez ici une description de votre jeu de données: lequel avez vous\n",
    "  choisi, quel est le défi? Intuitivement quels critères pourraient\n",
    "  permettre de distinguer les deux classes d'images?\n",
    "  "
   ]
  },
  {
   "cell_type": "markdown",
   "id": "83580251",
   "metadata": {},
   "source": [
    "0 et 1"
   ]
  },
  {
   "cell_type": "code",
   "execution_count": null,
   "id": "2dd5d5e7",
   "metadata": {},
   "outputs": [],
   "source": []
  },
  {
   "cell_type": "code",
   "execution_count": 1,
   "id": "cde720b4",
   "metadata": {},
   "outputs": [
    {
     "name": "stdout",
     "output_type": "stream",
     "text": [
      "Requirement already satisfied: pillow in c:\\users\\user\\appdata\\roaming\\python\\python39\\site-packages (8.3.2)\n",
      "Requirement already satisfied: pandas in c:\\users\\user\\appdata\\local\\programs\\python\\python39\\lib\\site-packages (1.4.0)\n",
      "Requirement already satisfied: numpy in c:\\users\\user\\appdata\\roaming\\python\\python39\\site-packages (1.21.2)\n",
      "Requirement already satisfied: sklearn in c:\\users\\user\\appdata\\local\\programs\\python\\python39\\lib\\site-packages (0.0)\n",
      "Requirement already satisfied: matplotlib in c:\\users\\user\\appdata\\roaming\\python\\python39\\site-packages (3.4.3)\n",
      "Requirement already satisfied: seaborn in c:\\users\\user\\appdata\\local\\programs\\python\\python39\\lib\\site-packages (0.11.2)\n"
     ]
    },
    {
     "name": "stderr",
     "output_type": "stream",
     "text": [
      "WARNING: You are using pip version 21.3.1; however, version 22.0.3 is available.\n",
      "You should consider upgrading via the 'C:\\Users\\User\\AppData\\Local\\Programs\\Python\\Python39\\python.exe -m pip install --upgrade pip' command.\n"
     ]
    },
    {
     "name": "stdout",
     "output_type": "stream",
     "text": [
      "Requirement already satisfied: python-dateutil>=2.8.1 in c:\\users\\user\\appdata\\roaming\\python\\python39\\site-packages (from pandas) (2.8.2)\n",
      "Requirement already satisfied: pytz>=2020.1 in c:\\users\\user\\appdata\\local\\programs\\python\\python39\\lib\\site-packages (from pandas) (2021.3)\n",
      "Requirement already satisfied: scikit-learn in c:\\users\\user\\appdata\\local\\programs\\python\\python39\\lib\\site-packages (from sklearn) (1.0.2)\n",
      "Requirement already satisfied: cycler>=0.10 in c:\\users\\user\\appdata\\roaming\\python\\python39\\site-packages (from matplotlib) (0.10.0)\n",
      "Requirement already satisfied: pyparsing>=2.2.1 in c:\\users\\user\\appdata\\roaming\\python\\python39\\site-packages (from matplotlib) (2.4.7)\n",
      "Requirement already satisfied: kiwisolver>=1.0.1 in c:\\users\\user\\appdata\\roaming\\python\\python39\\site-packages (from matplotlib) (1.3.2)\n",
      "Requirement already satisfied: scipy>=1.0 in c:\\users\\user\\appdata\\local\\programs\\python\\python39\\lib\\site-packages (from seaborn) (1.8.0)\n",
      "Requirement already satisfied: six in c:\\users\\user\\appdata\\roaming\\python\\python39\\site-packages (from cycler>=0.10->matplotlib) (1.16.0)\n",
      "Requirement already satisfied: joblib>=0.11 in c:\\users\\user\\appdata\\local\\programs\\python\\python39\\lib\\site-packages (from scikit-learn->sklearn) (1.1.0)\n",
      "Requirement already satisfied: threadpoolctl>=2.0.0 in c:\\users\\user\\appdata\\local\\programs\\python\\python39\\lib\\site-packages (from scikit-learn->sklearn) (3.1.0)\n"
     ]
    }
   ],
   "source": [
    "!pip install pillow pandas numpy sklearn matplotlib seaborn"
   ]
  },
  {
   "cell_type": "code",
   "execution_count": 2,
   "id": "af02d70a",
   "metadata": {
    "nbgrader": {
     "cell_type": "code",
     "checksum": "6b6e1663d39b90bc4820816527aa31d0",
     "grade": false,
     "grade_id": "cell-638b8591a86d2f35",
     "locked": false,
     "schema_version": 3,
     "solution": false,
     "task": false
    }
   },
   "outputs": [],
   "source": [
    "%load_ext autoreload\n",
    "%autoreload 2\n",
    "\n",
    "from utilities import *"
   ]
  },
  {
   "cell_type": "code",
   "execution_count": 3,
   "id": "525c93fe",
   "metadata": {
    "nbgrader": {
     "cell_type": "code",
     "checksum": "30662a4cdfa31ad7e09d600c6fd89de6",
     "grade": false,
     "grade_id": "cell-f463237384c14d8c",
     "locked": false,
     "schema_version": 3,
     "solution": false,
     "task": false
    }
   },
   "outputs": [
    {
     "name": "stdout",
     "output_type": "stream",
     "text": [
      "The autoreload extension is already loaded. To reload it, use:\n",
      "  %reload_ext autoreload\n"
     ]
    }
   ],
   "source": [
    "# Load general libraries\n",
    "import os, re\n",
    "from glob import glob as ls\n",
    "import numpy as np                    # Matrix algebra library\n",
    "import pandas as pd                   # Data table (DataFrame) library\n",
    "import seaborn as sns; sns.set()      # Graphs and visualization library\n",
    "from PIL import Image                 # Image processing library\n",
    "import matplotlib.pyplot as plt       # Library to make graphs \n",
    "# Command to insert the graphs in line in the notebook:\n",
    "%matplotlib inline\n",
    "\n",
    "# Reload code when changes are made\n",
    "%load_ext autoreload\n",
    "%autoreload 2\n",
    "\n",
    "# Import utilities\n",
    "from utilities import *"
   ]
  },
  {
   "cell_type": "markdown",
   "id": "1859f8f8",
   "metadata": {
    "nbgrader": {
     "cell_type": "markdown",
     "checksum": "b5bcf7ce90464828259054e0f8d258ce",
     "grade": false,
     "grade_id": "cell-1e377d9f288ab8e0",
     "locked": false,
     "schema_version": 3,
     "solution": false,
     "task": false
    }
   },
   "source": [
    "## Étape 1: prétraitement et [VI]sualisation"
   ]
  },
  {
   "cell_type": "markdown",
   "id": "89b16e27",
   "metadata": {},
   "source": [
    "Le jeu de données consiste en les images suivantes:\n",
    "\n",
    "**Instruction :** Chargez votre jeu de données comme dans la feuille\n",
    "`3_jeux_de_donnees.md` de la semaine dernière, en stockant les\n",
    "images dans la variables `images` et en les affichant."
   ]
  },
  {
   "cell_type": "code",
   "execution_count": 4,
   "id": "29a052da",
   "metadata": {
    "nbgrader": {
     "cell_type": "code",
     "checksum": "cd37d1d6f3c86eb99de8def1f4bb7ce3",
     "grade": false,
     "grade_id": "cell-596455595966feb5",
     "locked": false,
     "schema_version": 3,
     "solution": true,
     "task": false
    }
   },
   "outputs": [
    {
     "data": {
      "image/png": "[encoded data removed]",
      "text/plain": [
       "<Figure size 720x576 with 20 Axes>"
      ]
     },
     "execution_count": 4,
     "metadata": {},
     "output_type": "execute_result"
    }
   ],
   "source": [
    "# YOUR CODE HERE\n",
    "images = load_images(\"./data/original/\", \"*.png\")\n",
    "image_grid(images, titles=images.index)"
   ]
  },
  {
   "cell_type": "code",
   "execution_count": 5,
   "id": "9c3d82ba",
   "metadata": {
    "nbgrader": {
     "cell_type": "code",
     "checksum": "a2d30e6e80157634ba3fbd15f8eab118",
     "grade": true,
     "grade_id": "cell-d3b1c03f1fbc66c4",
     "locked": false,
     "points": 1,
     "schema_version": 3,
     "solution": false,
     "task": false
    }
   },
   "outputs": [],
   "source": [
    "assert isinstance(images, pd.Series)\n",
    "assert len(images) == 20"
   ]
  },
  {
   "cell_type": "markdown",
   "id": "1a2a666d",
   "metadata": {
    "nbgrader": {
     "cell_type": "markdown",
     "checksum": "b750e129defcac1b2774f8d55bd0bfa3",
     "grade": false,
     "grade_id": "cell-1ad9ea64fc9cfd94",
     "locked": false,
     "schema_version": 3,
     "solution": false,
     "task": false
    }
   },
   "source": [
    "### Prétraitement"
   ]
  },
  {
   "cell_type": "markdown",
   "id": "8bb70dbf",
   "metadata": {
    "nbgrader": {
     "cell_type": "markdown",
     "checksum": "b3cc5b3152415f80c66057a4ac36796d",
     "grade": false,
     "grade_id": "cell-c5eeea84f126a6a9",
     "locked": false,
     "schema_version": 3,
     "solution": false,
     "task": false
    }
   },
   "source": [
    "Les données sont très souvent prétraitées c'est-à-dire **résumées\n",
    "selon différentes caractéristiques** : chaque élément du jeu de\n",
    "données est décrit par un ensemble [**d'attributs**](https://en.wikipedia.org/wiki/Feature_(machine_learning))\n",
    "-- propriétés ou caractéristiques mesurables de cet élément ; pour un\n",
    "animal, cela peut être sa taille, sa température corporelle, etc.\n",
    "\n",
    "C'est également le cas dans notre jeu de données : une image est\n",
    "décrite par le couleur de chacun de ses pixels. Cependant les pixels\n",
    "sont trop nombreux pour nos besoins. Nous voulons comme la semaine\n",
    "dernière les remplacer par quelques attributs mesurant quelques\n",
    "propriétés essentielles de l'image, comme sa couleur ou sa forme\n",
    "moyenne: ce sont les données prétraitées.\n",
    "\n",
    "La semaine dernière, les données prétraitées vous ont été fournies\n",
    "pour les pommes et les bananes.\n",
    "Cette semaine, grâce aux trois feuilles précédentes, vous avez les\n",
    "outils et connaissances nécessaires pour effectuer le prétraitement \n",
    "directement vous-même:\n",
    "\n",
    "- la feuille de rappel sur la [gestion de tableaux](1_tableaux.md); \n",
    "- la feuille sur le [traitement des images](2_images.md);\n",
    "- la feuille sur l'[extraction d'attributs](3_extraction_d_attributs.md).\n",
    "\n",
    "Pour commencer, la table prétraitée contient les attributs `redness`\n",
    "et `elongation` -- tels que vous les avez défini dans la feuille\n",
    "[extraction d'attributs](3_extraction_d_attributs.md) -- appliqués à\n",
    "votre jeu de données\":"
   ]
  },
  {
   "cell_type": "markdown",
   "id": "62eaebb4",
   "metadata": {},
   "source": [
    " utiliser `foreground_filter()` dans le cas ou les images sont bruyantes ou non monochromes"
   ]
  },
  {
   "cell_type": "code",
   "execution_count": 5,
   "id": "3169fdf2",
   "metadata": {
    "code_folding": [],
    "nbgrader": {
     "cell_type": "code",
     "checksum": "5a09476d767f2b3b5cbf39f920ceb6ee",
     "grade": false,
     "grade_id": "cell-4b826c34cfe02997",
     "locked": false,
     "schema_version": 3,
     "solution": true,
     "task": false
    }
   },
   "outputs": [],
   "source": [
    "# YOUR CODE HERE\n",
    "#sample_images = load_images(\"blablabla\", \"*.png\")\n",
    "#thresh_images = [foreground_filter(img) for img in images]\n",
    "#image_grid(thresh_images, titles=images.index)"
   ]
  },
  {
   "cell_type": "markdown",
   "id": "3c65f3be",
   "metadata": {
    "nbgrader": {
     "cell_type": "markdown",
     "checksum": "cf0e189af62197b241030a88f713c749",
     "grade": false,
     "grade_id": "cell-3ea685b93ca235c7",
     "locked": false,
     "points": 5,
     "schema_version": 3,
     "solution": false,
     "task": true
    }
   },
   "source": [
    "**Exercice :**\n",
    "1. Implémentez dans `utilities.py` de nouveaux attributs adaptés à votre jeu de données. Si vous en avez besoin, vous pouvez utiliser les cellules ci-dessous voire en créer de nouvelles; sinon simplement videz les.\n",
    "\n",
    "  **Indications**: vous pouvez par exemple vous inspirer\n",
    "  - des attributes existants comme `redness`;\n",
    "  - des exemples donnés dans le cours: *matched filter*, analyse en composantes principales (PCA)."
   ]
  },
  {
   "cell_type": "markdown",
   "id": "2742e291",
   "metadata": {},
   "source": [
    "`elongation()` est deja un premier critere pour separer les 0 et les 1."
   ]
  },
  {
   "cell_type": "code",
   "execution_count": 256,
   "id": "80bc7f86",
   "metadata": {
    "nbgrader": {
     "cell_type": "code",
     "checksum": "02bd6fd2b1c87e8f09796135a2f45237",
     "grade": false,
     "grade_id": "cell-90320016ffc3a6b3",
     "locked": false,
     "schema_version": 3,
     "solution": true,
     "task": false
    }
   },
   "outputs": [
    {
     "data": {
      "image/png": "[encoded data removed]",
      "text/plain": [
       "<Figure size 720x576 with 20 Axes>"
      ]
     },
     "execution_count": 256,
     "metadata": {},
     "output_type": "execute_result"
    }
   ],
   "source": [
    "# YOUR CODE HERE\n",
    "image_grid(images, \n",
    "           titles=[\"Elongation: {0:.2f}\".format(elongation(img)) for img in images])"
   ]
  },
  {
   "cell_type": "markdown",
   "id": "955a7eaf",
   "metadata": {},
   "source": [
    "On implemente `boucle()` qui renvoie `True` si l'image en question (supposee noir sur blanc), contient une boucle.\n",
    "C'est un algorithme recurssif, qui partant d'un pixel blanc, cherche un chemin vers une extremite, le tout en renvoyant des valeurs booleennes."
   ]
  },
  {
   "cell_type": "code",
   "execution_count": 50,
   "id": "8c53d03c",
   "metadata": {},
   "outputs": [],
   "source": [
    "def entouree(img, coordonnees, done=[]):\n",
    "        #coordonnees supposees non extremes, non noires\n",
    "        nimg = np.array(img)\n",
    "        x = coordonnees[0]\n",
    "        y = coordonnees[1]\n",
    "        xs = nimg.shape[0]\n",
    "        ys = nimg.shape[1]\n",
    "        if coordonnees in done:\n",
    "            return True\n",
    "        if (x==xs-1 or x==0 or y==ys-1 or y==0) and (list(nimg[x][y]) == [255, 255, 255, 255]):\n",
    "            return False\n",
    "        if list(nimg[x][y]) != [255, 255, 255, 255]:\n",
    "            return True\n",
    "        else:\n",
    "            done.append(coordonnees)\n",
    "            c1 = (x, y+1)\n",
    "            c2 = (x, y-1)\n",
    "            c3 = (x+1, y)\n",
    "            c4 = (x-1, y)\n",
    "            return (True and  entouree(img, c1, done) and entouree(img,c2, done) and entouree(img,c3, done) and entouree(img,c4, done))"
   ]
  },
  {
   "cell_type": "code",
   "execution_count": 257,
   "id": "c7b1c5b3",
   "metadata": {},
   "outputs": [
    {
     "data": {
      "image/png": "[encoded data removed]",
      "text/plain": [
       "<Figure size 720x576 with 20 Axes>"
      ]
     },
     "execution_count": 257,
     "metadata": {},
     "output_type": "execute_result"
    }
   ],
   "source": [
    "image_grid(images, \n",
    "           titles=[\"Boucle(s):{0:.0f}\".format(entouree(images[i], (7,7), [])) for i in range(len(images))])"
   ]
  },
  {
   "cell_type": "code",
   "execution_count": 253,
   "id": "7f130185",
   "metadata": {},
   "outputs": [],
   "source": [
    "def boucle(img):\n",
    "    instances = []\n",
    "    nimg = np.array(img)\n",
    "    z = False\n",
    "    for line in range(len(nimg)):\n",
    "        for column in range(line):\n",
    "            if list(nimg[line][column]) == [255,255,255,255]:\n",
    "                instance_done = []\n",
    "                zero = entouree(img, (line,column), instance_done)\n",
    "                if zero:\n",
    "                    z = True\n",
    "                    instances+=instance_done\n",
    "    return (z, instances)"
   ]
  },
  {
   "cell_type": "markdown",
   "id": "e234b820",
   "metadata": {},
   "source": [
    "Petite visualisation du traitement effectuee par l'algorithme recurssif"
   ]
  },
  {
   "cell_type": "code",
   "execution_count": 254,
   "id": "bd26a995",
   "metadata": {},
   "outputs": [],
   "source": [
    "nimages = []\n",
    "for i in range(len(images)):\n",
    "    test_img = images[i].copy()\n",
    "    b, colored = boucle(test_img)\n",
    "    w, h = test_img.size\n",
    "    for px in range(w):\n",
    "        for py in range(h):\n",
    "            if (px,py) in colored and test_img.getpixel((px,py))==(255,255,255,255):\n",
    "                test_img.putpixel((px,py), (255,0,0,255))\n",
    "    nimages.append(test_img)"
   ]
  },
  {
   "cell_type": "code",
   "execution_count": 255,
   "id": "0492da61",
   "metadata": {},
   "outputs": [
    {
     "data": {
      "image/png": "[encoded data removed]",
      "text/plain": [
       "<Figure size 720x576 with 20 Axes>"
      ]
     },
     "execution_count": 255,
     "metadata": {},
     "output_type": "execute_result"
    }
   ],
   "source": [
    "image_grid(nimages, titles=images.index)"
   ]
  },
  {
   "cell_type": "markdown",
   "id": "f03c0cc5",
   "metadata": {},
   "source": [
    "On implemente `nb_bandes_zero()` qui renvoie un score proportionel au nombre de lignes contenant deux bandes dans une image. "
   ]
  },
  {
   "cell_type": "code",
   "execution_count": 208,
   "id": "2da083ff",
   "metadata": {},
   "outputs": [],
   "source": [
    "def nb_bandes_zero(img):\n",
    "    nimg = np.array(img)\n",
    "    xs = nimg.shape[0]\n",
    "    ys = nimg.shape[1]\n",
    "    answers=[]\n",
    "    for i in range(xs):\n",
    "        lst = nimg[i]\n",
    "        lst = [0 if list(lst[j])==[255,255,255,255] else 1 for j in range(len(lst))]\n",
    "        positions = [k for k, v in enumerate(lst) if v==1]\n",
    "        #print(positions)\n",
    "        diffpos = [positions[index+1]-v for index, v in enumerate(positions[:-1])]\n",
    "        #print(diffpos)\n",
    "        diffpos = [False if v-1>0 else True for v in diffpos]\n",
    "        #print(diffpos)\n",
    "        if False in diffpos:\n",
    "            #\n",
    "            answers.append(0)\n",
    "            continue\n",
    "        else:\n",
    "            answers.append(1)\n",
    "            continue\n",
    "    return answers.count(0)/len(answers)"
   ]
  },
  {
   "cell_type": "code",
   "execution_count": 258,
   "id": "0b6db58a",
   "metadata": {
    "scrolled": false
   },
   "outputs": [
    {
     "data": {
      "image/png": "[encoded data removed]",
      "text/plain": [
       "<Figure size 720x576 with 20 Axes>"
      ]
     },
     "execution_count": 258,
     "metadata": {},
     "output_type": "execute_result"
    }
   ],
   "source": [
    "image_grid(images, \n",
    "           titles=[\">1 bande:{0:.2f}\".format(nb_bandes_zero(images[i])) for i in range(len(images))])"
   ]
  },
  {
   "cell_type": "markdown",
   "id": "91bd70f0",
   "metadata": {
    "nbgrader": {
     "cell_type": "markdown",
     "checksum": "b7af4354b32a9e95a7a2c1182881127d",
     "grade": true,
     "grade_id": "cell-4a701722d7649d16",
     "locked": false,
     "points": 0,
     "schema_version": 3,
     "solution": true,
     "task": false
    }
   },
   "source": [
    "2. Comment les avez-vous choisis?\n",
    "\n",
    "    Les zeros et les 1 ont pour difference principale la presence ou pas de boucle.\n",
    "    \n",
    "    Le nombre de bandes verticales est aussi un facteur indicateur de 1 ou de zero\n",
    "    "
   ]
  },
  {
   "cell_type": "markdown",
   "id": "807135ce",
   "metadata": {
    "nbgrader": {
     "cell_type": "markdown",
     "checksum": "aec697c54b9078ed166f363166e41e8f",
     "grade": false,
     "grade_id": "cell-d144e561c7a8d7d9",
     "locked": false,
     "schema_version": 3,
     "solution": false,
     "task": false
    }
   },
   "source": [
    "3. Ajoutez une colonne par attribut dans la table `df`, en conservant les précédents"
   ]
  },
  {
   "cell_type": "code",
   "execution_count": 259,
   "id": "596cf1db",
   "metadata": {
    "nbgrader": {
     "cell_type": "code",
     "checksum": "1e6992a0256e6dd1f58f4b9b5da7bb43",
     "grade": false,
     "grade_id": "cell-d933a673c19c7e6d",
     "locked": false,
     "schema_version": 3,
     "solution": true,
     "task": false
    }
   },
   "outputs": [
    {
     "data": {
      "text/html": [
       "<div>\n",
       "<style scoped>\n",
       "    .dataframe tbody tr th:only-of-type {\n",
       "        vertical-align: middle;\n",
       "    }\n",
       "\n",
       "    .dataframe tbody tr th {\n",
       "        vertical-align: top;\n",
       "    }\n",
       "\n",
       "    .dataframe thead th {\n",
       "        text-align: right;\n",
       "    }\n",
       "</style>\n",
       "<table border=\"1\" class=\"dataframe\">\n",
       "  <thead>\n",
       "    <tr style=\"text-align: right;\">\n",
       "      <th></th>\n",
       "      <th>class</th>\n",
       "      <th>redness</th>\n",
       "      <th>elongation</th>\n",
       "      <th>Boucle</th>\n",
       "      <th>Bandes verticales</th>\n",
       "    </tr>\n",
       "  </thead>\n",
       "  <tbody>\n",
       "    <tr>\n",
       "      <th>0</th>\n",
       "      <td>1</td>\n",
       "      <td>0.0</td>\n",
       "      <td>1.077167</td>\n",
       "      <td>1.0</td>\n",
       "      <td>0.8125</td>\n",
       "    </tr>\n",
       "    <tr>\n",
       "      <th>1</th>\n",
       "      <td>1</td>\n",
       "      <td>0.0</td>\n",
       "      <td>1.043389</td>\n",
       "      <td>1.0</td>\n",
       "      <td>0.9375</td>\n",
       "    </tr>\n",
       "    <tr>\n",
       "      <th>2</th>\n",
       "      <td>1</td>\n",
       "      <td>0.0</td>\n",
       "      <td>1.104132</td>\n",
       "      <td>1.0</td>\n",
       "      <td>0.8125</td>\n",
       "    </tr>\n",
       "    <tr>\n",
       "      <th>3</th>\n",
       "      <td>1</td>\n",
       "      <td>0.0</td>\n",
       "      <td>1.081712</td>\n",
       "      <td>1.0</td>\n",
       "      <td>0.8750</td>\n",
       "    </tr>\n",
       "    <tr>\n",
       "      <th>4</th>\n",
       "      <td>1</td>\n",
       "      <td>0.0</td>\n",
       "      <td>1.147618</td>\n",
       "      <td>1.0</td>\n",
       "      <td>0.8125</td>\n",
       "    </tr>\n",
       "    <tr>\n",
       "      <th>5</th>\n",
       "      <td>1</td>\n",
       "      <td>0.0</td>\n",
       "      <td>1.106545</td>\n",
       "      <td>1.0</td>\n",
       "      <td>0.7500</td>\n",
       "    </tr>\n",
       "    <tr>\n",
       "      <th>6</th>\n",
       "      <td>1</td>\n",
       "      <td>0.0</td>\n",
       "      <td>1.375925</td>\n",
       "      <td>1.0</td>\n",
       "      <td>0.8750</td>\n",
       "    </tr>\n",
       "    <tr>\n",
       "      <th>7</th>\n",
       "      <td>1</td>\n",
       "      <td>0.0</td>\n",
       "      <td>1.037704</td>\n",
       "      <td>1.0</td>\n",
       "      <td>0.8125</td>\n",
       "    </tr>\n",
       "    <tr>\n",
       "      <th>8</th>\n",
       "      <td>1</td>\n",
       "      <td>0.0</td>\n",
       "      <td>1.219250</td>\n",
       "      <td>1.0</td>\n",
       "      <td>0.8125</td>\n",
       "    </tr>\n",
       "    <tr>\n",
       "      <th>9</th>\n",
       "      <td>1</td>\n",
       "      <td>0.0</td>\n",
       "      <td>1.320711</td>\n",
       "      <td>1.0</td>\n",
       "      <td>0.8125</td>\n",
       "    </tr>\n",
       "    <tr>\n",
       "      <th>10</th>\n",
       "      <td>-1</td>\n",
       "      <td>0.0</td>\n",
       "      <td>5.419890</td>\n",
       "      <td>0.0</td>\n",
       "      <td>0.0000</td>\n",
       "    </tr>\n",
       "    <tr>\n",
       "      <th>11</th>\n",
       "      <td>-1</td>\n",
       "      <td>0.0</td>\n",
       "      <td>6.785871</td>\n",
       "      <td>0.0</td>\n",
       "      <td>0.0000</td>\n",
       "    </tr>\n",
       "    <tr>\n",
       "      <th>12</th>\n",
       "      <td>-1</td>\n",
       "      <td>0.0</td>\n",
       "      <td>5.154668</td>\n",
       "      <td>0.0</td>\n",
       "      <td>0.0000</td>\n",
       "    </tr>\n",
       "    <tr>\n",
       "      <th>13</th>\n",
       "      <td>-1</td>\n",
       "      <td>0.0</td>\n",
       "      <td>7.113452</td>\n",
       "      <td>0.0</td>\n",
       "      <td>0.0000</td>\n",
       "    </tr>\n",
       "    <tr>\n",
       "      <th>14</th>\n",
       "      <td>-1</td>\n",
       "      <td>0.0</td>\n",
       "      <td>5.441927</td>\n",
       "      <td>0.0</td>\n",
       "      <td>0.0000</td>\n",
       "    </tr>\n",
       "    <tr>\n",
       "      <th>15</th>\n",
       "      <td>-1</td>\n",
       "      <td>0.0</td>\n",
       "      <td>5.165407</td>\n",
       "      <td>0.0</td>\n",
       "      <td>0.0000</td>\n",
       "    </tr>\n",
       "    <tr>\n",
       "      <th>16</th>\n",
       "      <td>-1</td>\n",
       "      <td>0.0</td>\n",
       "      <td>6.372382</td>\n",
       "      <td>0.0</td>\n",
       "      <td>0.0000</td>\n",
       "    </tr>\n",
       "    <tr>\n",
       "      <th>17</th>\n",
       "      <td>-1</td>\n",
       "      <td>0.0</td>\n",
       "      <td>4.845078</td>\n",
       "      <td>0.0</td>\n",
       "      <td>0.0000</td>\n",
       "    </tr>\n",
       "    <tr>\n",
       "      <th>18</th>\n",
       "      <td>-1</td>\n",
       "      <td>0.0</td>\n",
       "      <td>9.219544</td>\n",
       "      <td>0.0</td>\n",
       "      <td>0.0000</td>\n",
       "    </tr>\n",
       "    <tr>\n",
       "      <th>19</th>\n",
       "      <td>-1</td>\n",
       "      <td>0.0</td>\n",
       "      <td>5.251143</td>\n",
       "      <td>0.0</td>\n",
       "      <td>0.0000</td>\n",
       "    </tr>\n",
       "  </tbody>\n",
       "</table>\n",
       "</div>"
      ],
      "text/plain": [
       "    class  redness  elongation  Boucle  Bandes verticales\n",
       "0       1      0.0    1.077167     1.0             0.8125\n",
       "1       1      0.0    1.043389     1.0             0.9375\n",
       "2       1      0.0    1.104132     1.0             0.8125\n",
       "3       1      0.0    1.081712     1.0             0.8750\n",
       "4       1      0.0    1.147618     1.0             0.8125\n",
       "5       1      0.0    1.106545     1.0             0.7500\n",
       "6       1      0.0    1.375925     1.0             0.8750\n",
       "7       1      0.0    1.037704     1.0             0.8125\n",
       "8       1      0.0    1.219250     1.0             0.8125\n",
       "9       1      0.0    1.320711     1.0             0.8125\n",
       "10     -1      0.0    5.419890     0.0             0.0000\n",
       "11     -1      0.0    6.785871     0.0             0.0000\n",
       "12     -1      0.0    5.154668     0.0             0.0000\n",
       "13     -1      0.0    7.113452     0.0             0.0000\n",
       "14     -1      0.0    5.441927     0.0             0.0000\n",
       "15     -1      0.0    5.165407     0.0             0.0000\n",
       "16     -1      0.0    6.372382     0.0             0.0000\n",
       "17     -1      0.0    4.845078     0.0             0.0000\n",
       "18     -1      0.0    9.219544     0.0             0.0000\n",
       "19     -1      0.0    5.251143     0.0             0.0000"
      ]
     },
     "execution_count": 259,
     "metadata": {},
     "output_type": "execute_result"
    }
   ],
   "source": [
    "# YOUR CODE HERE\n",
    "df = pd.DataFrame()\n",
    "#df[\"images\"] = [images.index[i] for i in range(len(images))]\n",
    "#df[\"class\"] = df[\"images\"].map(lambda name: 1 if name.startswith('a') else -1)\n",
    "df[\"class\"] = [1 if name.startswith('a') else -1 for name in images.index]\n",
    "df[\"redness\"] = [redness(images[i]) for i in range(len(images))]\n",
    "df[\"elongation\"] = [elongation(images[i]) for i in range(len(images))]\n",
    "df[\"Boucle\"] = [float(boucle(images[i])[0]) for i in range(len(images))]\n",
    "df[\"Bandes verticales\"] = [nb_bandes(images[i]) for i in range(len(images))]\n",
    "df"
   ]
  },
  {
   "cell_type": "markdown",
   "id": "67afe601",
   "metadata": {
    "nbgrader": {
     "cell_type": "markdown",
     "checksum": "bb480abd9baac97518a69b7de64cf014",
     "grade": false,
     "grade_id": "cell-d635e7502cb91b2a",
     "locked": false,
     "schema_version": 3,
     "solution": false,
     "task": false
    }
   },
   "source": [
    "Vérifications:\n",
    "- la table d'origine est préservée:"
   ]
  },
  {
   "cell_type": "code",
   "execution_count": 260,
   "id": "c52fbf5b",
   "metadata": {
    "nbgrader": {
     "cell_type": "code",
     "checksum": "00cf3c65f455842623627fceda673e2d",
     "grade": true,
     "grade_id": "cell-105a1d4f853b203c",
     "locked": false,
     "points": 1,
     "schema_version": 3,
     "solution": false,
     "task": false
    }
   },
   "outputs": [],
   "source": [
    "assert len(df[df['class'] ==  1]) == 10\n",
    "assert len(df[df['class'] == -1]) == 10\n",
    "assert 'redness' in df.columns\n",
    "assert 'elongation' in df.columns"
   ]
  },
  {
   "cell_type": "code",
   "execution_count": null,
   "id": "59375807",
   "metadata": {},
   "outputs": [],
   "source": []
  },
  {
   "cell_type": "markdown",
   "id": "05baeb0d",
   "metadata": {
    "nbgrader": {
     "cell_type": "markdown",
     "checksum": "450cedbf2975206641aa60b1b396769d",
     "grade": false,
     "grade_id": "cell-86b1db13ae3622b1",
     "locked": false,
     "schema_version": 3,
     "solution": false,
     "task": false
    }
   },
   "source": [
    "- Nouveaux attributs:"
   ]
  },
  {
   "cell_type": "code",
   "execution_count": 261,
   "id": "79fda6eb",
   "metadata": {
    "nbgrader": {
     "cell_type": "code",
     "checksum": "b087dcf13b7252daecf1d1f8e2450318",
     "grade": true,
     "grade_id": "cell-d8f0986d0b430798",
     "locked": false,
     "points": 1,
     "schema_version": 3,
     "solution": false,
     "task": false
    }
   },
   "outputs": [],
   "source": [
    "assert len(df.columns) > 3, \"Ajoutez au moins un attribut!\"\n",
    "assert df.notna().all(axis=None), \"Valeurs manquantes!\"\n",
    "for attribute in df.columns[3:]:\n",
    "    assert pd.api.types.is_numeric_dtype(df[attribute]), \\\n",
    "        f\"L'attribut {attribute} n'est pas numérique\""
   ]
  },
  {
   "cell_type": "code",
   "execution_count": 262,
   "id": "55e4367e",
   "metadata": {
    "nbgrader": {
     "cell_type": "code",
     "checksum": "acd89c5343b85c78b5bc14691087c6be",
     "grade": true,
     "grade_id": "cell-03e40d6a322dfc9d",
     "locked": false,
     "points": 1,
     "schema_version": 3,
     "solution": false,
     "task": false
    }
   },
   "outputs": [],
   "source": [
    "assert len(df.columns) > 4, \"Gagnez un point en ajoutant un autre attribut\""
   ]
  },
  {
   "cell_type": "markdown",
   "id": "31080189",
   "metadata": {
    "nbgrader": {
     "cell_type": "markdown",
     "checksum": "9ce3964950e281aa1cb29fdc7d21d090",
     "grade": false,
     "grade_id": "cell-592f7c21def71b06",
     "locked": false,
     "schema_version": 3,
     "solution": false,
     "task": false
    }
   },
   "source": [
    "**Exercice :** Standardisez les colonnes à l'exception de la colonne\n",
    "`class`, afin de calculer les corrélations entre colonnes"
   ]
  },
  {
   "cell_type": "code",
   "execution_count": 263,
   "id": "a7e461cb",
   "metadata": {
    "nbgrader": {
     "cell_type": "code",
     "checksum": "75693d2c986d7eb3e5939bce97836887",
     "grade": false,
     "grade_id": "cell-0c29581ba1da5a27",
     "locked": false,
     "schema_version": 3,
     "solution": true,
     "task": false
    }
   },
   "outputs": [
    {
     "data": {
      "text/html": [
       "<div>\n",
       "<style scoped>\n",
       "    .dataframe tbody tr th:only-of-type {\n",
       "        vertical-align: middle;\n",
       "    }\n",
       "\n",
       "    .dataframe tbody tr th {\n",
       "        vertical-align: top;\n",
       "    }\n",
       "\n",
       "    .dataframe thead th {\n",
       "        text-align: right;\n",
       "    }\n",
       "</style>\n",
       "<table border=\"1\" class=\"dataframe\">\n",
       "  <thead>\n",
       "    <tr style=\"text-align: right;\">\n",
       "      <th></th>\n",
       "      <th>class</th>\n",
       "      <th>redness</th>\n",
       "      <th>elongation</th>\n",
       "      <th>Boucle</th>\n",
       "      <th>Bandes verticales</th>\n",
       "    </tr>\n",
       "  </thead>\n",
       "  <tbody>\n",
       "    <tr>\n",
       "      <th>0</th>\n",
       "      <td>1</td>\n",
       "      <td>0.0</td>\n",
       "      <td>-0.942451</td>\n",
       "      <td>0.974679</td>\n",
       "      <td>0.927516</td>\n",
       "    </tr>\n",
       "    <tr>\n",
       "      <th>1</th>\n",
       "      <td>1</td>\n",
       "      <td>0.0</td>\n",
       "      <td>-0.955000</td>\n",
       "      <td>0.974679</td>\n",
       "      <td>1.219647</td>\n",
       "    </tr>\n",
       "    <tr>\n",
       "      <th>2</th>\n",
       "      <td>1</td>\n",
       "      <td>0.0</td>\n",
       "      <td>-0.932434</td>\n",
       "      <td>0.974679</td>\n",
       "      <td>0.927516</td>\n",
       "    </tr>\n",
       "    <tr>\n",
       "      <th>3</th>\n",
       "      <td>1</td>\n",
       "      <td>0.0</td>\n",
       "      <td>-0.940763</td>\n",
       "      <td>0.974679</td>\n",
       "      <td>1.073581</td>\n",
       "    </tr>\n",
       "    <tr>\n",
       "      <th>4</th>\n",
       "      <td>1</td>\n",
       "      <td>0.0</td>\n",
       "      <td>-0.916280</td>\n",
       "      <td>0.974679</td>\n",
       "      <td>0.927516</td>\n",
       "    </tr>\n",
       "    <tr>\n",
       "      <th>5</th>\n",
       "      <td>1</td>\n",
       "      <td>0.0</td>\n",
       "      <td>-0.931538</td>\n",
       "      <td>0.974679</td>\n",
       "      <td>0.781450</td>\n",
       "    </tr>\n",
       "    <tr>\n",
       "      <th>6</th>\n",
       "      <td>1</td>\n",
       "      <td>0.0</td>\n",
       "      <td>-0.831469</td>\n",
       "      <td>0.974679</td>\n",
       "      <td>1.073581</td>\n",
       "    </tr>\n",
       "    <tr>\n",
       "      <th>7</th>\n",
       "      <td>1</td>\n",
       "      <td>0.0</td>\n",
       "      <td>-0.957111</td>\n",
       "      <td>0.974679</td>\n",
       "      <td>0.927516</td>\n",
       "    </tr>\n",
       "    <tr>\n",
       "      <th>8</th>\n",
       "      <td>1</td>\n",
       "      <td>0.0</td>\n",
       "      <td>-0.889670</td>\n",
       "      <td>0.974679</td>\n",
       "      <td>0.927516</td>\n",
       "    </tr>\n",
       "    <tr>\n",
       "      <th>9</th>\n",
       "      <td>1</td>\n",
       "      <td>0.0</td>\n",
       "      <td>-0.851979</td>\n",
       "      <td>0.974679</td>\n",
       "      <td>0.927516</td>\n",
       "    </tr>\n",
       "    <tr>\n",
       "      <th>10</th>\n",
       "      <td>-1</td>\n",
       "      <td>0.0</td>\n",
       "      <td>0.670789</td>\n",
       "      <td>-0.974679</td>\n",
       "      <td>-0.971336</td>\n",
       "    </tr>\n",
       "    <tr>\n",
       "      <th>11</th>\n",
       "      <td>-1</td>\n",
       "      <td>0.0</td>\n",
       "      <td>1.178226</td>\n",
       "      <td>-0.974679</td>\n",
       "      <td>-0.971336</td>\n",
       "    </tr>\n",
       "    <tr>\n",
       "      <th>12</th>\n",
       "      <td>-1</td>\n",
       "      <td>0.0</td>\n",
       "      <td>0.572264</td>\n",
       "      <td>-0.974679</td>\n",
       "      <td>-0.971336</td>\n",
       "    </tr>\n",
       "    <tr>\n",
       "      <th>13</th>\n",
       "      <td>-1</td>\n",
       "      <td>0.0</td>\n",
       "      <td>1.299916</td>\n",
       "      <td>-0.974679</td>\n",
       "      <td>-0.971336</td>\n",
       "    </tr>\n",
       "    <tr>\n",
       "      <th>14</th>\n",
       "      <td>-1</td>\n",
       "      <td>0.0</td>\n",
       "      <td>0.678976</td>\n",
       "      <td>-0.974679</td>\n",
       "      <td>-0.971336</td>\n",
       "    </tr>\n",
       "    <tr>\n",
       "      <th>15</th>\n",
       "      <td>-1</td>\n",
       "      <td>0.0</td>\n",
       "      <td>0.576253</td>\n",
       "      <td>-0.974679</td>\n",
       "      <td>-0.971336</td>\n",
       "    </tr>\n",
       "    <tr>\n",
       "      <th>16</th>\n",
       "      <td>-1</td>\n",
       "      <td>0.0</td>\n",
       "      <td>1.024622</td>\n",
       "      <td>-0.974679</td>\n",
       "      <td>-0.971336</td>\n",
       "    </tr>\n",
       "    <tr>\n",
       "      <th>17</th>\n",
       "      <td>-1</td>\n",
       "      <td>0.0</td>\n",
       "      <td>0.457257</td>\n",
       "      <td>-0.974679</td>\n",
       "      <td>-0.971336</td>\n",
       "    </tr>\n",
       "    <tr>\n",
       "      <th>18</th>\n",
       "      <td>-1</td>\n",
       "      <td>0.0</td>\n",
       "      <td>2.082290</td>\n",
       "      <td>-0.974679</td>\n",
       "      <td>-0.971336</td>\n",
       "    </tr>\n",
       "    <tr>\n",
       "      <th>19</th>\n",
       "      <td>-1</td>\n",
       "      <td>0.0</td>\n",
       "      <td>0.608103</td>\n",
       "      <td>-0.974679</td>\n",
       "      <td>-0.971336</td>\n",
       "    </tr>\n",
       "  </tbody>\n",
       "</table>\n",
       "</div>"
      ],
      "text/plain": [
       "    class  redness  elongation    Boucle  Bandes verticales\n",
       "0       1      0.0   -0.942451  0.974679           0.927516\n",
       "1       1      0.0   -0.955000  0.974679           1.219647\n",
       "2       1      0.0   -0.932434  0.974679           0.927516\n",
       "3       1      0.0   -0.940763  0.974679           1.073581\n",
       "4       1      0.0   -0.916280  0.974679           0.927516\n",
       "5       1      0.0   -0.931538  0.974679           0.781450\n",
       "6       1      0.0   -0.831469  0.974679           1.073581\n",
       "7       1      0.0   -0.957111  0.974679           0.927516\n",
       "8       1      0.0   -0.889670  0.974679           0.927516\n",
       "9       1      0.0   -0.851979  0.974679           0.927516\n",
       "10     -1      0.0    0.670789 -0.974679          -0.971336\n",
       "11     -1      0.0    1.178226 -0.974679          -0.971336\n",
       "12     -1      0.0    0.572264 -0.974679          -0.971336\n",
       "13     -1      0.0    1.299916 -0.974679          -0.971336\n",
       "14     -1      0.0    0.678976 -0.974679          -0.971336\n",
       "15     -1      0.0    0.576253 -0.974679          -0.971336\n",
       "16     -1      0.0    1.024622 -0.974679          -0.971336\n",
       "17     -1      0.0    0.457257 -0.974679          -0.971336\n",
       "18     -1      0.0    2.082290 -0.974679          -0.971336\n",
       "19     -1      0.0    0.608103 -0.974679          -0.971336"
      ]
     },
     "execution_count": 263,
     "metadata": {},
     "output_type": "execute_result"
    }
   ],
   "source": [
    "# YOUR CODE HERE\n",
    "df_classless = df.copy()\n",
    "dfstd  = (df_classless - df_classless.mean())/df_classless.std()\n",
    "dfstd[\"redness\"] = df[\"redness\"]\n",
    "dfstd[\"class\"] = df[\"class\"]\n",
    "dfstd"
   ]
  },
  {
   "cell_type": "markdown",
   "id": "d8c91fc4",
   "metadata": {
    "nbgrader": {
     "cell_type": "markdown",
     "checksum": "11583edd1f5d181027fac76ecf2e729b",
     "grade": false,
     "grade_id": "cell-feea0a235f81712c",
     "locked": false,
     "schema_version": 3,
     "solution": false,
     "task": false
    }
   },
   "source": [
    "Vérifions :"
   ]
  },
  {
   "cell_type": "code",
   "execution_count": 271,
   "id": "05308029",
   "metadata": {
    "nbgrader": {
     "cell_type": "code",
     "checksum": "2e045804a7ee3835b8ebd6c668d16562",
     "grade": false,
     "grade_id": "cell-69e2c8c203efb549",
     "locked": false,
     "schema_version": 3,
     "solution": false,
     "task": false
    }
   },
   "outputs": [
    {
     "data": {
      "text/plain": [
       "class                0.025978\n",
       "redness             -1.000000\n",
       "elongation           0.000000\n",
       "Boucle               0.000000\n",
       "Bandes verticales    0.000000\n",
       "dtype: float64"
      ]
     },
     "execution_count": 271,
     "metadata": {},
     "output_type": "execute_result"
    }
   ],
   "source": [
    "dfstd.mean()\n",
    "dfstd.std()-1"
   ]
  },
  {
   "cell_type": "code",
   "execution_count": 265,
   "id": "f0935bfc",
   "metadata": {
    "nbgrader": {
     "cell_type": "code",
     "checksum": "c46020ebc9892ac98e0a366de26fbc7e",
     "grade": true,
     "grade_id": "cell-b6120056f2331c33",
     "locked": false,
     "points": 1,
     "schema_version": 3,
     "solution": false,
     "task": false
    }
   },
   "outputs": [
    {
     "ename": "AssertionError",
     "evalue": "",
     "output_type": "error",
     "traceback": [
      "\u001b[1;31m---------------------------------------------------------------------------\u001b[0m",
      "\u001b[1;31mAssertionError\u001b[0m                            Traceback (most recent call last)",
      "\u001b[1;32m~\\AppData\\Local\\Temp/ipykernel_3032/329644793.py\u001b[0m in \u001b[0;36m<module>\u001b[1;34m\u001b[0m\n\u001b[0;32m      3\u001b[0m \u001b[1;32massert\u001b[0m \u001b[0mdfstd\u001b[0m\u001b[1;33m.\u001b[0m\u001b[0mcolumns\u001b[0m\u001b[1;33m.\u001b[0m\u001b[0mequals\u001b[0m\u001b[1;33m(\u001b[0m\u001b[0mdf\u001b[0m\u001b[1;33m.\u001b[0m\u001b[0mcolumns\u001b[0m\u001b[1;33m)\u001b[0m\u001b[1;33m\u001b[0m\u001b[1;33m\u001b[0m\u001b[0m\n\u001b[0;32m      4\u001b[0m \u001b[1;32massert\u001b[0m \u001b[1;33m(\u001b[0m\u001b[0mabs\u001b[0m\u001b[1;33m(\u001b[0m\u001b[0mdfstd\u001b[0m\u001b[1;33m.\u001b[0m\u001b[0mmean\u001b[0m\u001b[1;33m(\u001b[0m\u001b[1;33m)\u001b[0m\u001b[1;33m)\u001b[0m \u001b[1;33m<\u001b[0m \u001b[1;36m0.01\u001b[0m\u001b[1;33m)\u001b[0m\u001b[1;33m.\u001b[0m\u001b[0mall\u001b[0m\u001b[1;33m(\u001b[0m\u001b[1;33m)\u001b[0m\u001b[1;33m\u001b[0m\u001b[1;33m\u001b[0m\u001b[0m\n\u001b[1;32m----> 5\u001b[1;33m \u001b[1;32massert\u001b[0m \u001b[1;33m(\u001b[0m\u001b[0mabs\u001b[0m\u001b[1;33m(\u001b[0m\u001b[0mdfstd\u001b[0m\u001b[1;33m.\u001b[0m\u001b[0mstd\u001b[0m\u001b[1;33m(\u001b[0m\u001b[1;33m)\u001b[0m \u001b[1;33m-\u001b[0m \u001b[1;36m1\u001b[0m\u001b[1;33m)\u001b[0m \u001b[1;33m<\u001b[0m \u001b[1;36m0.1\u001b[0m\u001b[1;33m)\u001b[0m\u001b[1;33m.\u001b[0m\u001b[0mall\u001b[0m\u001b[1;33m(\u001b[0m\u001b[1;33m)\u001b[0m\u001b[1;33m\u001b[0m\u001b[1;33m\u001b[0m\u001b[0m\n\u001b[0m",
      "\u001b[1;31mAssertionError\u001b[0m: "
     ]
    }
   ],
   "source": [
    "assert dfstd.shape == df.shape\n",
    "assert dfstd.index.equals(df.index)\n",
    "assert dfstd.columns.equals(df.columns)\n",
    "assert (abs(dfstd.mean()) < 0.01).all()\n",
    "assert (abs(dfstd.std() - 1) < 0.1).all()"
   ]
  },
  {
   "cell_type": "markdown",
   "id": "cc9816e0",
   "metadata": {
    "nbgrader": {
     "cell_type": "markdown",
     "checksum": "720b9082c215b4223679b9f77a642dd3",
     "grade": false,
     "grade_id": "cell-16a95948fd5c0ef3",
     "locked": false,
     "schema_version": 3,
     "solution": false,
     "task": false
    }
   },
   "source": [
    "Le prétraitement est terminé!"
   ]
  },
  {
   "cell_type": "markdown",
   "id": "9eb744a2",
   "metadata": {
    "nbgrader": {
     "cell_type": "markdown",
     "checksum": "90a4b4e0ea8602608efc8be5f4b76809",
     "grade": false,
     "grade_id": "cell-043c3e7edafa0af9",
     "locked": false,
     "schema_version": 3,
     "solution": false,
     "task": false
    }
   },
   "source": [
    "### Visualisation"
   ]
  },
  {
   "cell_type": "markdown",
   "id": "d5b2aa2c",
   "metadata": {
    "nbgrader": {
     "cell_type": "markdown",
     "checksum": "3cba94907267a6b6afee5ba9fd083ff2",
     "grade": false,
     "grade_id": "cell-eb183dfd2fb60a40",
     "locked": false,
     "schema_version": 3,
     "solution": false,
     "task": false
    }
   },
   "source": [
    "**Exercice :** Extrayons quelques statistiques de base:"
   ]
  },
  {
   "cell_type": "code",
   "execution_count": null,
   "id": "38d13616",
   "metadata": {
    "nbgrader": {
     "cell_type": "code",
     "checksum": "32218974407dd7bddc4e5f6f6f47a298",
     "grade": false,
     "grade_id": "cell-5adf965bf26113e8",
     "locked": false,
     "schema_version": 3,
     "solution": true,
     "task": false
    }
   },
   "outputs": [],
   "source": [
    "# YOUR CODE HERE\n",
    "raise NotImplementedError()"
   ]
  },
  {
   "cell_type": "markdown",
   "id": "1358de12",
   "metadata": {
    "nbgrader": {
     "cell_type": "markdown",
     "checksum": "3cf82ca26d0187a3ba36dd851c4d6ed2",
     "grade": false,
     "grade_id": "cell-6c7b07fdc56a1970",
     "locked": false,
     "schema_version": 3,
     "solution": false,
     "task": false
    }
   },
   "source": [
    "**Exercice :**\n",
    "- Visualisez le tableau de données sous forme de carte de chaleur (*heat map*):"
   ]
  },
  {
   "cell_type": "code",
   "execution_count": null,
   "id": "7b04dabc",
   "metadata": {
    "nbgrader": {
     "cell_type": "code",
     "checksum": "04afb3a9abcdf59095b6662268bb26d3",
     "grade": false,
     "grade_id": "cell-59b086b9a7351acb",
     "locked": false,
     "schema_version": 3,
     "solution": true,
     "task": false
    }
   },
   "outputs": [],
   "source": [
    "# YOUR CODE HERE\n",
    "raise NotImplementedError()"
   ]
  },
  {
   "cell_type": "markdown",
   "id": "d865a89f",
   "metadata": {
    "nbgrader": {
     "cell_type": "markdown",
     "checksum": "271975688da40307bf7ecb528ab32e4c",
     "grade": false,
     "grade_id": "cell-dee09fc8d9185846",
     "locked": false,
     "schema_version": 3,
     "solution": false,
     "task": false
    }
   },
   "source": [
    "- sa matrice de corrélation:"
   ]
  },
  {
   "cell_type": "code",
   "execution_count": null,
   "id": "6db85eb9",
   "metadata": {
    "nbgrader": {
     "cell_type": "code",
     "checksum": "f072ef0f33c30bdd71cd99d49d1e9242",
     "grade": false,
     "grade_id": "cell-5d6f2f8188882c92",
     "locked": false,
     "schema_version": 3,
     "solution": true,
     "task": false
    }
   },
   "outputs": [],
   "source": [
    "# YOUR CODE HERE\n",
    "raise NotImplementedError()"
   ]
  },
  {
   "cell_type": "markdown",
   "id": "ef99c398",
   "metadata": {
    "nbgrader": {
     "cell_type": "markdown",
     "checksum": "2d168577f1b08233d34cc1ab6f07184b",
     "grade": false,
     "grade_id": "cell-6e71eda9745ba384",
     "locked": false,
     "schema_version": 3,
     "solution": false,
     "task": false
    }
   },
   "source": [
    "- ainsi que le nuage de points (*scatter plot*):"
   ]
  },
  {
   "cell_type": "code",
   "execution_count": null,
   "id": "da04def9",
   "metadata": {
    "nbgrader": {
     "cell_type": "code",
     "checksum": "f50dbcef5c2cc4eb7db9eeb8c0d8766a",
     "grade": false,
     "grade_id": "cell-10bd824917033e6a",
     "locked": false,
     "schema_version": 3,
     "solution": true,
     "task": false
    }
   },
   "outputs": [],
   "source": [
    "# YOUR CODE HERE\n",
    "raise NotImplementedError()"
   ]
  },
  {
   "cell_type": "markdown",
   "id": "657adf78",
   "metadata": {
    "nbgrader": {
     "cell_type": "markdown",
     "checksum": "3a719c9648b336d7bc04e7b06661d4f8",
     "grade": false,
     "grade_id": "cell-bca3d5b71feb6ff1",
     "locked": false,
     "schema_version": 3,
     "solution": false,
     "task": false
    }
   },
   "source": [
    "### Observations\n",
    "\n",
    "**Exercice :** Décrivez ici vos observations: corrélations apparentes\n",
    "ou pas, interprétation de ces corrélations à partir du nuage de\n",
    "points, etc. Est-ce que les attributs choisis semblent suffisants?\n",
    "Quel attribut semble le plus discriminant? Est-ce qu'un seul d'entre\n",
    "eux suffirait?"
   ]
  },
  {
   "cell_type": "markdown",
   "id": "8f151077",
   "metadata": {
    "nbgrader": {
     "cell_type": "markdown",
     "checksum": "6f529903b12f2180d2a775daba172e25",
     "grade": true,
     "grade_id": "cell-e22718dde2cfd4ba",
     "locked": false,
     "points": 4,
     "schema_version": 3,
     "solution": true,
     "task": false
    }
   },
   "source": [
    "VOTRE RÉPONSE ICI"
   ]
  },
  {
   "cell_type": "markdown",
   "id": "49cabe70",
   "metadata": {
    "nbgrader": {
     "cell_type": "markdown",
     "checksum": "780219ca7ddda552ea13fa1fd6609265",
     "grade": false,
     "grade_id": "cell-2668dce82b589f34",
     "locked": false,
     "schema_version": 3,
     "solution": false,
     "task": false
    }
   },
   "source": [
    "## Étape 2: [ME]sure de performance (*[ME]tric*)"
   ]
  },
  {
   "cell_type": "markdown",
   "id": "ad64f97e",
   "metadata": {
    "nbgrader": {
     "cell_type": "markdown",
     "checksum": "b49f6d13a478e294be514a6488e347f3",
     "grade": false,
     "grade_id": "cell-2edc6abcf3a72dd2",
     "locked": false,
     "schema_version": 3,
     "solution": false,
     "task": false
    }
   },
   "source": [
    "Pour mesurer les performances de ce problème de classification, nous\n",
    "utiliserons la même métrique par taux d'erreur que dans le TP3:"
   ]
  },
  {
   "cell_type": "code",
   "execution_count": null,
   "id": "281dfbc2",
   "metadata": {
    "nbgrader": {
     "cell_type": "code",
     "checksum": "618f2f555d926f5492c2441772f09723",
     "grade": false,
     "grade_id": "cell-1fa6eb65d858c61c",
     "locked": false,
     "schema_version": 3,
     "solution": false,
     "task": false
    }
   },
   "outputs": [],
   "source": [
    "show_source(error_rate)"
   ]
  },
  {
   "cell_type": "markdown",
   "id": "a01c921e",
   "metadata": {
    "nbgrader": {
     "cell_type": "markdown",
     "checksum": "fca79a2271986cdbbefd31158166a6fb",
     "grade": false,
     "grade_id": "cell-fe6ef77774bf777c",
     "locked": false,
     "schema_version": 3,
     "solution": false,
     "task": false
    }
   },
   "source": [
    "### Partition (*split*) du jeu de données en ensemble d'entraînement et ensemble de test"
   ]
  },
  {
   "cell_type": "markdown",
   "id": "e27afb06",
   "metadata": {
    "nbgrader": {
     "cell_type": "markdown",
     "checksum": "1073ff388ab028c871e3d9ebde943c61",
     "grade": false,
     "grade_id": "cell-1a09d1e1733ada10",
     "locked": false,
     "schema_version": 3,
     "solution": false,
     "task": false
    }
   },
   "source": [
    "Extraire, depuis `dfstd`, les deux attributs choisis dans `X` et la vérité terrain dans\n",
    "`Y`:"
   ]
  },
  {
   "cell_type": "code",
   "execution_count": null,
   "id": "828b5209",
   "metadata": {
    "nbgrader": {
     "cell_type": "code",
     "checksum": "93b8c63a8e67ed7ce0d5999d175a97da",
     "grade": false,
     "grade_id": "cell-fb5cd75f3de3a8a2",
     "locked": false,
     "schema_version": 3,
     "solution": true,
     "task": false
    }
   },
   "outputs": [],
   "source": [
    "# YOUR CODE HERE\n",
    "raise NotImplementedError()"
   ]
  },
  {
   "cell_type": "markdown",
   "id": "a8968e0d",
   "metadata": {},
   "source": [
    "Ajouter un autotest que les attributs ne sont pas redness/elongation : un nouvel attribut ; deux nouveaux attributs"
   ]
  },
  {
   "cell_type": "code",
   "execution_count": null,
   "id": "9d9bf583",
   "metadata": {
    "nbgrader": {
     "cell_type": "code",
     "checksum": "cac3960f3b06171eac77d75b29d25c2f",
     "grade": true,
     "grade_id": "cell-666625af65184ae8",
     "locked": false,
     "points": 1,
     "schema_version": 3,
     "solution": false,
     "task": false
    }
   },
   "outputs": [],
   "source": [
    "assert isinstance(X, pd.DataFrame), \"X n'est pas une table Pandas\"\n",
    "assert X.shape == (20,2), \"X n'est pas de la bonne taille\"\n",
    "assert set(X.columns) != {'redness', 'elongation'}"
   ]
  },
  {
   "cell_type": "code",
   "execution_count": null,
   "id": "c7ba3322",
   "metadata": {
    "nbgrader": {
     "cell_type": "code",
     "checksum": "7abcef650ef1a7e6257ae0c6e20d3f0a",
     "grade": true,
     "grade_id": "cell-6155db153be32033",
     "locked": false,
     "points": 1,
     "schema_version": 3,
     "solution": false,
     "task": false
    }
   },
   "outputs": [],
   "source": [
    "assert 'redness' not in X.columns and 'elongation' not in X.columns, \\\n",
    "   \"Pour un point de plus: ne réutiliser ni la rougeur, ni l'élongation\""
   ]
  },
  {
   "cell_type": "markdown",
   "id": "f012bf3b",
   "metadata": {
    "nbgrader": {
     "cell_type": "markdown",
     "checksum": "853f80a58347bfa16eb8bdeb15c19d6c",
     "grade": false,
     "grade_id": "cell-672066b540b7e27b",
     "locked": false,
     "schema_version": 3,
     "solution": false,
     "task": false
    }
   },
   "source": [
    "**Exercice :** Maintenant partitionnez l'index des images en ensemble\n",
    "d'entraînement (`train_index`) et ensemble de test\n",
    "(`test_index`). Récupérez les attributs et classes de vos images selon\n",
    "l'ensemble d'entraînement `(Xtrain, Ytrain)` et celui de test `(Xtest,\n",
    "Ytest)`."
   ]
  },
  {
   "cell_type": "code",
   "execution_count": null,
   "id": "239159a8",
   "metadata": {
    "nbgrader": {
     "cell_type": "code",
     "checksum": "6dd6112bc416f09425e803631d28b8b2",
     "grade": false,
     "grade_id": "cell-240f317e24d0e8c5",
     "locked": false,
     "schema_version": 3,
     "solution": true,
     "task": false
    }
   },
   "outputs": [],
   "source": [
    "# YOUR CODE HERE\n",
    "raise NotImplementedError()"
   ]
  },
  {
   "cell_type": "code",
   "execution_count": null,
   "id": "ec3bf650",
   "metadata": {
    "nbgrader": {
     "cell_type": "code",
     "checksum": "543dd26f1d5b2db6c2810087c5dabde0",
     "grade": true,
     "grade_id": "cell-3be096fc97970fbc",
     "locked": false,
     "points": 1,
     "schema_version": 3,
     "solution": false,
     "task": false
    }
   },
   "outputs": [],
   "source": [
    "assert train_index.shape == test_index.shape\n",
    "assert list(sorted(np.concatenate([train_index, test_index]))) == list(range(20))\n",
    "\n",
    "assert Xtest.shape == Xtrain.shape\n",
    "assert pd.concat([Xtest, Xtrain]).sort_index().equals(X.sort_index())\n",
    "\n",
    "assert Ytest.shape == Ytrain.shape\n",
    "assert pd.concat([Ytest, Ytrain]).sort_index().equals(Y.sort_index())\n",
    "assert Ytest.value_counts().sort_index().equals(Ytrain.value_counts().sort_index())"
   ]
  },
  {
   "cell_type": "markdown",
   "id": "5763970e",
   "metadata": {
    "nbgrader": {
     "cell_type": "markdown",
     "checksum": "aaf3d8f5fb773034041687afa70348af",
     "grade": false,
     "grade_id": "cell-50c7b65a31fd47cb",
     "locked": false,
     "schema_version": 3,
     "solution": false,
     "task": false
    }
   },
   "source": [
    "**Exercice :** Affichez les images qui serviront à entraîner notre\n",
    "modèle de prédiction (*predictive model*):"
   ]
  },
  {
   "cell_type": "code",
   "execution_count": null,
   "id": "41d5bc8c",
   "metadata": {
    "nbgrader": {
     "cell_type": "code",
     "checksum": "c7964ea91bb446bee9fe0fbc4e37b7ab",
     "grade": false,
     "grade_id": "cell-ad5ca9b40a1f2cd1",
     "locked": false,
     "schema_version": 3,
     "solution": true,
     "task": false
    }
   },
   "outputs": [],
   "source": [
    "# YOUR CODE HERE\n",
    "raise NotImplementedError()"
   ]
  },
  {
   "cell_type": "markdown",
   "id": "7370da2d",
   "metadata": {
    "nbgrader": {
     "cell_type": "markdown",
     "checksum": "e64570807a43c88693069a74eaf99b57",
     "grade": false,
     "grade_id": "cell-031b7382abe186ef",
     "locked": false,
     "schema_version": 3,
     "solution": false,
     "task": false
    }
   },
   "source": [
    "**Exercice :** Affichez celles qui permettent de le tester et\n",
    "d'évaluer sa performance:"
   ]
  },
  {
   "cell_type": "code",
   "execution_count": null,
   "id": "628221c5",
   "metadata": {
    "nbgrader": {
     "cell_type": "code",
     "checksum": "71b5600028c8a2fab07c08f146af65da",
     "grade": false,
     "grade_id": "cell-1f3414a9f879a9d1",
     "locked": false,
     "schema_version": 3,
     "solution": true,
     "task": false
    }
   },
   "outputs": [],
   "source": [
    "# YOUR CODE HERE\n",
    "raise NotImplementedError()"
   ]
  },
  {
   "cell_type": "markdown",
   "id": "a14b360b",
   "metadata": {
    "nbgrader": {
     "cell_type": "markdown",
     "checksum": "a16f7f2ccdc41606de030e263f1c53f2",
     "grade": false,
     "grade_id": "cell-e44d2840e7481ec1",
     "locked": false,
     "schema_version": 3,
     "solution": false,
     "task": false
    }
   },
   "source": [
    "**Exercice :** Représentez les images sous forme de nuage de points en\n",
    "fonction de leurs attributs:"
   ]
  },
  {
   "cell_type": "code",
   "execution_count": null,
   "id": "ed82bbfe",
   "metadata": {
    "nbgrader": {
     "cell_type": "code",
     "checksum": "4682a59b4e3ed77249706a18b6ec264d",
     "grade": true,
     "grade_id": "cell-c7dc96827c21b4b9",
     "locked": false,
     "points": 1,
     "schema_version": 3,
     "solution": true,
     "task": false
    }
   },
   "outputs": [],
   "source": [
    "# YOUR CODE HERE\n",
    "raise NotImplementedError()"
   ]
  },
  {
   "cell_type": "markdown",
   "id": "4ac4fd35",
   "metadata": {
    "nbgrader": {
     "cell_type": "markdown",
     "checksum": "92fd26fbb3226b6054d55cbc4ca94dcb",
     "grade": false,
     "grade_id": "cell-ef6ffea3c9345a6f",
     "locked": false,
     "schema_version": 3,
     "solution": false,
     "task": false
    }
   },
   "source": [
    "### Taux d'erreur\n",
    "\n",
    "Comme la semaine dernière, nous utiliserons le taux d'erreur comme\n",
    "métrique, d'une part sur l'ensemble d'entraînement, d'autre part sur\n",
    "l'ensemble de test. Implémentez la fonction `error_rate` dans votre\n",
    "utilities.py. Pour vérifier que c'est correctement fait, nous\n",
    "affichons son code ci-dessous:"
   ]
  },
  {
   "cell_type": "code",
   "execution_count": null,
   "id": "7fdf0c35",
   "metadata": {
    "nbgrader": {
     "cell_type": "code",
     "checksum": "19048026419c75b7d2b389917743506b",
     "grade": false,
     "grade_id": "cell-baa5e37a60edad22",
     "locked": false,
     "schema_version": 3,
     "solution": false,
     "task": false
    }
   },
   "outputs": [],
   "source": [
    "show_source(error_rate)"
   ]
  },
  {
   "cell_type": "markdown",
   "id": "f5a7f925",
   "metadata": {
    "nbgrader": {
     "cell_type": "markdown",
     "checksum": "0aad688914be7e65788713978ac3c2a8",
     "grade": false,
     "grade_id": "cell-2831ca6c9a3bfce5",
     "locked": false,
     "schema_version": 3,
     "solution": false,
     "task": false
    }
   },
   "source": [
    "## Étape 3: [RE]férence (*base line*)"
   ]
  },
  {
   "cell_type": "markdown",
   "id": "c072d7cc",
   "metadata": {
    "nbgrader": {
     "cell_type": "markdown",
     "checksum": "460a70846edc8dd32952b00dbe109551",
     "grade": false,
     "grade_id": "cell-9876b02ba8d2de55",
     "locked": false,
     "schema_version": 3,
     "solution": false,
     "task": false
    }
   },
   "source": [
    "### Classificateur"
   ]
  },
  {
   "cell_type": "markdown",
   "id": "23d18e34",
   "metadata": {
    "nbgrader": {
     "cell_type": "markdown",
     "checksum": "0cad249e3b5505e8be4b7aae730a3735",
     "grade": true,
     "grade_id": "cell-5f7be836c3e06143",
     "locked": false,
     "points": 2,
     "schema_version": 3,
     "solution": true,
     "task": false
    }
   },
   "source": [
    "- En Semaine 4: faites la suite de cette feuille avec l'algorithme du\n",
    "  plus proche voisin, comme en Semaine 3.\n",
    "\n",
    "- En Semaine 5: faites la feuille sur les [classificateurs](../Semaine5/1_classificateurs.md)\n",
    "  puis faites la suite de cette feuille avec votre propre classificateur,\n",
    "  en notant au préalable votre choix de classificateur ici:\n",
    "\n",
    "  VOTRE RÉPONSE ICI"
   ]
  },
  {
   "cell_type": "markdown",
   "id": "c2acff23",
   "metadata": {
    "nbgrader": {
     "cell_type": "markdown",
     "checksum": "4fa688886d4cceaf1b6076e2720905e5",
     "grade": false,
     "grade_id": "cell-f541bcd7f0f3912d",
     "locked": false,
     "schema_version": 3,
     "solution": false,
     "task": false
    }
   },
   "source": [
    "**Exercice :** \n",
    "Ci-dessous, définissez puis entraînez votre classificateur sur l'ensemble d'entraînement.\n",
    "\n",
    "**Indication :** Si vous avez besoin de code supplémentaire pour cela, mettez-le dans `utilities.py`."
   ]
  },
  {
   "cell_type": "code",
   "execution_count": null,
   "id": "efa4588d",
   "metadata": {
    "nbgrader": {
     "cell_type": "code",
     "checksum": "553e412d52aa0920c309520ec1e30c96",
     "grade": false,
     "grade_id": "cell-85205b5012588319",
     "locked": false,
     "schema_version": 3,
     "solution": true,
     "task": false
    }
   },
   "outputs": [],
   "source": [
    "# YOUR CODE HERE\n",
    "raise NotImplementedError()"
   ]
  },
  {
   "cell_type": "markdown",
   "id": "6d3aefe1",
   "metadata": {
    "nbgrader": {
     "cell_type": "markdown",
     "checksum": "9c3e81a24a4c69d62c580b683ae21664",
     "grade": false,
     "grade_id": "cell-991d8893ddaefe2b",
     "locked": false,
     "schema_version": 3,
     "solution": false,
     "task": false
    }
   },
   "source": [
    "**Exercice :** Calculez les prédictions sur l'ensemble d'entraînement\n",
    "et l'ensemble de test, ainsi que les taux d'erreur dans les deux cas:"
   ]
  },
  {
   "cell_type": "code",
   "execution_count": null,
   "id": "4f198332",
   "metadata": {
    "nbgrader": {
     "cell_type": "code",
     "checksum": "39e895304f018b8fc86b57dcaaf6bff1",
     "grade": false,
     "grade_id": "cell-85205b5012588320",
     "locked": false,
     "schema_version": 3,
     "solution": true,
     "task": false
    }
   },
   "outputs": [],
   "source": [
    "# YOUR CODE HERE\n",
    "raise NotImplementedError()\n",
    "print(\"Training error:\", e_tr)\n",
    "print(\"Test error:\", e_te)"
   ]
  },
  {
   "cell_type": "code",
   "execution_count": null,
   "id": "2394e14e",
   "metadata": {
    "nbgrader": {
     "cell_type": "code",
     "checksum": "b11a6a34cb5c33b05b2e4a035785d6e4",
     "grade": true,
     "grade_id": "cell-195ba103a7ccc55b",
     "locked": false,
     "points": 1,
     "schema_version": 3,
     "solution": false,
     "task": false
    }
   },
   "outputs": [],
   "source": [
    "assert Ytrain_predicted.shape == Ytrain.shape\n",
    "assert Ytest_predicted.shape == Ytest.shape\n",
    "assert 0 <= e_tr and e_tr <= 1\n",
    "assert 0 <= e_te and e_te <= 1"
   ]
  },
  {
   "cell_type": "markdown",
   "id": "b576c4b4",
   "metadata": {
    "nbgrader": {
     "cell_type": "markdown",
     "checksum": "fae208e6bd19f0670dd8df95f6d64171",
     "grade": false,
     "grade_id": "cell-139252fc350603b2",
     "locked": false,
     "schema_version": 3,
     "solution": false,
     "task": false
    }
   },
   "source": [
    "Visualisons les prédictions obtenues:"
   ]
  },
  {
   "cell_type": "code",
   "execution_count": null,
   "id": "7a74ce87",
   "metadata": {
    "nbgrader": {
     "cell_type": "code",
     "checksum": "d52aa128366c4fd41fdcf88b6103e580",
     "grade": false,
     "grade_id": "cell-fdaa23f990c0b172",
     "locked": false,
     "schema_version": 3,
     "solution": false,
     "task": false
    }
   },
   "outputs": [],
   "source": [
    "# The training examples are shown as white circles and the test examples are black squares.\n",
    "# The predictions made are shown as letters in the black squares.\n",
    "make_scatter_plot(X, images.apply(transparent_background_filter),\n",
    "                  train_index, test_index, \n",
    "                  predicted_labels=Ytest_predicted, axis='square')"
   ]
  },
  {
   "cell_type": "markdown",
   "id": "a67ebac2",
   "metadata": {
    "nbgrader": {
     "cell_type": "markdown",
     "checksum": "00fb56afb030c89b52f77facddd94ba1",
     "grade": false,
     "grade_id": "cell-b0226451f00b5833",
     "locked": false,
     "schema_version": 3,
     "solution": false,
     "task": false
    }
   },
   "source": [
    "### Interprétation"
   ]
  },
  {
   "cell_type": "markdown",
   "id": "ecb64471",
   "metadata": {
    "nbgrader": {
     "cell_type": "markdown",
     "checksum": "dac1eac37628fb4e08a08a8bfd21afe5",
     "grade": true,
     "grade_id": "cell-b0226451f00b5834",
     "locked": false,
     "points": 5,
     "schema_version": 3,
     "solution": true,
     "task": false
    }
   },
   "source": [
    "**Exercice :** Donnez ici votre interprétation des résultats. La\n",
    "performance des prédictions paraît elle satisfaisante? Avez vous une\n",
    "première intuition de comment l'améliorer?\n",
    "\n",
    "VOTRE RÉPONSE ICI"
   ]
  },
  {
   "cell_type": "markdown",
   "id": "2674e37d",
   "metadata": {
    "nbgrader": {
     "cell_type": "markdown",
     "checksum": "8a2a785561a621cbac2dc3ca33e6a4ac",
     "grade": false,
     "grade_id": "cell-5539fbbf5565fb1b",
     "locked": false,
     "schema_version": 3,
     "solution": false,
     "task": false
    }
   },
   "source": [
    "## Étape 4: [BAR]res d'erreur (*error bar*)"
   ]
  },
  {
   "cell_type": "markdown",
   "id": "11fe0a21",
   "metadata": {
    "nbgrader": {
     "cell_type": "markdown",
     "checksum": "10804474205e34d74360e3d5a262c026",
     "grade": false,
     "grade_id": "cell-5539fbbf5565fb1c",
     "locked": false,
     "schema_version": 3,
     "solution": false,
     "task": false
    }
   },
   "source": [
    "### Barre d'erreur 1-sigma\n",
    "\n",
    "**Exercice :** Comme première estimation de la barre d'erreur,\n",
    "calculez la barre d'erreur 1-sigma pour le taux d'erreur `e_te`:"
   ]
  },
  {
   "cell_type": "code",
   "execution_count": null,
   "id": "e9ca1c6d",
   "metadata": {
    "nbgrader": {
     "cell_type": "code",
     "checksum": "1146d04d0da826d62ebb6a72cec23351",
     "grade": false,
     "grade_id": "cell-40a54824a74c8fdc",
     "locked": false,
     "schema_version": 3,
     "solution": true,
     "task": false
    }
   },
   "outputs": [],
   "source": [
    "# YOUR CODE HERE\n",
    "raise NotImplementedError()\n",
    "print(\"TEST SET ERROR RATE: {0:.2f}\".format(e_te))\n",
    "print(\"TEST SET STANDARD ERROR: {0:.2f}\".format(sigma))"
   ]
  },
  {
   "cell_type": "markdown",
   "id": "1346d3ed",
   "metadata": {
    "nbgrader": {
     "cell_type": "markdown",
     "checksum": "fe8f472d1b0d999fe0d8d39586805660",
     "grade": false,
     "grade_id": "cell-209765e9c10f8f32",
     "locked": false,
     "schema_version": 3,
     "solution": false,
     "task": false
    }
   },
   "source": [
    "### Barre d'erreur par validation croisée (Cross-Validation)\n",
    "\n",
    "Nous calculons maintenant une autre estimation de la barre d'erreur en\n",
    "répétant l'évaluation de performance pour de multiples partitions\n",
    "entre ensemble d'entraînement et ensemble de test :"
   ]
  },
  {
   "cell_type": "code",
   "execution_count": null,
   "id": "66425cac",
   "metadata": {},
   "outputs": [],
   "source": [
    "n_te = 10\n",
    "SSS = StratifiedShuffleSplit(n_splits=n_te, test_size=0.5, random_state=5)\n",
    "E = np.zeros([n_te, 1])\n",
    "k = 0\n",
    "for train_index, test_index in SSS.split(X, Y):\n",
    "    print(\"TRAIN:\", train_index, \"TEST:\", test_index)\n",
    "    Xtrain, Xtest = X.iloc[train_index], X.iloc[test_index]\n",
    "    Ytrain, Ytest = Y.iloc[train_index], Y.iloc[test_index]\n",
    "    neigh.fit(Xtrain, Ytrain.ravel()) \n",
    "    Ytrain_predicted = neigh.predict(Xtrain)\n",
    "    Ytest_predicted = neigh.predict(Xtest)\n",
    "    e_tr = error_rate(Ytrain, Ytrain_predicted)\n",
    "    e_te = error_rate(Ytest, Ytest_predicted)\n",
    "    print(\"TRAIN ERROR RATE:\", e_tr)\n",
    "    print(\"TEST ERROR RATE:\", e_te)\n",
    "    E[k] = e_te\n",
    "    k = k+1\n",
    "    \n",
    "e_te_ave = np.mean(E)\n",
    "# It is bad practice to show too many decimal digits:\n",
    "print(\"\\n\\nCV ERROR RATE: {0:.2f}\".format(e_te_ave))\n",
    "print(\"CV STANDARD DEVIATION: {0:.2f}\".format(np.std(E)))\n",
    "\n",
    "sigma = np.sqrt(e_te_ave * (1-e_te_ave) / n_te)\n",
    "print(\"TEST SET STANDARD ERROR (for comparison): {0:.2f}\".format(sigma))"
   ]
  },
  {
   "cell_type": "markdown",
   "id": "26313811",
   "metadata": {
    "nbgrader": {
     "cell_type": "markdown",
     "checksum": "998da4c6471f630cec6a0395564210dc",
     "grade": false,
     "grade_id": "cell-df1f1b0b05e548d4",
     "locked": false,
     "schema_version": 3,
     "solution": false,
     "task": false
    }
   },
   "source": [
    "## Conclusion"
   ]
  },
  {
   "cell_type": "markdown",
   "id": "7efa87ee",
   "metadata": {
    "nbgrader": {
     "cell_type": "markdown",
     "checksum": "11b535cf983332e0837c47fbc3a26668",
     "grade": false,
     "grade_id": "cell-df1f1b0b05e548d6",
     "locked": false,
     "schema_version": 3,
     "solution": false,
     "task": false
    }
   },
   "source": [
    "**Exercice :** Résumez ici les performances obtenues, tout d'abord\n",
    "avec votre référence, puis avec les variantes que vous aurez explorées\n",
    "en changeant d'attributs et de classificateur. Puis vous commenterez sur\n",
    "la difficulté du problème ainsi que les pistes possibles pour obtenir\n",
    "de meilleures performances, ou pour généraliser le problème."
   ]
  },
  {
   "cell_type": "markdown",
   "id": "3707ce64",
   "metadata": {
    "nbgrader": {
     "cell_type": "markdown",
     "checksum": "989bef7b6f89f347f62e28548439cfad",
     "grade": true,
     "grade_id": "cell-8676a3839d9b5559",
     "locked": false,
     "points": 5,
     "schema_version": 3,
     "solution": true,
     "task": false
    }
   },
   "source": [
    "VOTRE RÉPONSE ICI"
   ]
  },
  {
   "cell_type": "markdown",
   "id": "6050c20d",
   "metadata": {
    "nbgrader": {
     "cell_type": "markdown",
     "checksum": "46043f1af5a2a64d6905b99242017ce0",
     "grade": false,
     "grade_id": "cell-df1f1b0b05e548d5",
     "locked": false,
     "schema_version": 3,
     "solution": false,
     "task": false
    }
   },
   "source": [
    "**Exercice :** Complétez votre rapport (Semaine 4/Semaine5)"
   ]
  }
 ],
 "metadata": {
  "jupytext": {
   "text_representation": {
    "extension": ".md",
    "format_name": "myst",
    "format_version": 0.13,
    "jupytext_version": "1.11.5"
   }
  },
  "kernelspec": {
   "display_name": "Python 3 (ipykernel)",
   "language": "python",
   "name": "python3"
  },
  "language_info": {
   "codemirror_mode": {
    "name": "ipython",
    "version": 3
   },
   "file_extension": ".py",
   "mimetype": "text/x-python",
   "name": "python",
   "nbconvert_exporter": "python",
   "pygments_lexer": "ipython3",
   "version": "3.9.7"
  }
 },
 "nbformat": 4,
 "nbformat_minor": 5
}
