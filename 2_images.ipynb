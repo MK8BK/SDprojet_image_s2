{
 "cells": [
  {
   "cell_type": "markdown",
   "id": "9cc75591",
   "metadata": {
    "deletable": false,
    "editable": false,
    "nbgrader": {
     "cell_type": "markdown",
     "checksum": "ba540a64a5c4b5b4f5bf9318ad3609d7",
     "grade": false,
     "grade_id": "cell-19c6eb4994e2384a",
     "locked": true,
     "schema_version": 3,
     "solution": false
    }
   },
   "source": [
    "# Manipuler des images"
   ]
  },
  {
   "cell_type": "markdown",
   "id": "d424b90e",
   "metadata": {
    "deletable": false,
    "editable": false,
    "nbgrader": {
     "cell_type": "markdown",
     "checksum": "138e81de66ad722b010616492ed9ae22",
     "grade": false,
     "grade_id": "cell-19c6eb4994e2384b",
     "locked": true,
     "schema_version": 3,
     "solution": false,
     "task": false
    }
   },
   "source": [
    "Dans cette feuille, vous allez apprendre à effectuer quelques\n",
    "manipulations et traitements simples sur les images.  Nous allons\n",
    "commencer par nous entrainer sur une image riche en couleurs (source:\n",
    "[wikimedia](https://commons.wikimedia.org/wiki/File:Apple_icon_2.png)).\n",
    "\n",
    "<center>\n",
    "\n",
    "<img src=\"media/apple.png\" width=\"40px\">\n",
    "\n",
    "</center>\n",
    "\n",
    "Pour cela, nous la chargeons avec la bibliothèque `PIL` (Python\n",
    "Imaging Library) en précisant le nom du fichier la contenant, puis\n",
    "l'affectons à une variable `img` pour pouvoir la manipuler par la\n",
    "suite:"
   ]
  },
  {
   "cell_type": "code",
   "execution_count": null,
   "id": "8fae5807",
   "metadata": {
    "deletable": false,
    "editable": false,
    "nbgrader": {
     "cell_type": "code",
     "checksum": "fc4316407949214dd25659ce94a2c8ff",
     "grade": false,
     "grade_id": "cell-38a01921463de697",
     "locked": true,
     "schema_version": 3,
     "solution": false
    }
   },
   "outputs": [],
   "source": [
    "from PIL import Image"
   ]
  },
  {
   "cell_type": "code",
   "execution_count": null,
   "id": "86da8e60",
   "metadata": {
    "deletable": false,
    "editable": false,
    "nbgrader": {
     "cell_type": "code",
     "checksum": "7cd24c6d30411319b4b3ad9ee00354fc",
     "grade": false,
     "grade_id": "cell-b5659c2e482c3848",
     "locked": true,
     "schema_version": 3,
     "solution": false
    }
   },
   "outputs": [],
   "source": [
    "img = Image.open(\"media/apple.png\")"
   ]
  },
  {
   "cell_type": "markdown",
   "id": "30abf253",
   "metadata": {
    "deletable": false,
    "editable": false,
    "nbgrader": {
     "cell_type": "markdown",
     "checksum": "2d659b6c78fbcb6dc4b70deb2c31d7bc",
     "grade": false,
     "grade_id": "cell-e75aecf3bd8946db",
     "locked": true,
     "schema_version": 3,
     "solution": false
    }
   },
   "source": [
    "Voici cette image:"
   ]
  },
  {
   "cell_type": "code",
   "execution_count": null,
   "id": "ec3207a7",
   "metadata": {
    "deletable": false,
    "editable": false,
    "nbgrader": {
     "cell_type": "code",
     "checksum": "b50b98470eb5f237c85aeee0a899fd14",
     "grade": false,
     "grade_id": "cell-5f412c59d2396365",
     "locked": true,
     "schema_version": 3,
     "solution": false
    }
   },
   "outputs": [],
   "source": [
    "img"
   ]
  },
  {
   "cell_type": "markdown",
   "id": "bc937209",
   "metadata": {
    "deletable": false,
    "editable": false,
    "nbgrader": {
     "cell_type": "markdown",
     "checksum": "e40db6e9befd8bd904ea5c08897869cf",
     "grade": false,
     "grade_id": "cell-450a9499627740e6",
     "locked": true,
     "schema_version": 3,
     "solution": false
    }
   },
   "source": [
    "Pour l'afficher avec des axes et -- lorsque l'image a une basse\n",
    "résolution -- mieux repérer les pixels individuels, on peut utiliser\n",
    "`matplotlib`:"
   ]
  },
  {
   "cell_type": "code",
   "execution_count": null,
   "id": "8fe6d570",
   "metadata": {
    "deletable": false,
    "editable": false,
    "nbgrader": {
     "cell_type": "code",
     "checksum": "10493e3d9ca1f599aa7c62052f5abf3b",
     "grade": false,
     "grade_id": "cell-1b1461380b6fef35",
     "locked": true,
     "schema_version": 3,
     "solution": false
    }
   },
   "outputs": [],
   "source": [
    "import matplotlib.pyplot as plt"
   ]
  },
  {
   "cell_type": "code",
   "execution_count": null,
   "id": "84b1f5c8",
   "metadata": {
    "deletable": false,
    "editable": false,
    "nbgrader": {
     "cell_type": "code",
     "checksum": "1c892a66a9b93dd8f844691500a9461d",
     "grade": false,
     "grade_id": "cell-1b1461380b6fef36",
     "locked": true,
     "schema_version": 3,
     "solution": false
    }
   },
   "outputs": [],
   "source": [
    "plt.imshow(img);"
   ]
  },
  {
   "cell_type": "markdown",
   "id": "121d3b4a",
   "metadata": {
    "deletable": false,
    "editable": false,
    "nbgrader": {
     "cell_type": "markdown",
     "checksum": "3803ada3c4741bab144abcc218865be2",
     "grade": false,
     "grade_id": "cell-b74d7516557d88dd",
     "locked": true,
     "schema_version": 3,
     "solution": false,
     "task": false
    }
   },
   "source": [
    "<div class=\"alert alert-info\">\n",
    "\n",
    "Pourquoi un `;` à la fin de la commande précédente?  Parce que\n",
    "`plt.imshow` ne renvoie pas une image, mais l'affiche par effet de\n",
    "bord. Le `;` évite l'affichage de ce que renvoie vraiment `plt.imshow`\n",
    "(un objet de type figure).\n",
    "\n",
    "Cette approche quelque peu datée est traditionnelle dans des systèmes\n",
    "comme `Matlab`. La bibliothèque `matplotlib.pyplot` l'a reproduit pour\n",
    "faciliter la migration d'utilisateurs de ces systèmes. Par habitude\n",
    "beaucoup d'exemples sur internet utilisent encore cette approche; cela\n",
    "peut rester pratique comme raccourci dans des exemples en une ligne\n",
    "comme ci-dessus.\n",
    "\n",
    "Mais on sait depuis -- et c'est ce que nous vous enseignons depuis le\n",
    "début de l'année -- que l'on obtient du code beaucoup plus modulaire\n",
    "si l'on sépare proprement les traitements et calculs (par exemple\n",
    "construire une figure) des entrées et sorties (par exemple afficher la\n",
    "figure).\n",
    "\n",
    "De ce fait, pour tout usage non trivial, il est préférable d'utiliser\n",
    "l'interface objet de `matplotlib`, comme dans l'exemple suivant:\n",
    "    \n",
    "</div>"
   ]
  },
  {
   "cell_type": "code",
   "execution_count": null,
   "id": "e6ceffe9",
   "metadata": {
    "deletable": false,
    "editable": false,
    "nbgrader": {
     "cell_type": "code",
     "checksum": "4296a87605d5600bd42c2ec885c8b47b",
     "grade": false,
     "grade_id": "cell-811d54735c3ff4e5",
     "locked": true,
     "schema_version": 3,
     "solution": false,
     "task": false
    }
   },
   "outputs": [],
   "source": [
    "from matplotlib.figure import Figure"
   ]
  },
  {
   "cell_type": "code",
   "execution_count": null,
   "id": "11a1b182",
   "metadata": {
    "deletable": false,
    "editable": false,
    "nbgrader": {
     "cell_type": "code",
     "checksum": "b4f1aba47e03a2738c7446c1894a2ddf",
     "grade": false,
     "grade_id": "cell-0c1a66846231a7bb",
     "locked": true,
     "schema_version": 3,
     "solution": false,
     "task": false
    }
   },
   "outputs": [],
   "source": [
    "fig = Figure()              # Construction d'une nouvelle figure\n",
    "subplot = fig.add_subplot() # Ajout d'une zone de dessin (appelée «axes» dans matplotlib) à la figure\n",
    "subplot.imshow(img)         # Ajout d'une image à la zone de dessin\n",
    "fig                         # Affichage de la figure"
   ]
  },
  {
   "cell_type": "markdown",
   "id": "342d1c23",
   "metadata": {
    "deletable": false,
    "editable": false,
    "nbgrader": {
     "cell_type": "markdown",
     "checksum": "a1395327180c929e710c10338ec18529",
     "grade": false,
     "grade_id": "cell-67d310808fac6650",
     "locked": true,
     "schema_version": 3,
     "solution": false
    }
   },
   "source": [
    "Consultez la documentation de **PIL Image** sur internet, pour trouver\n",
    "comment obtenir la largeur et la hauteur de cette image. Stockez le\n",
    "résultat dans des variables `width` et `height` et vérifiez la\n",
    "cohérence avec la figure ci-dessus."
   ]
  },
  {
   "cell_type": "code",
   "execution_count": null,
   "id": "6ae6dc3b",
   "metadata": {
    "deletable": false,
    "nbgrader": {
     "cell_type": "code",
     "checksum": "5f64330480b818bdd50bc813a78c953e",
     "grade": false,
     "grade_id": "cell-46598b84e0c79fc6",
     "locked": false,
     "schema_version": 3,
     "solution": true,
     "task": false
    }
   },
   "outputs": [],
   "source": [
    "width,height = img.width,img.height"
   ]
  },
  {
   "cell_type": "code",
   "execution_count": null,
   "id": "80c7b70d",
   "metadata": {
    "deletable": false,
    "editable": false,
    "nbgrader": {
     "cell_type": "code",
     "checksum": "727a5f8f2c889479e7681bff4e7b22f4",
     "grade": true,
     "grade_id": "cell-c6bfc2a73d6866ce",
     "locked": true,
     "points": 1,
     "schema_version": 3,
     "solution": false,
     "task": false
    }
   },
   "outputs": [],
   "source": [
    "assert width == 256\n",
    "assert height == 256"
   ]
  },
  {
   "cell_type": "markdown",
   "id": "3887162b",
   "metadata": {
    "deletable": false,
    "editable": false,
    "nbgrader": {
     "cell_type": "markdown",
     "checksum": "5aa69c14fc4e4590042c8e5692162775",
     "grade": false,
     "grade_id": "cell-5aa2ff2d91d5b0b3",
     "locked": true,
     "schema_version": 3,
     "solution": false
    }
   },
   "source": [
    "## Images comme tableaux\n",
    "\n",
    "On souhaite maintenant pouvoir accéder au contenu de l'image pour\n",
    "pouvoir calculer avec. Pour cela, nous allons convertir l'image en un\n",
    "tableau de nombres `NumPy`, tels ceux que nous avons manipulés dans la\n",
    "[fiche précédente](1_tableaux.md).\n",
    "\n",
    "Voici le tableau associé à l'image:"
   ]
  },
  {
   "cell_type": "code",
   "execution_count": null,
   "id": "87489f67",
   "metadata": {
    "deletable": false,
    "editable": false,
    "nbgrader": {
     "cell_type": "code",
     "checksum": "bbb2d1e391bf0019b32da5b93f05a5b1",
     "grade": false,
     "grade_id": "cell-8f62152c1e513665",
     "locked": true,
     "schema_version": 3,
     "solution": false,
     "task": false
    }
   },
   "outputs": [],
   "source": [
    "import numpy as np"
   ]
  },
  {
   "cell_type": "code",
   "execution_count": null,
   "id": "6ca00b5b",
   "metadata": {
    "deletable": false,
    "editable": false,
    "nbgrader": {
     "cell_type": "code",
     "checksum": "14c2ac7ae3388ba529818944cb00339a",
     "grade": false,
     "grade_id": "cell-f1cf391e96f32f52",
     "locked": true,
     "schema_version": 3,
     "solution": false
    }
   },
   "outputs": [],
   "source": [
    "M = np.array(img)"
   ]
  },
  {
   "cell_type": "markdown",
   "id": "4d442b04",
   "metadata": {
    "deletable": false,
    "nbgrader": {
     "cell_type": "markdown",
     "checksum": "fb79bd105e1614d14f1c213fe77ee593",
     "grade": true,
     "grade_id": "cell-1a34fbbc93618b40",
     "locked": false,
     "points": 0,
     "schema_version": 3,
     "solution": true,
     "task": false
    }
   },
   "source": [
    "En vous référant éventuellement au cours, combien de lignes, de\n",
    "colonnes et de couches devrait avoir ce tableau?\n",
    "\n",
    "Ce tableau devrait avoir 3 couches de respectivement longueur 256,256, et 4.\n",
    "Il y a 256 lignes pour la hauteur, 256 colonnes pour la largeur et 4 pour les couches rgb + alpha.\n",
    "\n",
    "Vérifier avec l'attribut `shape`:"
   ]
  },
  {
   "cell_type": "code",
   "execution_count": null,
   "id": "c98e5d7e",
   "metadata": {
    "deletable": false,
    "nbgrader": {
     "cell_type": "code",
     "checksum": "e140345b84ee387f100b616722aa249d",
     "grade": false,
     "grade_id": "cell-f3258fc6004a71d6",
     "locked": false,
     "schema_version": 3,
     "solution": true
    }
   },
   "outputs": [],
   "source": [
    "M.shape"
   ]
  },
  {
   "cell_type": "markdown",
   "id": "586f1e9e",
   "metadata": {
    "deletable": false,
    "editable": false,
    "nbgrader": {
     "cell_type": "markdown",
     "checksum": "28ce720e19aa96998b118b7f225a0a8d",
     "grade": false,
     "grade_id": "cell-397f146412f6fb75",
     "locked": true,
     "schema_version": 3,
     "solution": false
    }
   },
   "source": [
    "Pourquoi quatre couches? Rouge, Vert, Bleu, ... et transparence!"
   ]
  },
  {
   "cell_type": "markdown",
   "id": "f6d191bd",
   "metadata": {
    "deletable": false,
    "editable": false,
    "nbgrader": {
     "cell_type": "markdown",
     "checksum": "9ee110b88a5ebad3e627effe4d6182fc",
     "grade": false,
     "grade_id": "cell-397f146412f6fb76",
     "locked": true,
     "schema_version": 3,
     "solution": false
    }
   },
   "source": [
    "### Comprendre les couches de couleurs\n",
    "\n",
    "Comme toujours, pour mieux comprendre des données, il faut les\n",
    "visualiser !  Voici une figure représentant notre image et ses trois\n",
    "couches rouge, vert, bleu.  Observez comment les couleurs de l'image\n",
    "de départ (blanc, vert, noir, rouge) se décomposent dans les\n",
    "différentes couches."
   ]
  },
  {
   "cell_type": "code",
   "execution_count": null,
   "id": "bdad84f2",
   "metadata": {
    "deletable": false,
    "editable": false,
    "nbgrader": {
     "cell_type": "code",
     "checksum": "bcf0dc465bbe1270b29f119b907ad266",
     "grade": false,
     "grade_id": "cell-49b556a7e4717b09",
     "locked": true,
     "schema_version": 3,
     "solution": false,
     "task": false
    }
   },
   "outputs": [],
   "source": [
    "# Échelles de couleur (colormap) allant du noir à la couleur primaire correspondante\n",
    "from matplotlib.colors import LinearSegmentedColormap\n",
    "black_red_cmap   = LinearSegmentedColormap.from_list('black_red_cmap',   [\"black\", \"red\"])\n",
    "black_green_cmap = LinearSegmentedColormap.from_list('black_green_cmap', [\"black\", \"green\"])\n",
    "black_blue_cmap  = LinearSegmentedColormap.from_list('black_blue_cmap',  [\"black\", \"blue\"])\n",
    "\n",
    "fig = Figure(figsize=(30, 5));\n",
    "(subplot, subplotr, subplotg, subplotb) = fig.subplots(1, 4)  # Quatre zones de dessin\n",
    "# Dessin de l'image et de ses trois couches\n",
    "subplot.imshow(M)\n",
    "imgr = subplotr.imshow(M[:,:,0], cmap=black_red_cmap,   vmin=0, vmax=255)\n",
    "imgg = subplotg.imshow(M[:,:,1], cmap=black_green_cmap, vmin=0, vmax=255)\n",
    "imgb = subplotb.imshow(M[:,:,2], cmap=black_blue_cmap,  vmin=0, vmax=255)\n",
    "# Ajout des barres d'échelle de couleur aux images\n",
    "fig.colorbar(imgr, ax=subplotr);\n",
    "fig.colorbar(imgg, ax=subplotg);\n",
    "fig.colorbar(imgb, ax=subplotb);\n",
    "fig"
   ]
  },
  {
   "cell_type": "markdown",
   "id": "054cd032",
   "metadata": {
    "deletable": false,
    "editable": false,
    "nbgrader": {
     "cell_type": "markdown",
     "checksum": "0952a2aee87dfc8f42249da7a93be7af",
     "grade": false,
     "grade_id": "cell-953569768ed43403",
     "locked": true,
     "schema_version": 3,
     "solution": false,
     "task": false
    }
   },
   "source": [
    "Par la suite, nous visualiserons de même de nombreuses images.  Il est\n",
    "donc temps d'automatiser la construction de la figure ci-dessus.\n",
    "Ouvrez le fichier `utilities.py` et complétez-y la fonction\n",
    "`show_color_channels` à partir du code ci-dessus."
   ]
  },
  {
   "cell_type": "code",
   "execution_count": null,
   "id": "24514135",
   "metadata": {
    "deletable": false,
    "editable": false,
    "nbgrader": {
     "cell_type": "code",
     "checksum": "2ff5cc35f9bfa4bef51c1ac39bd84ce5",
     "grade": false,
     "grade_id": "cell-40f2b1ca26aac943",
     "locked": true,
     "schema_version": 3,
     "solution": false,
     "task": false
    }
   },
   "outputs": [],
   "source": [
    "# Automatically reload code when changes are made\n",
    "%load_ext autoreload\n",
    "%autoreload 2\n",
    "from utilities import *"
   ]
  },
  {
   "cell_type": "code",
   "execution_count": null,
   "id": "ace953fc",
   "metadata": {
    "deletable": false,
    "editable": false,
    "nbgrader": {
     "cell_type": "code",
     "checksum": "9f2425888eb560cc5960d99333f9763e",
     "grade": false,
     "grade_id": "cell-f01f30acda19b78b",
     "locked": true,
     "schema_version": 3,
     "solution": false,
     "task": false
    }
   },
   "outputs": [],
   "source": [
    "show_source(show_color_channels)"
   ]
  },
  {
   "cell_type": "code",
   "execution_count": null,
   "id": "3dd0aecf",
   "metadata": {
    "deletable": false,
    "editable": false,
    "nbgrader": {
     "cell_type": "code",
     "checksum": "9ad91a641c3bf70ea432483f5d39ff4b",
     "grade": true,
     "grade_id": "cell-66040947f316edfb",
     "locked": true,
     "points": 1,
     "schema_version": 3,
     "solution": false,
     "task": false
    }
   },
   "outputs": [],
   "source": [
    "show_color_channels(img)"
   ]
  },
  {
   "cell_type": "markdown",
   "id": "7d333fdb",
   "metadata": {
    "deletable": false,
    "editable": false,
    "nbgrader": {
     "cell_type": "markdown",
     "checksum": "b3ae860daf9ea17e4e03590118be55dc",
     "grade": false,
     "grade_id": "cell-fda75a63d59e2209",
     "locked": true,
     "schema_version": 3,
     "solution": false,
     "task": false
    }
   },
   "source": [
    "Vérification: `show_color_channels` renvoie bien une figure"
   ]
  },
  {
   "cell_type": "code",
   "execution_count": null,
   "id": "3ac543bf",
   "metadata": {
    "deletable": false,
    "editable": false,
    "nbgrader": {
     "cell_type": "code",
     "checksum": "cb8ea7ebed14f226e1daef4773e4ea17",
     "grade": true,
     "grade_id": "cell-80328561c59cf158",
     "locked": true,
     "points": 1,
     "schema_version": 3,
     "solution": false,
     "task": false
    }
   },
   "outputs": [],
   "source": [
    "assert isinstance(show_color_channels(img), Figure)"
   ]
  },
  {
   "cell_type": "markdown",
   "id": "78c169eb",
   "metadata": {
    "deletable": false,
    "editable": false,
    "nbgrader": {
     "cell_type": "markdown",
     "checksum": "f7bd8a7b56a3821945eb64ca61b1cebd",
     "grade": false,
     "grade_id": "cell-0cf719f423e37ef5",
     "locked": true,
     "schema_version": 3,
     "solution": false,
     "task": false
    }
   },
   "source": [
    "Étudions maintenant les images du jeu de données de la semaine\n",
    "dernière:"
   ]
  },
  {
   "cell_type": "code",
   "execution_count": null,
   "id": "43a4e712",
   "metadata": {
    "deletable": false,
    "editable": false,
    "nbgrader": {
     "cell_type": "code",
     "checksum": "e837e4e3a7733f0d0c9ef3a09441eee0",
     "grade": false,
     "grade_id": "cell-1c62320d37fe2e8f",
     "locked": true,
     "schema_version": 3,
     "solution": false,
     "task": false
    }
   },
   "outputs": [],
   "source": [
    "from intro_science_donnees import data\n",
    "import os.path\n",
    "dataset_dir = os.path.join(data.dir, 'ApplesAndBananasSimple')\n",
    "images = load_images(dataset_dir, \"*.png\")"
   ]
  },
  {
   "cell_type": "code",
   "execution_count": null,
   "id": "d4768ca6",
   "metadata": {
    "deletable": false,
    "editable": false,
    "nbgrader": {
     "cell_type": "code",
     "checksum": "b1f6c574776c5e7928f57c3f9b898b58",
     "grade": false,
     "grade_id": "cell-a7f1576c7b9d8917",
     "locked": true,
     "schema_version": 3,
     "solution": false,
     "task": false
    }
   },
   "outputs": [],
   "source": [
    "image_grid(images, titles=images.index)"
   ]
  },
  {
   "cell_type": "markdown",
   "id": "c9c95e02",
   "metadata": {
    "deletable": false,
    "nbgrader": {
     "cell_type": "markdown",
     "checksum": "6d412af1655928f00c73b0e5d74076d8",
     "grade": true,
     "grade_id": "cell-9f449b989ea74be6",
     "locked": false,
     "points": 0,
     "schema_version": 3,
     "solution": true,
     "task": false
    }
   },
   "source": [
    "Observez l'image suivante et ses couches. Expliquez ce que vous\n",
    "voyez. Essayez d'autres exemples.\n",
    "\n",
    "On voit ci-dessous les 4 couches RGB + alpha d'une banane.On constate que la proportion de bleu des bananes est assez comparée à celle du rouge et du vert."
   ]
  },
  {
   "cell_type": "code",
   "execution_count": null,
   "id": "6a238104",
   "metadata": {},
   "outputs": [],
   "source": [
    "img = images[10]\n",
    "show_color_channels(img)"
   ]
  },
  {
   "cell_type": "markdown",
   "id": "c8e0234d",
   "metadata": {
    "deletable": false,
    "editable": false,
    "nbgrader": {
     "cell_type": "markdown",
     "checksum": "12b7f4e53942fba1052f2d8c5ace6a4c",
     "grade": false,
     "grade_id": "cell-291f681a5aab593d",
     "locked": true,
     "schema_version": 3,
     "solution": false,
     "task": false
    }
   },
   "source": [
    "Nous allons maintenant observer l'**histogramme des couleurs**\n",
    "apparaissant dans une image, en utilisant l'utilitaire\n",
    "`color_histogram` (vous pouvez comme d'habitude en consulter la\n",
    "documentation et le code par introspection avec `color_histogram?` et\n",
    "`color_histogram??`):"
   ]
  },
  {
   "cell_type": "code",
   "execution_count": null,
   "id": "da8099b5",
   "metadata": {
    "deletable": false,
    "editable": false,
    "nbgrader": {
     "cell_type": "code",
     "checksum": "150948f151ad9f3824cbb0a43b071a9e",
     "grade": false,
     "grade_id": "cell-ed77018895a029a9",
     "locked": true,
     "schema_version": 3,
     "solution": false,
     "task": false
    }
   },
   "outputs": [],
   "source": [
    "color_histogram(img)"
   ]
  },
  {
   "cell_type": "markdown",
   "id": "dd93256a",
   "metadata": {
    "deletable": false,
    "nbgrader": {
     "cell_type": "markdown",
     "checksum": "7551c44a1beaaf93ac0bd48015ae90d7",
     "grade": true,
     "grade_id": "cell-a887ca1b2eac11df",
     "locked": false,
     "points": 2,
     "schema_version": 3,
     "solution": true,
     "task": false
    }
   },
   "source": [
    "Observez les histogrammes ci-dessous de la dixième et la troisième\n",
    "image, et interprétez-les.\n",
    "\n",
    "On constate que la proportion de bleu dans la pomme est aussi assez faible que celle dans la banane.\n",
    "Cependant les pommes semblent avoir une plus faible proportion de rouge et vert que l'image de la banane ci-dessus.\n",
    "On peut donc en conclure que les bananes sont en moyenne plus jaune par rapport aux pommes."
   ]
  },
  {
   "cell_type": "code",
   "execution_count": null,
   "id": "ab0d1f2b",
   "metadata": {
    "deletable": false,
    "editable": false,
    "nbgrader": {
     "cell_type": "code",
     "checksum": "fe1db908c96b5fabf540deecbd4de345",
     "grade": false,
     "grade_id": "cell-3828ddf071670eff",
     "locked": true,
     "schema_version": 3,
     "solution": false,
     "task": false
    }
   },
   "outputs": [],
   "source": [
    "img = images[9]\n",
    "show_color_channels(img)"
   ]
  },
  {
   "cell_type": "code",
   "execution_count": null,
   "id": "23a5d519",
   "metadata": {
    "deletable": false,
    "editable": false,
    "nbgrader": {
     "cell_type": "code",
     "checksum": "bb06a95dbdef21b812d75e4c3598e7d7",
     "grade": false,
     "grade_id": "cell-3d6d2c2781569087",
     "locked": true,
     "schema_version": 3,
     "solution": false,
     "task": false
    }
   },
   "outputs": [],
   "source": [
    "color_histogram(img)"
   ]
  },
  {
   "cell_type": "code",
   "execution_count": null,
   "id": "26801166",
   "metadata": {
    "deletable": false,
    "editable": false,
    "nbgrader": {
     "cell_type": "code",
     "checksum": "9eee30bb80b5461f77c8bab61aec3fa8",
     "grade": false,
     "grade_id": "cell-4f5ef22b7b70c0c8",
     "locked": true,
     "schema_version": 3,
     "solution": false,
     "task": false
    }
   },
   "outputs": [],
   "source": [
    "img = images[2]\n",
    "show_color_channels(img)"
   ]
  },
  {
   "cell_type": "code",
   "execution_count": null,
   "id": "d1559b8f",
   "metadata": {
    "deletable": false,
    "editable": false,
    "nbgrader": {
     "cell_type": "code",
     "checksum": "86bdf73b6de46bb6e03d27e2049141b2",
     "grade": false,
     "grade_id": "cell-7ef43bfaf750914f",
     "locked": true,
     "schema_version": 3,
     "solution": false,
     "task": false
    }
   },
   "outputs": [],
   "source": [
    "color_histogram(img)"
   ]
  },
  {
   "cell_type": "markdown",
   "id": "2ec659ec",
   "metadata": {
    "deletable": false,
    "editable": false,
    "nbgrader": {
     "cell_type": "markdown",
     "checksum": "6d2ac3d0585daa5448d3557fb35bfd64",
     "grade": false,
     "grade_id": "cell-5d6255f7be07beda",
     "locked": true,
     "schema_version": 3,
     "solution": false
    }
   },
   "source": [
    "## Séparation des couleurs\n",
    "\n",
    "Nous allons maintenant extraire les trois canaux, rouge, vert,\n",
    "bleu. Pour le canal des rouges, on extrait le sous-tableau à deux\n",
    "dimensions de toutes les cases d'indice $(i,j,k)$ avec $k=0$. Le \n",
    "`* 1.0` sert à convertir les valeurs en nombres à virgule."
   ]
  },
  {
   "cell_type": "code",
   "execution_count": null,
   "id": "255ae2b3",
   "metadata": {
    "deletable": false,
    "editable": false,
    "nbgrader": {
     "cell_type": "code",
     "checksum": "ebd7f3ac0452d4af2805ee65c072992a",
     "grade": false,
     "grade_id": "cell-dfe51efcf6df748b",
     "locked": true,
     "schema_version": 3,
     "solution": false
    }
   },
   "outputs": [],
   "source": [
    "R = M[:,:,0] * 1.0"
   ]
  },
  {
   "cell_type": "markdown",
   "id": "6890110a",
   "metadata": {
    "deletable": false,
    "editable": false,
    "nbgrader": {
     "cell_type": "markdown",
     "checksum": "1956de28640b45b1d33bca95a1ef2388",
     "grade": false,
     "grade_id": "cell-59920f8c83495b86",
     "locked": true,
     "schema_version": 3,
     "solution": false
    }
   },
   "source": [
    "Regarder le résultat directement n'est pas très informatif :"
   ]
  },
  {
   "cell_type": "code",
   "execution_count": null,
   "id": "07a3f48f",
   "metadata": {
    "deletable": false,
    "editable": false,
    "nbgrader": {
     "cell_type": "code",
     "checksum": "818ecd7d2413dbfd33d86b9a881f88b8",
     "grade": false,
     "grade_id": "cell-79a4159977138616",
     "locked": true,
     "schema_version": 3,
     "solution": false
    }
   },
   "outputs": [],
   "source": [
    "R"
   ]
  },
  {
   "cell_type": "markdown",
   "id": "6a81fa21",
   "metadata": {
    "deletable": false,
    "editable": false,
    "nbgrader": {
     "cell_type": "markdown",
     "checksum": "f78969aede85e0e0845474e62b274a2e",
     "grade": false,
     "grade_id": "cell-58b15c024481ac3d",
     "locked": true,
     "schema_version": 3,
     "solution": false
    }
   },
   "source": [
    "Comme d'habitude, il vaut mieux le *visualiser* :"
   ]
  },
  {
   "cell_type": "code",
   "execution_count": null,
   "id": "80852317",
   "metadata": {
    "deletable": false,
    "editable": false,
    "nbgrader": {
     "cell_type": "code",
     "checksum": "d3f8a542750fb667a0006e2731499d76",
     "grade": false,
     "grade_id": "cell-403d27ca87e158c3",
     "locked": true,
     "schema_version": 3,
     "solution": false
    }
   },
   "outputs": [],
   "source": [
    "fig = Figure(figsize=(5,5))\n",
    "ax, axr = fig.subplots(1,2)\n",
    "ax.imshow(M)\n",
    "axr.imshow(R, cmap='Greys_r', vmin=0, vmax=255)\n",
    "fig"
   ]
  },
  {
   "cell_type": "markdown",
   "id": "4a0bfaad",
   "metadata": {
    "deletable": false,
    "editable": false,
    "nbgrader": {
     "cell_type": "markdown",
     "checksum": "8e3aeda181502c4b98cf090b93c658b0",
     "grade": false,
     "grade_id": "cell-f5748504b4d52000",
     "locked": true,
     "schema_version": 3,
     "solution": false,
     "task": false
    }
   },
   "source": [
    "3. Extrayez de même le canal des verts et des bleus de la première\n",
    "   image dans les variables `G` et `B`. N'hésitez pas à les\n",
    "   visualiser !"
   ]
  },
  {
   "cell_type": "code",
   "execution_count": null,
   "id": "da2cd578",
   "metadata": {
    "deletable": false,
    "nbgrader": {
     "cell_type": "code",
     "checksum": "4a8122c4c580a5b05e206e7f9c293e27",
     "grade": false,
     "grade_id": "cell-2793bd4b1f83558d",
     "locked": false,
     "schema_version": 3,
     "solution": true,
     "task": false
    }
   },
   "outputs": [],
   "source": [
    "G = M[:,:,1]*1.0"
   ]
  },
  {
   "cell_type": "code",
   "execution_count": null,
   "id": "0f97ce11",
   "metadata": {},
   "outputs": [],
   "source": [
    "fig = Figure(figsize=(5,5))\n",
    "ax, axr = fig.subplots(1,2)\n",
    "ax.imshow(M)\n",
    "axr.imshow(G, cmap='Greys_r', vmin=0, vmax=255)\n",
    "fig"
   ]
  },
  {
   "cell_type": "code",
   "execution_count": null,
   "id": "d5fb624b",
   "metadata": {
    "deletable": false,
    "editable": false,
    "nbgrader": {
     "cell_type": "code",
     "checksum": "554525ffc81338eba8930f0cf73ca91e",
     "grade": true,
     "grade_id": "cell-841034979ffe6094",
     "locked": true,
     "points": 1,
     "schema_version": 3,
     "solution": false,
     "task": false
    }
   },
   "outputs": [],
   "source": [
    "assert G.shape == (256, 256)\n",
    "assert abs(G.mean() - 158.27) < 0.1"
   ]
  },
  {
   "cell_type": "code",
   "execution_count": null,
   "id": "bbbcb98f",
   "metadata": {
    "deletable": false,
    "nbgrader": {
     "cell_type": "code",
     "checksum": "d5674a0ca0b269969acab8dce9f40f5b",
     "grade": false,
     "grade_id": "cell-8baf6161cb011920",
     "locked": false,
     "schema_version": 3,
     "solution": true,
     "task": false
    }
   },
   "outputs": [],
   "source": [
    "B = M[:,:,2]*1.0"
   ]
  },
  {
   "cell_type": "code",
   "execution_count": null,
   "id": "7dbc868b",
   "metadata": {
    "deletable": false,
    "editable": false,
    "nbgrader": {
     "cell_type": "code",
     "checksum": "0026e93a099e056f8b2f5bb578ebf29b",
     "grade": true,
     "grade_id": "cell-841034979ffe6095",
     "locked": true,
     "points": 1,
     "schema_version": 3,
     "solution": false,
     "task": false
    }
   },
   "outputs": [],
   "source": [
    "assert B.shape == (256, 256)\n",
    "assert abs(B.mean() - 148.39) < 0.1"
   ]
  },
  {
   "cell_type": "code",
   "execution_count": null,
   "id": "5dc99530",
   "metadata": {},
   "outputs": [],
   "source": [
    "fig = Figure(figsize=(5,5))\n",
    "ax, axr = fig.subplots(1,2)\n",
    "ax.imshow(M)\n",
    "axr.imshow(B, cmap='Greys_r', vmin=0, vmax=255)\n",
    "fig"
   ]
  },
  {
   "cell_type": "markdown",
   "id": "b23485fd",
   "metadata": {
    "deletable": false,
    "editable": false,
    "nbgrader": {
     "cell_type": "markdown",
     "checksum": "a795bb7e0891ac3388498b32016ec6f1",
     "grade": false,
     "grade_id": "cell-233c14413c6e3e6f",
     "locked": true,
     "schema_version": 3,
     "solution": false
    }
   },
   "source": [
    "Il est maintenant facile de faire de l'arithmétique sur tous les\n",
    "pixels. Par exemple la somme des intensités en vert et rouge s'écrit:"
   ]
  },
  {
   "cell_type": "code",
   "execution_count": null,
   "id": "8862d8b9",
   "metadata": {
    "deletable": false,
    "editable": false,
    "nbgrader": {
     "cell_type": "code",
     "checksum": "8c5959d639d7951b07c72c42d2327905",
     "grade": false,
     "grade_id": "cell-0bd25c9e1e6c6abf",
     "locked": true,
     "schema_version": 3,
     "solution": false
    }
   },
   "outputs": [],
   "source": [
    "G + R"
   ]
  },
  {
   "cell_type": "markdown",
   "id": "afde5bc6",
   "metadata": {
    "deletable": false,
    "editable": false,
    "nbgrader": {
     "cell_type": "markdown",
     "checksum": "4b390ac4de603df043f512bda0464a39",
     "grade": false,
     "grade_id": "cell-5d168111627796e1",
     "locked": true,
     "schema_version": 3,
     "solution": false
    }
   },
   "source": [
    "### Exercice\n",
    "\n",
    "1. Calculez et visualisez la luminosité de tous les pixels de l'image,\n",
    "   la *luminosité* d'un pixel $(r,g,b)$ étant définie comme la moyenne\n",
    "   $v=\\frac{r+g+b}{3}$:"
   ]
  },
  {
   "cell_type": "code",
   "execution_count": null,
   "id": "c86eeb40",
   "metadata": {
    "deletable": false,
    "nbgrader": {
     "cell_type": "code",
     "checksum": "0cecbaebfce034e8a82b7e33a81f30ef",
     "grade": false,
     "grade_id": "cell-4956fa101f9c567c",
     "locked": false,
     "schema_version": 3,
     "solution": true,
     "task": false
    }
   },
   "outputs": [],
   "source": [
    "V = (R + G + B )/ 3"
   ]
  },
  {
   "cell_type": "code",
   "execution_count": null,
   "id": "96b294f3",
   "metadata": {},
   "outputs": [],
   "source": [
    "fig = Figure(figsize=(5,5))\n",
    "ax, axr = fig.subplots(1,2)\n",
    "ax.imshow(M)\n",
    "axr.imshow(V, cmap='Greys_r', vmin=0, vmax=255)\n",
    "fig"
   ]
  },
  {
   "cell_type": "code",
   "execution_count": null,
   "id": "7f293925",
   "metadata": {
    "deletable": false,
    "editable": false,
    "nbgrader": {
     "cell_type": "code",
     "checksum": "7c5e41e9533f15b0c0cca359420e2595",
     "grade": true,
     "grade_id": "cell-841034979ffe6096",
     "locked": true,
     "points": 1,
     "schema_version": 3,
     "solution": false,
     "task": false
    }
   },
   "outputs": [],
   "source": [
    "assert V.shape == (256, 256)\n",
    "assert abs(V.mean() - 172.44) < 0.1"
   ]
  },
  {
   "cell_type": "markdown",
   "id": "648c8420",
   "metadata": {
    "deletable": false,
    "editable": false,
    "nbgrader": {
     "cell_type": "markdown",
     "checksum": "f52b82486f95773b2b9c2e42805e921c",
     "grade": false,
     "grade_id": "cell-5d168111627796e2",
     "locked": true,
     "schema_version": 3,
     "solution": false
    }
   },
   "source": [
    "Vous venez de transformer l'image en niveaux de gris! Pour que cela\n",
    "colle au mieux avec notre perception visuelle, il faudrait en fait\n",
    "utiliser une moyenne légèrement pondérée; voir par exemple la\n",
    "[Wikipedia](https://fr.wikipedia.org/wiki/Niveau_de_gris#Convertir_une_image_couleur_en_niveau_de_gris)."
   ]
  },
  {
   "cell_type": "markdown",
   "id": "140c6f62",
   "metadata": {},
   "source": [
    "Niveau de gris pondérée"
   ]
  },
  {
   "cell_type": "code",
   "execution_count": null,
   "id": "5dd6e0e7",
   "metadata": {},
   "outputs": [],
   "source": [
    "V = (0.2126*R + 0.7152*G + 0.0722*B)/3"
   ]
  },
  {
   "cell_type": "code",
   "execution_count": null,
   "id": "bccb1542",
   "metadata": {},
   "outputs": [],
   "source": [
    "fig = Figure(figsize=(5,5))\n",
    "ax, axr = fig.subplots(1,2)\n",
    "ax.imshow(M)\n",
    "axr.imshow(V, cmap='Greys_r', vmin=0, vmax=255)\n",
    "fig"
   ]
  },
  {
   "cell_type": "markdown",
   "id": "c0a750e3",
   "metadata": {
    "deletable": false,
    "editable": false,
    "nbgrader": {
     "cell_type": "markdown",
     "checksum": "30c16d9adb27d75aedf0007e8bf4276f",
     "grade": false,
     "grade_id": "cell-d0fb04b5c7bf1744",
     "locked": true,
     "schema_version": 3,
     "solution": false
    }
   },
   "source": [
    "## Conclusion\n",
    "\n",
    "Vous avons vu dans cette feuille comment charger une image dans Python\n",
    "et effectuer quelques manipulations, visualisations et calculs simples\n",
    "dessus. Cela a été l'occasion de mieux comprendre la décomposition\n",
    "d'une image en couches de couleur.\n",
    "\n",
    "**Exercice :** Mettez à jour votre rapport, et notamment la section\n",
    "« revue de code » pour vérifier vos utilitaires dans\n",
    "<a href=\"utilities.py\">utilities.py</a>.\n",
    "\n",
    "Vous pouvez maintenant passer à\n",
    "l'[extraction d'attributs](3_extraction_d_attributs.md)"
   ]
  }
 ],
 "metadata": {
  "jupytext": {
   "text_representation": {
    "extension": ".md",
    "format_name": "myst",
    "format_version": 0.13,
    "jupytext_version": "1.11.5"
   }
  },
  "kernelspec": {
   "display_name": "Python 3 (ipykernel)",
   "language": "python",
   "name": "python3"
  }
 },
 "nbformat": 4,
 "nbformat_minor": 5
}
